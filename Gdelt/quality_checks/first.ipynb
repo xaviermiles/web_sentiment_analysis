{
 "cells": [
  {
   "cell_type": "code",
   "execution_count": 1,
   "id": "de90c235-b90c-4b37-909f-f907508f5d8e",
   "metadata": {},
   "outputs": [],
   "source": [
    "import pandas as pd\n",
    "import s3fs\n",
    "import boto3, botocore\n",
    "\n",
    "# local:\n",
    "import s3_config"
   ]
  },
  {
   "cell_type": "code",
   "execution_count": 2,
   "id": "f1595fa3-1716-408c-b1af-c04ef4cf821c",
   "metadata": {},
   "outputs": [],
   "source": [
    "fs = s3fs.core.S3FileSystem(anon=False, profile=s3_config.normal_role)\n",
    "\n",
    "headers = [\n",
    "    'gkg_id', 'date', 'source', 'source_name', 'doc_id', \n",
    "    'themes', 'locations', 'persons', 'orgs', \n",
    "    'tone', 'pos', 'neg', 'polarity', 'ard', 'srd',\n",
    "    'wc', \n",
    "    'lexicode_neg', 'lexicode_pos', # c3.*\n",
    "    'MACROECONOMICS', 'ENERGY', 'FISHERIES', \n",
    "    'TRANSPORTATION', 'CRIME', 'SOCIAL_WELFARE',\n",
    "    'HOUSING', 'FINANCE', 'DEFENCE', 'SSTC',\n",
    "    'FOREIGN_TRADE', 'CIVIL_RIGHTS', \n",
    "    'INTL_AFFAIRS', 'GOVERNMENT_OPS',\n",
    "    'LAND-WATER-MANAGEMENT', 'CULTURE',\n",
    "    'PROV_LOCAL', 'INTERGOVERNMENTAL',\n",
    "    'CONSTITUTIONAL_NATL_UNITY', 'ABORIGINAL',\n",
    "    'RELIGION', 'HEALTHCARE', 'AGRICULTURE',\n",
    "    'FORESTRY', 'LABOUR', 'IMMIGRATION',\n",
    "    'EDUCATION', 'ENVIRONMENT',\n",
    "    'finstab_pos', 'finstab_neg', 'finstab_neutral',\n",
    "    'finsent_neg', 'finsent_pos', 'finsent_unc',\n",
    "    'opin_neg', 'opin_pos',\n",
    "    'sent_pos', 'sent_neg', 'sent_pol'\n",
    "]"
   ]
  },
  {
   "cell_type": "code",
   "execution_count": null,
   "id": "59c25291-5806-4bd0-bc89-492200943636",
   "metadata": {},
   "outputs": [],
   "source": [
    "%%time\n",
    "with fs.open(\"s3://statsnz-covid-xmiles/merged_gdelt/gdelt-nz-18-21.csv\") as f:\n",
    "    nz = pd.read_csv(f)\n",
    "nz.columns = headers"
   ]
  },
  {
   "cell_type": "code",
   "execution_count": null,
   "id": "9eb08b9e-2d57-407f-9218-493ef16c2152",
   "metadata": {},
   "outputs": [],
   "source": []
  }
 ],
 "metadata": {
  "kernelspec": {
   "display_name": "Python 3 (ipykernel)",
   "language": "python",
   "name": "python3"
  },
  "language_info": {
   "codemirror_mode": {
    "name": "ipython",
    "version": 3
   },
   "file_extension": ".py",
   "mimetype": "text/x-python",
   "name": "python",
   "nbconvert_exporter": "python",
   "pygments_lexer": "ipython3",
   "version": "3.8.10"
  }
 },
 "nbformat": 4,
 "nbformat_minor": 5
}
