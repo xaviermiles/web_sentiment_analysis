{
 "cells": [
  {
   "cell_type": "code",
   "execution_count": 1,
   "id": "greatest-humanity",
   "metadata": {},
   "outputs": [
    {
     "name": "stdout",
     "output_type": "stream",
     "text": [
      "Python implementation: CPython\n",
      "Python version       : 3.8.5\n",
      "IPython version      : 7.13.0\n",
      "\n",
      "numpy : 1.19.5\n",
      "pandas: 1.2.3\n",
      "\n"
     ]
    }
   ],
   "source": [
    "%reload_ext watermark\n",
    "%watermark -v -p numpy,pandas\n",
    "import requests\n",
    "from operator import itemgetter\n",
    "import requests, zipfile, io, csv\n",
    "# from pathos.pools import ProcessPool\n",
    "import random\n",
    "import os.path\n",
    "import concurrent.futures\n",
    "import pandas as pd\n",
    "import re\n",
    "import numpy as np\n",
    "import pandas as pd\n",
    "import matplotlib.pyplot as plt\n",
    "from urllib import parse\n",
    "from collections import Counter\n",
    "import requests\n",
    "from io import StringIO\n",
    "import seaborn as sns\n",
    "import spacy\n",
    "from spacy import displacy\n",
    "import nltk\n",
    "import matplotlib.ticker as ticker\n",
    "import spacy\n",
    "nlp = spacy.load('en_core_web_lg')\n",
    "import itertools\n",
    "pd.set_option('display.max_columns', 150)\n"
   ]
  },
  {
   "cell_type": "code",
   "execution_count": 7,
   "id": "silver-subcommittee",
   "metadata": {},
   "outputs": [],
   "source": [
    "df = pd.read_csv(\"../LOOKUP-GKGTHEMES.csv\", delimiter= '\\t', names=['themes', 'id'])\n",
    "df.themes = df.themes.str.lower()\n",
    "df.themes = df.themes.str.split('_')\n",
    "df.themes = df.themes.dropna()"
   ]
  },
  {
   "cell_type": "markdown",
   "id": "commercial-dream",
   "metadata": {},
   "source": [
    "#### Method 1 - ctrl + F "
   ]
  },
  {
   "cell_type": "code",
   "execution_count": 12,
   "id": "liquid-substitute",
   "metadata": {
    "collapsed": true,
    "jupyter": {
     "outputs_hidden": true
    },
    "tags": []
   },
   "outputs": [
    {
     "data": {
      "text/plain": [
       "['econ_cost_of_living',\n",
       " 'ungp_phone_internet_access_cost',\n",
       " 'econ_transport_cost',\n",
       " 'tax_fncact_costume_designer',\n",
       " 'wb_2293_cost_oil',\n",
       " 'tax_ethnicity_costa_ricans',\n",
       " 'tax_religion_pentecostals',\n",
       " 'tax_religion_pentecostalism',\n",
       " 'tax_fncact_costermonger',\n",
       " 'econ_worldcurrencies_costa_rican_colon',\n",
       " 'tax_religion_pentecostalists',\n",
       " 'tax_religion_pentecostalist',\n",
       " 'tax_disease_costochondritis',\n",
       " 'tax_religion_sudan_pentecostal_church',\n",
       " 'tax_disease_costello_syndrome',\n",
       " 'econ_worldcurrencies_costa_rican_colones',\n",
       " 'tax_worldbirds_costa_hummingbird',\n",
       " 'tax_worldbirds_costa_hummingbirds',\n",
       " 'wb_3023_economic_cost_of_disease',\n",
       " 'econ_worldcurrencies_costa_rican_colons',\n",
       " 'tax_worldlanguages_costa_rican_sign_language',\n",
       " 'wb_2644_tax_compliance_cost_surveys',\n",
       " 'tax_disease_costochrondritis',\n",
       " 'tax_disease_corticosteroidbinding_globulin',\n",
       " 'tax_disease_corticosteroidinduced_glaucoma',\n",
       " 'wb_1487_cost_benefit_analysis_of_education',\n",
       " 'tax_disease_cerebrocostomandibular_syndrome',\n",
       " 'tax_disease_spondylocostal_dysostosis']"
      ]
     },
     "execution_count": 12,
     "metadata": {},
     "output_type": "execute_result"
    }
   ],
   "source": [
    "j= []\n",
    "for i,l in enumerate(df.themes):\n",
    "    for x in l:\n",
    "        if 'cost' in x:\n",
    "#             print(l, i)\n",
    "            j.append(i)\n",
    "df.iloc[j].themes.apply(lambda x: '_'.join(x)).tolist()"
   ]
  },
  {
   "cell_type": "markdown",
   "id": "about-cisco",
   "metadata": {},
   "source": [
    "#### Method 2 - NLP"
   ]
  },
  {
   "cell_type": "code",
   "execution_count": 9,
   "id": "african-cabin",
   "metadata": {},
   "outputs": [],
   "source": [
    "# %prun list2 = ['coronavirus', 'pandemic']\n",
    "# list2 = ['vaccination', 'coronavirus']\n",
    "list2 = ['wellbeing']                                            # keyword of interest\n",
    "doc2 = [nlp(y) for y in list2]                    "
   ]
  },
  {
   "cell_type": "code",
   "execution_count": 10,
   "id": "several-sweet",
   "metadata": {},
   "outputs": [],
   "source": [
    "def theme(y):\n",
    "    doc1 = [nlp(x) for x in y]\n",
    "    d = [[[y.similarity(x1)>0.6 for y in doc2]for x1 in x] for x in doc1]                 # set threshold - 0.6\n",
    "    if True in list(itertools.chain(*list(itertools.chain(*d)))):\n",
    "        return y"
   ]
  },
  {
   "cell_type": "code",
   "execution_count": null,
   "id": "reserved-township",
   "metadata": {},
   "outputs": [],
   "source": [
    "%%time\n",
    "\n",
    "df['themes_filter'] = df.themes.apply(lambda x: theme(x))\n",
    "df.themes_filter.dropna()"
   ]
  },
  {
   "cell_type": "code",
   "execution_count": null,
   "id": "extensive-procedure",
   "metadata": {},
   "outputs": [],
   "source": [
    "df.iloc[df.themes_filter.dropna().index].themes.apply(lambda x: '_'.join(x)).tolist()"
   ]
  },
  {
   "cell_type": "code",
   "execution_count": null,
   "id": "genuine-berry",
   "metadata": {},
   "outputs": [],
   "source": []
  }
 ],
 "metadata": {
  "kernelspec": {
   "display_name": "Python 3",
   "language": "python",
   "name": "python3"
  },
  "language_info": {
   "codemirror_mode": {
    "name": "ipython",
    "version": 3
   },
   "file_extension": ".py",
   "mimetype": "text/x-python",
   "name": "python",
   "nbconvert_exporter": "python",
   "pygments_lexer": "ipython3",
   "version": "3.8.5"
  }
 },
 "nbformat": 4,
 "nbformat_minor": 5
}
