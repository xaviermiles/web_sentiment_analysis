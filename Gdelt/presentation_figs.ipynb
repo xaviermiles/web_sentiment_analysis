{
 "cells": [
  {
   "cell_type": "code",
   "execution_count": 73,
   "id": "purple-saskatchewan",
   "metadata": {},
   "outputs": [],
   "source": [
    "import psycopg2\n",
    "from psycopg2 import extras\n",
    "import sys, io\n",
    "import sqlite3\n",
    "import seaborn as sns\n",
    "import pandas as pd\n",
    "\n",
    "sys.path.append(\"..\")\n",
    "import postgres_config\n",
    "\n",
    "io.DEFAULT_BUFFER_SIZE = 8192*4\n",
    "DB_TABLE = \"gdelt_raw\"\n",
    "CONNECTION_DETAILS = (\n",
    "    f\"host={postgres_config.HOST} \"\n",
    "    \"dbname=gdelt \"\n",
    "    \"user=postgres \"\n",
    "    f\"password={postgres_config.PASSWORD}\"\n",
    ")"
   ]
  },
  {
   "cell_type": "code",
   "execution_count": 165,
   "id": "necessary-operations",
   "metadata": {},
   "outputs": [],
   "source": [
    "def get_polarity_in_db():\n",
    "    \"\"\"Returns list of datetime and polarity in the database.\n",
    "    \"\"\"\n",
    "    with psycopg2.connect(CONNECTION_DETAILS) as conn:\n",
    "        with conn.cursor() as cur:\n",
    "            try:\n",
    "                df_polarity = pd.read_sql(\n",
    "                    \"SELECT datetime,countries,polarity FROM gdelt_raw WHERE DATE(datetime) > DATE('2020-01-01 00:00:00');\",\n",
    "                    conn,\n",
    "                    parse_dates=[\"datetime\"])\n",
    "            except Exception as e:\n",
    "                print(f\"Exception executing Select Query: {e}\")\n",
    "                print(f\"Exception type: {type(e)}\")\n",
    "    \n",
    "    return df_polarity"
   ]
  },
  {
   "cell_type": "code",
   "execution_count": 166,
   "id": "expanded-modern",
   "metadata": {},
   "outputs": [
    {
     "name": "stdout",
     "output_type": "stream",
     "text": [
      "                    datetime         countries  polarity\n",
      "0        2021-08-02 15:45:00              [AS]  4.413793\n",
      "1        2021-08-02 15:45:00              [CA]  4.911243\n",
      "2        2021-08-02 15:45:00          [AS, UK]  6.802721\n",
      "3        2021-08-02 15:45:00              [AS]  3.189793\n",
      "4        2021-08-02 15:45:00              [UK]  2.970297\n",
      "...                      ...               ...       ...\n",
      "13404946 2021-08-02 15:45:00          [NZ, UK]  2.884615\n",
      "13404947 2021-08-02 15:45:00              [AS]  6.757913\n",
      "13404948 2021-08-02 15:45:00              [UK]  7.339450\n",
      "13404949 2021-08-02 15:45:00  [AS, UK, CA, NZ]  2.290076\n",
      "13404950 2021-08-02 14:45:00              [UK]  5.586592\n",
      "\n",
      "[13404951 rows x 3 columns]\n"
     ]
    }
   ],
   "source": [
    "df_polarity = get_polarity_in_db()\n",
    "print(df_polarity)"
   ]
  },
  {
   "cell_type": "code",
   "execution_count": 167,
   "id": "early-calgary",
   "metadata": {},
   "outputs": [
    {
     "name": "stdout",
     "output_type": "stream",
     "text": [
      "            datetime country  polarity\n",
      "0         2021-08-02      AS  4.413793\n",
      "1         2021-08-02      CA  4.911243\n",
      "2         2021-08-02      AS  6.802721\n",
      "3         2021-08-02      UK  6.802721\n",
      "4         2021-08-02      AS  3.189793\n",
      "...              ...     ...       ...\n",
      "16442661  2021-08-02      AS  2.290076\n",
      "16442662  2021-08-02      UK  2.290076\n",
      "16442663  2021-08-02      CA  2.290076\n",
      "16442664  2021-08-02      NZ  2.290076\n",
      "16442665  2021-08-02      UK  5.586592\n",
      "\n",
      "[16442666 rows x 3 columns]\n"
     ]
    }
   ],
   "source": [
    "df_polarity_long = [] \n",
    "for index,row in df_polarity.iterrows() :\n",
    "    if len(row['countries'])>1:\n",
    "        for country in row['countries']: \n",
    "            df_polarity_long.append([row['datetime'].date(),country,row['polarity']])\n",
    "    else :\n",
    "        df_polarity_long.append([row['datetime'].date(),row['countries'].pop(),row['polarity']])\n",
    "\n",
    "df_polarity_long = pd.DataFrame(data=df_polarity_long,columns=['datetime','country','polarity'])\n",
    "print(df_polarity_long)"
   ]
  },
  {
   "cell_type": "code",
   "execution_count": null,
   "id": "occasional-publisher",
   "metadata": {},
   "outputs": [],
   "source": [
    "polarity_agg = df_polarity_long.groupby(['datetime','country'])['polarity'].rolling(window=7)\n",
    "\n",
    "sns.lineplot(x=\"datetime\", y=\"polarity\", hue='country', data=pd.DataFrame(polarity_agg))"
   ]
  }
 ],
 "metadata": {
  "kernelspec": {
   "display_name": "Python 3",
   "language": "python",
   "name": "python3"
  },
  "language_info": {
   "codemirror_mode": {
    "name": "ipython",
    "version": 3
   },
   "file_extension": ".py",
   "mimetype": "text/x-python",
   "name": "python",
   "nbconvert_exporter": "python",
   "pygments_lexer": "ipython3",
   "version": "3.8.10"
  }
 },
 "nbformat": 4,
 "nbformat_minor": 5
}
