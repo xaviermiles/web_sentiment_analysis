{
 "cells": [
  {
   "cell_type": "code",
   "execution_count": 2,
   "id": "minimal-trigger",
   "metadata": {},
   "outputs": [],
   "source": [
    "import pandas as pd\n",
    "import numpy as np\n",
    "import os\n",
    "import glob\n",
    "from collections import Counter\n",
    "import matplotlib as mpl\n",
    "import matplotlib.pyplot as plt\n",
    "import seaborn as sns\n",
    "from datetime import datetime\n",
    "from dateutil import parser\n",
    "import concurrent.futures\n",
    "import time\n",
    "import csv\n",
    "import re\n",
    "import os\n",
    "headers = ['gkg_id', 'date', 'source', 'source_name', 'doc_id', \n",
    "        'themes', 'locations', 'persons', 'orgs', \n",
    "        'tone', 'pos', 'neg', 'polarity', 'ard', 'srd',\n",
    "        'wc', \n",
    "        'lexicode_neg', 'lexicode_pos', # c3.*\n",
    "        'MACROECONOMICS', 'ENERGY', 'FISHERIES', \n",
    "        'TRANSPORTATION', 'CRIME', 'SOCIAL_WELFARE',\n",
    "        'HOUSING', 'FINANCE', 'DEFENCE', 'SSTC',\n",
    "        'FOREIGN_TRADE', 'CIVIL_RIGHTS', \n",
    "        'INTL_AFFAIRS', 'GOVERNMENT_OPS',\n",
    "        'LAND-WATER-MANAGEMENT', 'CULTURE',\n",
    "        'PROV_LOCAL', 'INTERGOVERNMENTAL',\n",
    "        'CONSTITUTIONAL_NATL_UNITY', 'ABORIGINAL',\n",
    "        'RELIGION', 'HEALTHCARE', 'AGRICULTURE',\n",
    "        'FORESTRY', 'LABOUR', 'IMMIGRATION',\n",
    "        'EDUCATION', 'ENVIRONMENT',\n",
    "        'finstab_pos', 'finstab_neg', 'finstab_neutral',\n",
    "        'finsent_neg', 'finsent_pos', 'finsent_unc',\n",
    "        'opin_neg', 'opin_pos',\n",
    "        'sent_pos', 'sent_neg', 'sent_pol'\n",
    "]"
   ]
  },
  {
   "cell_type": "code",
   "execution_count": 3,
   "id": "documented-stress",
   "metadata": {},
   "outputs": [],
   "source": [
    "def merge_csv(f, y):\n",
    "    start = time.time()\n",
    "\n",
    "    \n",
    "    header_written = False\n",
    "    ''' Pandas method takes a longer timer for merge and hence have made it in pure python to boost up'''\n",
    "    start = time.time()\n",
    "    with open(f'../gdelt_csv/gdelt_{f}.csv', 'w', newline=\"\") as fout:                         # merge csv\n",
    "        wout = csv.writer(fout, delimiter=',')\n",
    "        files = [x for x in glob.glob(f\"../gdelt-{f}/{y}*.csv\") if x != f'gdelt_{f}.csv']\n",
    "        for file in files:\n",
    "#             print(\"processing {}\".format(file))\n",
    "            with open(file) as fin:\n",
    "                cr = csv.reader(fin,delimiter=',')\n",
    "                if not header_written:\n",
    "                    wout.writerow(headers)\n",
    "                    header_written = True\n",
    "                wout.writerows(cr) \n",
    "    \n",
    "    \n",
    "    end = time.time()\n",
    "    csvv = len(glob.glob(f\"../gdelt-{f}/{y}*.csv\"))\n",
    "    print(f\"Finished processing {csvv} csv's for {f} which took {round(end-start,2)} seconds\")"
   ]
  },
  {
   "cell_type": "code",
   "execution_count": 17,
   "id": "aquatic-valentine",
   "metadata": {
    "scrolled": true,
    "tags": []
   },
   "outputs": [
    {
     "name": "stdout",
     "output_type": "stream",
     "text": [
      "Finished processing 41943 for nz which took 84.49 seconds\n",
      "Finished processing 32521 for au which took 160.44 seconds\n",
      "Finished processing 21458 for uk which took 168.15 seconds\n",
      "Finished processing 9924 for us which took 145.0 seconds\n",
      "CPU times: user 6min 47s, sys: 22.8 s, total: 7min 10s\n",
      "Wall time: 9min 18s\n"
     ]
    }
   ],
   "source": [
    "%%time\n",
    "\n",
    "merge_csv('nz', 202)\n",
    "merge_csv('au', 202)\n",
    "merge_csv('uk', 202)\n",
    "merge_csv('us', 202)"
   ]
  },
  {
   "cell_type": "code",
   "execution_count": 4,
   "id": "adapted-lafayette",
   "metadata": {},
   "outputs": [],
   "source": [
    "col = ['date', 'source', 'source_name', \n",
    "        'themes', 'locations', 'orgs', \n",
    "        'tone', 'pos', 'neg', 'polarity', 'wc',\n",
    "]\n",
    "\n",
    "def read_files(f):\n",
    "    start = time.time()\n",
    "    custom_date_parser = lambda x: datetime.strptime(x, \"%Y%m%d%H%M%S\")\n",
    "    chunk = pd.read_csv(f\"../gdelt_csv/gdelt_{f}.csv\", parse_dates=['date'], date_parser = custom_date_parser, usecols=col, chunksize=1000000)    \n",
    "\n",
    "    df = pd.concat(chunk)\n",
    "    del chunk\n",
    "    df['month'] = df['date'].dt.strftime('%b')\n",
    "    cats = ['Jan', 'Feb', 'Mar', 'Apr','May', 'Jun', 'Jul', 'Aug', 'Sep', 'Oct', 'Nov', 'Dec']\n",
    "    df['month'] = pd.Categorical(df['month'], ordered=True, categories=cats)\n",
    "#     df['month'] = df['month'].astype('int8')\n",
    "    num = df.select_dtypes('number').columns\n",
    "    df[num] = df[num].apply(lambda x: pd.to_numeric(x, downcast='float'))\n",
    "    \n",
    "    df.loc[:, df.dtypes == 'object'] =\\\n",
    "    df.select_dtypes(['object'])\\\n",
    "    .apply(lambda x: x.astype('category'))\n",
    "\n",
    "    end = time.time()\n",
    "    print(f\"Read csv with chunks for {f}: \",round(end-start,2),\"sec\")\n",
    "\n",
    "    \n",
    "    return df"
   ]
  },
  {
   "cell_type": "code",
   "execution_count": 5,
   "id": "encouraging-investor",
   "metadata": {},
   "outputs": [
    {
     "name": "stdout",
     "output_type": "stream",
     "text": [
      "Read csv with chunks for nz:  0.01 sec\n",
      "Read csv with chunks for au:  0.01 sec\n",
      "Read csv with chunks for uk:  0.0 sec\n",
      "Read csv with chunks for us:  0.0 sec\n",
      "CPU times: user 4min 3s, sys: 14.5 s, total: 4min 17s\n",
      "Wall time: 4min 48s\n"
     ]
    }
   ],
   "source": [
    "%%time\n",
    "df_nz = read_files('nz')\n",
    "df_au = read_files('au')\n",
    "df_uk = read_files('uk')\n",
    "df_us = read_files('us')\n"
   ]
  },
  {
   "cell_type": "code",
   "execution_count": 5,
   "id": "taken-month",
   "metadata": {
    "collapsed": true,
    "jupyter": {
     "outputs_hidden": true
    },
    "tags": []
   },
   "outputs": [
    {
     "name": "stdout",
     "output_type": "stream",
     "text": [
      "<class 'pandas.core.frame.DataFrame'>\n",
      "RangeIndex: 901499 entries, 0 to 901498\n",
      "Data columns (total 19 columns):\n",
      " #   Column        Non-Null Count   Dtype         \n",
      "---  ------        --------------   -----         \n",
      " 0   gkg_id        901499 non-null  object        \n",
      " 1   date          901499 non-null  datetime64[ns]\n",
      " 2   source        901499 non-null  int64         \n",
      " 3   source_name   901491 non-null  object        \n",
      " 4   doc_id        901499 non-null  object        \n",
      " 5   themes        775886 non-null  object        \n",
      " 6   locations     901499 non-null  object        \n",
      " 7   persons       786844 non-null  object        \n",
      " 8   orgs          767003 non-null  object        \n",
      " 9   tone          901498 non-null  float64       \n",
      " 10  pos           901498 non-null  float64       \n",
      " 11  neg           901498 non-null  float64       \n",
      " 12  polarity      901498 non-null  float64       \n",
      " 13  ard           901498 non-null  float64       \n",
      " 14  srd           901498 non-null  float64       \n",
      " 15  wc            901498 non-null  float64       \n",
      " 16  lexicode_neg  895885 non-null  float64       \n",
      " 17  lexicode_pos  899513 non-null  float64       \n",
      " 18  month         901499 non-null  object        \n",
      "dtypes: datetime64[ns](1), float64(9), int64(1), object(8)\n",
      "memory usage: 130.7+ MB\n",
      "None\n",
      "<class 'pandas.core.frame.DataFrame'>\n",
      "RangeIndex: 2354213 entries, 0 to 2354212\n",
      "Data columns (total 19 columns):\n",
      " #   Column        Dtype         \n",
      "---  ------        -----         \n",
      " 0   gkg_id        object        \n",
      " 1   date          datetime64[ns]\n",
      " 2   source        int64         \n",
      " 3   source_name   object        \n",
      " 4   doc_id        object        \n",
      " 5   themes        object        \n",
      " 6   locations     object        \n",
      " 7   persons       object        \n",
      " 8   orgs          object        \n",
      " 9   tone          float64       \n",
      " 10  pos           float64       \n",
      " 11  neg           float64       \n",
      " 12  polarity      float64       \n",
      " 13  ard           float64       \n",
      " 14  srd           float64       \n",
      " 15  wc            int64         \n",
      " 16  lexicode_neg  float64       \n",
      " 17  lexicode_pos  float64       \n",
      " 18  month         object        \n",
      "dtypes: datetime64[ns](1), float64(8), int64(2), object(8)\n",
      "memory usage: 341.3+ MB\n",
      "None\n",
      "<class 'pandas.core.frame.DataFrame'>\n",
      "RangeIndex: 2905463 entries, 0 to 2905462\n",
      "Data columns (total 19 columns):\n",
      " #   Column        Dtype         \n",
      "---  ------        -----         \n",
      " 0   gkg_id        object        \n",
      " 1   date          datetime64[ns]\n",
      " 2   source        int64         \n",
      " 3   source_name   object        \n",
      " 4   doc_id        object        \n",
      " 5   themes        object        \n",
      " 6   locations     object        \n",
      " 7   persons       object        \n",
      " 8   orgs          object        \n",
      " 9   tone          float64       \n",
      " 10  pos           float64       \n",
      " 11  neg           float64       \n",
      " 12  polarity      float64       \n",
      " 13  ard           float64       \n",
      " 14  srd           float64       \n",
      " 15  wc            int64         \n",
      " 16  lexicode_neg  int64         \n",
      " 17  lexicode_pos  float64       \n",
      " 18  month         object        \n",
      "dtypes: datetime64[ns](1), float64(7), int64(3), object(8)\n",
      "memory usage: 421.2+ MB\n",
      "None\n",
      "<class 'pandas.core.frame.DataFrame'>\n",
      "RangeIndex: 2425436 entries, 0 to 2425435\n",
      "Data columns (total 19 columns):\n",
      " #   Column        Dtype         \n",
      "---  ------        -----         \n",
      " 0   gkg_id        object        \n",
      " 1   date          datetime64[ns]\n",
      " 2   source        int64         \n",
      " 3   source_name   object        \n",
      " 4   doc_id        object        \n",
      " 5   themes        object        \n",
      " 6   locations     object        \n",
      " 7   persons       object        \n",
      " 8   orgs          object        \n",
      " 9   tone          float64       \n",
      " 10  pos           float64       \n",
      " 11  neg           float64       \n",
      " 12  polarity      float64       \n",
      " 13  ard           float64       \n",
      " 14  srd           float64       \n",
      " 15  wc            int64         \n",
      " 16  lexicode_neg  int64         \n",
      " 17  lexicode_pos  float64       \n",
      " 18  month         object        \n",
      "dtypes: datetime64[ns](1), float64(7), int64(3), object(8)\n",
      "memory usage: 351.6+ MB\n",
      "None\n"
     ]
    }
   ],
   "source": [
    "print(df_nz.info())\n",
    "print(df_au.info())\n",
    "print(df_uk.info())\n",
    "print(df_us.info())"
   ]
  },
  {
   "cell_type": "code",
   "execution_count": 1,
   "id": "threatened-franklin",
   "metadata": {},
   "outputs": [],
   "source": [
    "# due to less RAM unable to save as "
   ]
  },
  {
   "cell_type": "code",
   "execution_count": null,
   "id": "together-element",
   "metadata": {},
   "outputs": [],
   "source": [
    "df_nz.to_feather('../gdelt_feather/df_nz.ft')\n"
   ]
  },
  {
   "cell_type": "code",
   "execution_count": null,
   "id": "middle-stroke",
   "metadata": {},
   "outputs": [],
   "source": [
    "df_au.to_feather('../gdelt_feather/df_au.ft')\n"
   ]
  },
  {
   "cell_type": "code",
   "execution_count": null,
   "id": "emotional-annex",
   "metadata": {},
   "outputs": [],
   "source": [
    "df_uk.to_feather('../gdelt_feather/df_uk.ft')\n"
   ]
  },
  {
   "cell_type": "code",
   "execution_count": null,
   "id": "intended-intention",
   "metadata": {},
   "outputs": [],
   "source": [
    "df_us.to_feather('../gdelt_feather/df_us.ft')"
   ]
  },
  {
   "cell_type": "code",
   "execution_count": null,
   "id": "activated-mambo",
   "metadata": {},
   "outputs": [],
   "source": []
  }
 ],
 "metadata": {
  "kernelspec": {
   "display_name": "Python 3",
   "language": "python",
   "name": "python3"
  },
  "language_info": {
   "codemirror_mode": {
    "name": "ipython",
    "version": 3
   },
   "file_extension": ".py",
   "mimetype": "text/x-python",
   "name": "python",
   "nbconvert_exporter": "python",
   "pygments_lexer": "ipython3",
   "version": "3.8.10"
  }
 },
 "nbformat": 4,
 "nbformat_minor": 5
}
