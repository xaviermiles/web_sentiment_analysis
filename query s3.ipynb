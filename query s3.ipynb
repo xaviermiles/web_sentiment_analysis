{
 "cells": [
  {
   "cell_type": "markdown",
   "id": "operating-segment",
   "metadata": {},
   "source": [
    "## Trying to query S3 data directly (COMMON CRAWL)\n",
    "\n",
    "Currently this code is only querying an index of the recorded webpages, not the scraped text itself. \n",
    "\n",
    "Then we'll need to figure out a way to use the *(warc_filename, warc_record_offset, warc_record_offset)* to extract the text from the relevant WARC file without downloading the whole WARC file. \n",
    "\n",
    "Plan B: download entire WARC file since this still cuts down on local processing (having offet the processing into the S3 bucket/S3 Sele)."
   ]
  },
  {
   "cell_type": "code",
   "execution_count": 23,
   "id": "statistical-forty",
   "metadata": {},
   "outputs": [],
   "source": [
    "import boto3\n",
    "import pandas as pd\n",
    "import io\n",
    "import re\n",
    "import time\n",
    "import subprocess\n",
    "import json"
   ]
  },
  {
   "cell_type": "code",
   "execution_count": 2,
   "id": "moved-lyric",
   "metadata": {},
   "outputs": [],
   "source": [
    "sess = boto3.session.Session(profile_name=\"xmiles\")\n",
    "# commoncrawl is hosted in us-east-1\n",
    "s3 = sess.client('s3')"
   ]
  },
  {
   "cell_type": "code",
   "execution_count": 3,
   "id": "sharing-affair",
   "metadata": {},
   "outputs": [],
   "source": [
    "# subprocess.check_output([\"aws\", \"s3\", \"ls\", \"--no-sign-request\",\n",
    "#                          \"s3://commoncrawl/cc-index/table/cc-main/warc/CC-MAIN-2021\"])"
   ]
  },
  {
   "cell_type": "code",
   "execution_count": 25,
   "id": "written-cathedral",
   "metadata": {},
   "outputs": [
    {
     "name": "stdout",
     "output_type": "stream",
     "text": [
      "Status code: 200\n",
      "DOWNLOADED\n",
      "Result is complete\n",
      "CPU times: user 32.2 ms, sys: 1.53 ms, total: 33.8 ms\n",
      "Wall time: 1.43 s\n"
     ]
    }
   ],
   "source": [
    "%%time\n",
    "# ALL FILES: s3://commoncrawl/crawl-data/cc-index/table/cc-main/warc/\n",
    "# s3://commoncrawl/cc-index/table/cc-main/warc/crawl=CC-MAIN-2021-10/subset=warc/part-00299-dbb5a216-bcb2-4bff-b117-e812a7981d21.c000.gz.parquet\n",
    "\n",
    "sql_str = \"\"\"\n",
    "    SELECT * FROM S3Object s\n",
    "    limit 10\n",
    "\"\"\"\n",
    "# WHERE s.url_host_tld='nz'\n",
    "\n",
    "resp = s3.select_object_content(\n",
    "    Bucket='commoncrawl',\n",
    "    Key='cc-index/table/cc-main/warc/crawl=CC-MAIN-2021-10/subset=warc/part-00299-dbb5a216-bcb2-4bff-b117-e812a7981d21.c000.gz.parquet',\n",
    "    #Key='cc-index/table/cc-main/warc/crawl=CC-MAIN-2021-10/subset=warc/',\n",
    "    Expression=sql_str,\n",
    "    ExpressionType='SQL',\n",
    "    InputSerialization={'Parquet': {}},\n",
    "    OutputSerialization={'JSON': {}}\n",
    ")\n",
    "print(\"Status code:\", resp['ResponseMetadata']['HTTPStatusCode'])\n",
    "print(\"DOWNLOADED\")\n",
    "\n",
    "i = 0\n",
    "end_event_received = False\n",
    "infos = []\n",
    "\n",
    "for event in resp['Payload']:\n",
    "    if 'Records' in event:\n",
    "        info = event['Records']['Payload'].decode()\n",
    "        \n",
    "        infos.append(info)\n",
    "        #i += 1\n",
    "        #if i == 10: break\n",
    "    elif 'Progress' in event:\n",
    "        print(event['Progress']['Details'])\n",
    "    elif 'End' in event:\n",
    "        print('Result is complete')\n",
    "        end_event_received = True\n",
    "            \n",
    "if not end_event_received:\n",
    "    raise Exception(\"End event not received, request incomplete.\")"
   ]
  },
  {
   "cell_type": "code",
   "execution_count": 27,
   "id": "present-sensitivity",
   "metadata": {},
   "outputs": [
    {
     "name": "stdout",
     "output_type": "stream",
     "text": [
      "{\"url_surtkey\":\"ua,com,inotec)/kabeli-sinhronizacii-gg1038097\",\"url\":\"https://inotec.com.ua/kabeli-sinhronizacii-gg1038097\",\"url_host_name\":\"inotec.com.ua\",\"url_host_tld\":\"ua\",\"url_host_2nd_last_part\":\"com\",\"url_host_3rd_last_part\":\"inotec\",\"url_host_registry_suffix\":\"com.ua\",\"url_host_registered_domain\":\"inotec.com.ua\",\"url_host_private_suffix\":\"com.ua\",\"url_host_private_domain\":\"inotec.com.ua\",\"url_protocol\":\"https\",\"url_path\":\"/kabeli-sinhronizacii-gg1038097\",\"fetch_time\":\"2021-02-25T11:00:33.000Z\",\"fetch_status\":200,\"content_digest\":\"W4UWVL5ZMJCDLSXE442CRMPKDR5FP36V\",\"content_mime_type\":\"text/html\",\"content_mime_detected\":\"text/html\",\"content_charset\":\"UTF-8\",\"content_languages\":\"rus\",\"warc_filename\":\"crawl-data/CC-MAIN-2021-10/segments/1614178350942.3/warc/CC-MAIN-20210225095141-20210225125141-00410.warc.gz\",\"warc_record_offset\":363115834,\"warc_record_length\":12324,\"warc_segment\":\"1614178350942.3\"}\n",
      "{\"url_surtkey\":\"ua,com,inotec)/kabeli-sinhronizacii-gg1038097\",\"url\":\"https://inotec.com.ua/kabeli-sinhronizacii-gg1038097\",\"url_host_name\":\"inotec.com.ua\",\"url_host_tld\":\"ua\",\"url_host_2nd_last_part\":\"com\",\"url_host_3rd_last_part\":\"inotec\",\"url_host_registry_suffix\":\"com.ua\",\"url_host_registered_domain\":\"inotec.com.ua\",\"url_host_private_suffix\":\"com.ua\",\"url_host_private_domain\":\"inotec.com.ua\",\"url_protocol\":\"https\",\"url_path\":\"/kabeli-sinhronizacii-gg1038097\",\"fetch_time\":\"2021-03-01T06:31:09.000Z\",\"fetch_status\":200,\"content_digest\":\"K4AASRF4MPCFIV65I6LCVA5IU6RUSWOG\",\"content_mime_type\":\"text/html\",\"content_mime_detected\":\"text/html\",\"content_charset\":\"UTF-8\",\"content_languages\":\"rus\",\"warc_filename\":\"crawl-data/CC-MAIN-2021-10/segments/1614178362133.53/warc/CC-MAIN-20210301060310-20210301090310-00410.warc.gz\",\"warc_record_offset\":377005121,\"warc_record_length\":12320,\"warc_segment\":\"1614178362133.53\"}\n",
      "{\"url_surtkey\":\"ua,com,inotec)/karmany-dlya-zhestkih-diskov-gg1073105\",\"url\":\"https://inotec.com.ua/karmany-dlya-zhestkih-diskov-gg1073105\",\"url_host_name\":\"inotec.com.ua\",\"url_host_tld\":\"ua\",\"url_host_2nd_last_part\":\"com\",\"url_host_3rd_last_part\":\"inotec\",\"url_host_registry_suffix\":\"com.ua\",\"url_host_registered_domain\":\"inotec.com.ua\",\"url_host_private_suffix\":\"com.ua\",\"url_host_private_domain\":\"inotec.com.ua\",\"url_protocol\":\"https\",\"url_path\":\"/karmany-dlya-zhestkih-diskov-gg1073105\",\"fetch_time\":\"2021-02-25T10:58:51.000Z\",\"fetch_status\":200,\"content_digest\":\"V2R3BKH5KJWLDVTPYZJIKM3P77ME4NKB\",\"content_mime_type\":\"text/html\",\"content_mime_detected\":\"text/html\",\"content_charset\":\"UTF-8\",\"content_languages\":\"rus,srp,eng\",\"warc_filename\":\"crawl-data/CC-MAIN-2021-10/segments/1614178350942.3/warc/CC-MAIN-20210225095141-20210225125141-00450.warc.gz\",\"warc_record_offset\":358734363,\"warc_record_length\":12403,\"warc_segment\":\"1614178350942.3\"}\n",
      "{\"url_surtkey\":\"ua,com,inotec)/karmany-dlya-zhestkih-diskov-gg1073105\",\"url\":\"https://inotec.com.ua/karmany-dlya-zhestkih-diskov-gg1073105\",\"url_host_name\":\"inotec.com.ua\",\"url_host_tld\":\"ua\",\"url_host_2nd_last_part\":\"com\",\"url_host_3rd_last_part\":\"inotec\",\"url_host_registry_suffix\":\"com.ua\",\"url_host_registered_domain\":\"inotec.com.ua\",\"url_host_private_suffix\":\"com.ua\",\"url_host_private_domain\":\"inotec.com.ua\",\"url_protocol\":\"https\",\"url_path\":\"/karmany-dlya-zhestkih-diskov-gg1073105\",\"fetch_time\":\"2021-02-28T16:20:14.000Z\",\"fetch_status\":200,\"content_digest\":\"AXBMESMJUQ7UGX3MCRIXYW5II77N76YM\",\"content_mime_type\":\"text/html\",\"content_mime_detected\":\"text/html\",\"content_charset\":\"UTF-8\",\"content_languages\":\"rus,srp,eng\",\"warc_filename\":\"crawl-data/CC-MAIN-2021-10/segments/1614178361510.12/warc/CC-MAIN-20210228145113-20210228175113-00450.warc.gz\",\"warc_record_offset\":397065470,\"warc_record_length\":12400,\"warc_segment\":\"1614178361510.12\"}\n",
      "{\"url_surtkey\":\"ua,com,inotec)/klaviatury-gg1055129\",\"url\":\"https://inotec.com.ua/klaviatury-gg1055129\",\"url_host_name\":\"inotec.com.ua\",\"url_host_tld\":\"ua\",\"url_host_2nd_last_part\":\"com\",\"url_host_3rd_last_part\":\"inotec\",\"url_host_registry_suffix\":\"com.ua\",\"url_host_registered_domain\":\"inotec.com.ua\",\"url_host_private_suffix\":\"com.ua\",\"url_host_private_domain\":\"inotec.com.ua\",\"url_protocol\":\"https\",\"url_path\":\"/klaviatury-gg1055129\",\"fetch_time\":\"2021-03-01T07:25:49.000Z\",\"fetch_status\":200,\"content_digest\":\"CHN2SSU2XJ5TZFOY4VVQSOW4YSWJGVI3\",\"content_mime_type\":\"text/html\",\"content_mime_detected\":\"text/html\",\"content_charset\":\"UTF-8\",\"content_languages\":\"rus\",\"warc_filename\":\"crawl-data/CC-MAIN-2021-10/segments/1614178362133.53/warc/CC-MAIN-20210301060310-20210301090310-00354.warc.gz\",\"warc_record_offset\":391818226,\"warc_record_length\":12534,\"warc_segment\":\"1614178362133.53\"}\n",
      "{\"url_surtkey\":\"ua,com,inotec)/kolonka-bluetooth-jbl-charge-4-black-kopiya-g18265220\",\"url\":\"https://inotec.com.ua/kolonka-bluetooth-jbl-charge-4-black-kopiya-g18265220\",\"url_host_name\":\"inotec.com.ua\",\"url_host_tld\":\"ua\",\"url_host_2nd_last_part\":\"com\",\"url_host_3rd_last_part\":\"inotec\",\"url_host_registry_suffix\":\"com.ua\",\"url_host_registered_domain\":\"inotec.com.ua\",\"url_host_private_suffix\":\"com.ua\",\"url_host_private_domain\":\"inotec.com.ua\",\"url_protocol\":\"https\",\"url_path\":\"/kolonka-bluetooth-jbl-charge-4-black-kopiya-g18265220\",\"fetch_time\":\"2021-02-24T23:51:23.000Z\",\"fetch_status\":200,\"content_digest\":\"LA4ZFTZ2KCLEX2D5NW7CGESXYGA3222V\",\"content_mime_type\":\"text/html\",\"content_mime_detected\":\"text/html\",\"content_charset\":\"UTF-8\",\"content_languages\":\"rus,eng,srp\",\"warc_filename\":\"crawl-data/CC-MAIN-2021-10/segments/1614178349708.2/warc/CC-MAIN-20210224223004-20210225013004-00573.warc.gz\",\"warc_record_offset\":342717534,\"warc_record_length\":15895,\"warc_segment\":\"1614178349708.2\"}\n",
      "{\"url_surtkey\":\"ua,com,inotec)/kolonka-bluetooth-jbl-charge-booms-box-black-g18265337\",\"url\":\"https://inotec.com.ua/kolonka-bluetooth-jbl-charge-booms-box-black-g18265337\",\"url_host_name\":\"inotec.com.ua\",\"url_host_tld\":\"ua\",\"url_host_2nd_last_part\":\"com\",\"url_host_3rd_last_part\":\"inotec\",\"url_host_registry_suffix\":\"com.ua\",\"url_host_registered_domain\":\"inotec.com.ua\",\"url_host_private_suffix\":\"com.ua\",\"url_host_private_domain\":\"inotec.com.ua\",\"url_protocol\":\"https\",\"url_path\":\"/kolonka-bluetooth-jbl-charge-booms-box-black-g18265337\",\"fetch_time\":\"2021-02-28T22:49:12.000Z\",\"fetch_status\":200,\"content_digest\":\"GB2TQ27WITQS6ADKIQ2HB6C722EP4MZN\",\"content_mime_type\":\"text/html\",\"content_mime_detected\":\"text/html\",\"content_charset\":\"UTF-8\",\"content_languages\":\"rus,eng,srp\",\"warc_filename\":\"crawl-data/CC-MAIN-2021-10/segments/1614178361776.13/warc/CC-MAIN-20210228205741-20210228235741-00526.warc.gz\",\"warc_record_offset\":376789124,\"warc_record_length\":15710,\"warc_segment\":\"1614178361776.13\"}\n",
      "{\"url_surtkey\":\"ua,com,inotec)/kolonki-multimedijnye-gg1065387\",\"url\":\"https://inotec.com.ua/kolonki-multimedijnye-gg1065387\",\"url_host_name\":\"inotec.com.ua\",\"url_host_tld\":\"ua\",\"url_host_2nd_last_part\":\"com\",\"url_host_3rd_last_part\":\"inotec\",\"url_host_registry_suffix\":\"com.ua\",\"url_host_registered_domain\":\"inotec.com.ua\",\"url_host_private_suffix\":\"com.ua\",\"url_host_private_domain\":\"inotec.com.ua\",\"url_protocol\":\"https\",\"url_path\":\"/kolonki-multimedijnye-gg1065387\",\"fetch_time\":\"2021-02-28T14:55:38.000Z\",\"fetch_status\":200,\"content_digest\":\"7FUZUHSOEYQO4CIXKK4LPH2DJEPG2XUI\",\"content_mime_type\":\"text/html\",\"content_mime_detected\":\"text/html\",\"content_charset\":\"UTF-8\",\"content_languages\":\"rus,eng\",\"warc_filename\":\"crawl-data/CC-MAIN-2021-10/segments/1614178361510.12/warc/CC-MAIN-20210228145113-20210228175113-00005.warc.gz\",\"warc_record_offset\":401957238,\"warc_record_length\":13610,\"warc_segment\":\"1614178361510.12\"}\n",
      "{\"url_surtkey\":\"ua,com,inotec)/kolonki-multimedijnye-gg1065387\",\"url\":\"https://inotec.com.ua/kolonki-multimedijnye-gg1065387\",\"url_host_name\":\"inotec.com.ua\",\"url_host_tld\":\"ua\",\"url_host_2nd_last_part\":\"com\",\"url_host_3rd_last_part\":\"inotec\",\"url_host_registry_suffix\":\"com.ua\",\"url_host_registered_domain\":\"inotec.com.ua\",\"url_host_private_suffix\":\"com.ua\",\"url_host_private_domain\":\"inotec.com.ua\",\"url_protocol\":\"https\",\"url_path\":\"/kolonki-multimedijnye-gg1065387\",\"fetch_time\":\"2021-03-01T07:36:00.000Z\",\"fetch_status\":200,\"content_digest\":\"PKZNAFTC7QQVKRDJ7SHRGFMHFELXPATI\",\"content_mime_type\":\"text/html\",\"content_mime_detected\":\"text/html\",\"content_charset\":\"UTF-8\",\"content_languages\":\"rus,eng\",\"warc_filename\":\"crawl-data/CC-MAIN-2021-10/segments/1614178362133.53/warc/CC-MAIN-20210301060310-20210301090310-00005.warc.gz\",\"warc_record_offset\":399044367,\"warc_record_length\":13612,\"warc_segment\":\"1614178362133.53\"}\n",
      "{\"url_surtkey\":\"ua,com,inotec)/mobilnye-telefony-i-aksessuary-mcg2915\",\"url\":\"https://inotec.com.ua/mobilnye-telefony-i-aksessuary-mcg2915\",\"url_host_name\":\"inotec.com.ua\",\"url_host_tld\":\"ua\",\"url_host_2nd_last_part\":\"com\",\"url_host_3rd_last_part\":\"inotec\",\"url_host_registry_suffix\":\"com.ua\",\"url_host_registered_domain\":\"inotec.com.ua\",\"url_host_private_suffix\":\"com.ua\",\"url_host_private_domain\":\"inotec.com.ua\",\"url_protocol\":\"https\",\"url_path\":\"/mobilnye-telefony-i-aksessuary-mcg2915\",\"fetch_time\":\"2021-03-01T00:52:26.000Z\",\"fetch_status\":200,\"content_digest\":\"BUQVJBOI7ZSBQEX6ZM4ZS3OGINBG72AF\",\"content_mime_type\":\"text/html\",\"content_mime_detected\":\"text/html\",\"content_charset\":\"UTF-8\",\"content_languages\":\"rus,eng\",\"warc_filename\":\"crawl-data/CC-MAIN-2021-10/segments/1614178361808.18/warc/CC-MAIN-20210228235852-20210301025852-00027.warc.gz\",\"warc_record_offset\":394757352,\"warc_record_length\":13487,\"warc_segment\":\"1614178361808.18\"}\n",
      "\n"
     ]
    }
   ],
   "source": [
    "print(infos[0])"
   ]
  },
  {
   "cell_type": "code",
   "execution_count": null,
   "id": "lasting-studio",
   "metadata": {},
   "outputs": [],
   "source": [
    "# import awswrangler as wr"
   ]
  },
  {
   "cell_type": "code",
   "execution_count": null,
   "id": "beginning-export",
   "metadata": {},
   "outputs": [],
   "source": [
    "# df = wr.pandas.read_parquet('commoncrawl',\n",
    "#                             Key='crawl-data/CC-MAIN-2021-10/segments/1614178347293.1/warc/CC-MAIN-20210224165708-20210224195708-00000.warc.gz')"
   ]
  }
 ],
 "metadata": {
  "kernelspec": {
   "display_name": "Python 3",
   "language": "python",
   "name": "python3"
  },
  "language_info": {
   "codemirror_mode": {
    "name": "ipython",
    "version": 3
   },
   "file_extension": ".py",
   "mimetype": "text/x-python",
   "name": "python",
   "nbconvert_exporter": "python",
   "pygments_lexer": "ipython3",
   "version": "3.8.5"
  }
 },
 "nbformat": 4,
 "nbformat_minor": 5
}
