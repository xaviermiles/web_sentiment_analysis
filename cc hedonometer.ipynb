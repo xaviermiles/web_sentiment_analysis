{
 "cells": [
  {
   "cell_type": "code",
   "execution_count": 1,
   "id": "placed-cambodia",
   "metadata": {},
   "outputs": [],
   "source": [
    "import requests\n",
    "import re\n",
    "import json\n",
    "import os\n",
    "\n",
    "import numpy as np\n",
    "import pandas as pd\n",
    "\n",
    "from collections import Counter"
   ]
  },
  {
   "cell_type": "code",
   "execution_count": 2,
   "id": "generous-insured",
   "metadata": {},
   "outputs": [],
   "source": [
    "# Download hedonometer word happiness scores\n",
    "fname = \"hedonometer_words.json\"\n",
    "\n",
    "if not os.path.exists(fname):\n",
    "    r = requests.get(\"https://hedonometer.org/api/v1/words/?format=json&wordlist__title=labMT-en-v2\")\n",
    "    hedonometer = r.json()\n",
    "\n",
    "    with open(fname, 'w') as f:\n",
    "        json.dump(hedonometer, f)\n",
    "else:\n",
    "    with open(fname) as f:\n",
    "        hedonometer = json.load(f)"
   ]
  },
  {
   "cell_type": "code",
   "execution_count": 3,
   "id": "alpine-burns",
   "metadata": {},
   "outputs": [
    {
     "data": {
      "text/plain": [
       "{'happs': 5.1,\n",
       " 'rank': 6648,\n",
       " 'stdDev': 0.99,\n",
       " 'text': 'according',\n",
       " 'word': 'according',\n",
       " 'word_english': 'according',\n",
       " 'wordlist': {'date': '2020-03-28',\n",
       "  'language': 'en',\n",
       "  'reference': 'https://arxiv.org/abs/2003.12614',\n",
       "  'referencetitle': \"How the world's collective attention is being paid to a pandemic: COVID-19 related 1-gram time series for 24 languages on Twitter\",\n",
       "  'title': 'labMT-en-v2'}}"
      ]
     },
     "execution_count": 3,
     "metadata": {},
     "output_type": "execute_result"
    }
   ],
   "source": [
    "hedonometer['objects'][0]"
   ]
  },
  {
   "cell_type": "code",
   "execution_count": 4,
   "id": "infinite-enhancement",
   "metadata": {},
   "outputs": [],
   "source": [
    "scores = {object['word']: object['happs'] for object in hedonometer['objects']}"
   ]
  },
  {
   "cell_type": "code",
   "execution_count": 5,
   "id": "union-improvement",
   "metadata": {},
   "outputs": [
    {
     "data": {
      "text/plain": [
       "[('according', 5.1),\n",
       " ('administrative', 5.1),\n",
       " ('albert', 5.1),\n",
       " ('alleen', 5.1),\n",
       " ('allen', 5.1),\n",
       " ('ave', 5.1),\n",
       " ('average', 5.1),\n",
       " ('bases', 5.1),\n",
       " ('before', 5.1),\n",
       " ('bellwether', 5.1)]"
      ]
     },
     "execution_count": 5,
     "metadata": {},
     "output_type": "execute_result"
    }
   ],
   "source": [
    "list(scores.items())[:10]"
   ]
  },
  {
   "cell_type": "code",
   "execution_count": 6,
   "id": "uniform-hazard",
   "metadata": {},
   "outputs": [],
   "source": [
    "# The hedonometer filters all words out that have 4<happiness<6 to increase the sensitivity\n",
    "filtered_scores = {object['word']: object['happs'] for object in hedonometer['objects']\n",
    "                   if not (4 < object['happs'] < 6)}"
   ]
  },
  {
   "cell_type": "code",
   "execution_count": 7,
   "id": "nonprofit-state",
   "metadata": {},
   "outputs": [
    {
     "name": "stdout",
     "output_type": "stream",
     "text": [
      "can't: 3.42\n",
      "cannot: 3.32\n",
      "book: 7.24\n",
      "books: 7.28\n"
     ]
    }
   ],
   "source": [
    "for word in [\"can't\", \"cannot\", \"book\", \"books\"]: \n",
    "    print(f\"{word}: {filtered_scores[word]}\")"
   ]
  },
  {
   "cell_type": "code",
   "execution_count": 8,
   "id": "historical-homeless",
   "metadata": {},
   "outputs": [],
   "source": [
    "articles = pd.read_csv('cc-nz-articles.csv')\n",
    "\n",
    "# parse dates\n",
    "articles['Datetime'] = pd.to_datetime(articles['Datetime'], format=\"%Y-%m-%dT%H:%M:%SZ\")"
   ]
  },
  {
   "cell_type": "code",
   "execution_count": 9,
   "id": "prime-aurora",
   "metadata": {},
   "outputs": [
    {
     "name": "stdout",
     "output_type": "stream",
     "text": [
      "<class 'pandas.core.frame.DataFrame'>\n",
      "RangeIndex: 1709 entries, 0 to 1708\n",
      "Data columns (total 3 columns):\n",
      " #   Column    Non-Null Count  Dtype         \n",
      "---  ------    --------------  -----         \n",
      " 0   Datetime  1709 non-null   datetime64[ns]\n",
      " 1   URL       1709 non-null   object        \n",
      " 2   Text      1709 non-null   object        \n",
      "dtypes: datetime64[ns](1), object(2)\n",
      "memory usage: 40.2+ KB\n"
     ]
    }
   ],
   "source": [
    "articles.info()"
   ]
  },
  {
   "cell_type": "code",
   "execution_count": 10,
   "id": "adopted-ontario",
   "metadata": {},
   "outputs": [],
   "source": [
    "def get_happiness_score(text, word_scores):\n",
    "    # Finds all words (including those with contractions)\n",
    "    words = re.findall(r\"[\\w']+\", text)\n",
    "    word_counts = Counter(words)\n",
    "    num_words = sum([count for word, count in word_counts.items() \n",
    "                     if word in word_scores.keys()])\n",
    "    \n",
    "    happiness_score = 0\n",
    "    for word in word_counts:\n",
    "        if word in word_scores:\n",
    "            norm_freq = word_counts[word] / num_words\n",
    "            happiness_score += word_scores[word] * norm_freq\n",
    "    \n",
    "    if happiness_score == 0:\n",
    "        happiness_score = 5  # the text is completely neutral\n",
    "        \n",
    "    return happiness_score"
   ]
  },
  {
   "cell_type": "code",
   "execution_count": 11,
   "id": "burning-billy",
   "metadata": {},
   "outputs": [],
   "source": [
    "# articles['Happiness'] = articles['Text'].map(get_happiness_score)\n",
    "articles['Happiness'] = [get_happiness_score(text_i, filtered_scores) for text_i in articles['Text']]"
   ]
  },
  {
   "cell_type": "code",
   "execution_count": 12,
   "id": "hispanic-mainstream",
   "metadata": {},
   "outputs": [
    {
     "name": "stdout",
     "output_type": "stream",
     "text": [
      "['windows', 'problem', 'raised', 'smashed', 'up', 'broken', 'active', 'not', 'good', 'well', 'damage', 'done', 'think', 'rest', 'community', 'ownership', 'failed', 'huge', 'costs', 'all', 'no', 'proposal', 'save', 'preserved', \"couldn't\", 'ahead', 'issues', 'service', 'parade', 'will', 'band', 'war', 'traffic', 'plans', 'concert', 'future', 'information', 'trading', 'enable', 'share', 'help', 'towns', 'invited', 'contact', 'tour', 'meet', 'opportunities', 'thanks', 'food', 'tree', 'donated', 'toward', 'new', 'homes', 'honour', 'lost', 'lives', 'tribute', 'country']\n"
     ]
    }
   ],
   "source": [
    "print(\n",
    "    [word for word, count in Counter(re.findall(r\"[\\w']+\", articles.loc[3, 'Text'])).items() \n",
    "     if word in filtered_scores.keys()]\n",
    ")"
   ]
  },
  {
   "cell_type": "code",
   "execution_count": 13,
   "id": "reasonable-reference",
   "metadata": {},
   "outputs": [
    {
     "data": {
      "text/plain": [
       "7.24"
      ]
     },
     "execution_count": 13,
     "metadata": {},
     "output_type": "execute_result"
    }
   ],
   "source": [
    "get_happiness_score(\"book\", filtered_scores)"
   ]
  },
  {
   "cell_type": "code",
   "execution_count": 14,
   "id": "photographic-found",
   "metadata": {},
   "outputs": [
    {
     "data": {
      "text/plain": [
       "Datetime\n",
       "2021-03-04    5.840926\n",
       "2021-03-05    5.855561\n",
       "2021-03-06    5.770108\n",
       "2021-03-07    5.979881\n",
       "Freq: D, Name: Happiness, dtype: float64"
      ]
     },
     "execution_count": 14,
     "metadata": {},
     "output_type": "execute_result"
    }
   ],
   "source": [
    "# Get daily averages\n",
    "articles.resample('D', on='Datetime')['Happiness'].mean().dropna()"
   ]
  }
 ],
 "metadata": {
  "kernelspec": {
   "display_name": "Python 3",
   "language": "python",
   "name": "python3"
  },
  "language_info": {
   "codemirror_mode": {
    "name": "ipython",
    "version": 3
   },
   "file_extension": ".py",
   "mimetype": "text/x-python",
   "name": "python",
   "nbconvert_exporter": "python",
   "pygments_lexer": "ipython3",
   "version": "3.8.5"
  }
 },
 "nbformat": 4,
 "nbformat_minor": 5
}
