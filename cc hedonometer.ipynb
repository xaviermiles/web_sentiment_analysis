{
 "cells": [
  {
   "cell_type": "code",
   "execution_count": 1,
   "id": "rural-command",
   "metadata": {},
   "outputs": [],
   "source": [
    "import requests\n",
    "import re\n",
    "import json\n",
    "import os\n",
    "\n",
    "import numpy as np\n",
    "import pandas as pd\n",
    "\n",
    "from collections import Counter"
   ]
  },
  {
   "cell_type": "code",
   "execution_count": 2,
   "id": "pressed-china",
   "metadata": {},
   "outputs": [],
   "source": [
    "# Download hedonometer word happiness scores\n",
    "fname = \"hedonometer_words.json\"\n",
    "\n",
    "if not os.path.exists(fname):\n",
    "    r = requests.get(\"https://hedonometer.org/api/v1/words/?format=json&wordlist__title=labMT-en-v2\")\n",
    "    hedonometer = r.json()\n",
    "\n",
    "    with open(fname, 'w') as f:\n",
    "        json.dump(hedonometer, f)\n",
    "else:\n",
    "    with open(fname) as f:\n",
    "        hedonometer = json.load(f)"
   ]
  },
  {
   "cell_type": "code",
   "execution_count": 3,
   "id": "premium-miracle",
   "metadata": {},
   "outputs": [
    {
     "data": {
      "text/plain": [
       "{'happs': 5.1,\n",
       " 'rank': 6648,\n",
       " 'stdDev': 0.99,\n",
       " 'text': 'according',\n",
       " 'word': 'according',\n",
       " 'word_english': 'according',\n",
       " 'wordlist': {'date': '2020-03-28',\n",
       "  'language': 'en',\n",
       "  'reference': 'https://arxiv.org/abs/2003.12614',\n",
       "  'referencetitle': \"How the world's collective attention is being paid to a pandemic: COVID-19 related 1-gram time series for 24 languages on Twitter\",\n",
       "  'title': 'labMT-en-v2'}}"
      ]
     },
     "execution_count": 3,
     "metadata": {},
     "output_type": "execute_result"
    }
   ],
   "source": [
    "hedonometer['objects'][0]"
   ]
  },
  {
   "cell_type": "code",
   "execution_count": 4,
   "id": "organic-driving",
   "metadata": {},
   "outputs": [],
   "source": [
    "scores = {object['word']: object['happs'] for object in hedonometer['objects']}"
   ]
  },
  {
   "cell_type": "code",
   "execution_count": 5,
   "id": "revolutionary-sapphire",
   "metadata": {},
   "outputs": [
    {
     "data": {
      "text/plain": [
       "[('according', 5.1),\n",
       " ('administrative', 5.1),\n",
       " ('albert', 5.1),\n",
       " ('alleen', 5.1),\n",
       " ('allen', 5.1),\n",
       " ('ave', 5.1),\n",
       " ('average', 5.1),\n",
       " ('bases', 5.1),\n",
       " ('before', 5.1),\n",
       " ('bellwether', 5.1)]"
      ]
     },
     "execution_count": 5,
     "metadata": {},
     "output_type": "execute_result"
    }
   ],
   "source": [
    "list(scores.items())[:10]"
   ]
  },
  {
   "cell_type": "code",
   "execution_count": 6,
   "id": "involved-parade",
   "metadata": {},
   "outputs": [],
   "source": [
    "# The hedonometer filters all words out that have 4<happiness<6 to increase the sensitivity\n",
    "filtered_scores = {object['word']: object['happs'] for object in hedonometer['objects']\n",
    "                   if not (4 < object['happs'] < 6)}"
   ]
  },
  {
   "cell_type": "code",
   "execution_count": 7,
   "id": "quarterly-consolidation",
   "metadata": {},
   "outputs": [
    {
     "name": "stdout",
     "output_type": "stream",
     "text": [
      "can't: 3.42\n",
      "cannot: 3.32\n",
      "book: 7.24\n",
      "books: 7.28\n"
     ]
    }
   ],
   "source": [
    "for word in [\"can't\", \"cannot\", \"book\", \"books\"]: \n",
    "    print(f\"{word}: {filtered_scores[word]}\")"
   ]
  },
  {
   "cell_type": "code",
   "execution_count": 8,
   "id": "julian-creation",
   "metadata": {},
   "outputs": [],
   "source": [
    "articles = pd.read_csv('nz-articles.csv')\n",
    "\n",
    "# parse dates\n",
    "articles['Datetime'] = pd.to_datetime(articles['Datetime'], format=\"%Y-%m-%dT%H:%M:%SZ\")"
   ]
  },
  {
   "cell_type": "code",
   "execution_count": 9,
   "id": "equal-offset",
   "metadata": {},
   "outputs": [
    {
     "data": {
      "text/html": [
       "<div>\n",
       "<style scoped>\n",
       "    .dataframe tbody tr th:only-of-type {\n",
       "        vertical-align: middle;\n",
       "    }\n",
       "\n",
       "    .dataframe tbody tr th {\n",
       "        vertical-align: top;\n",
       "    }\n",
       "\n",
       "    .dataframe thead th {\n",
       "        text-align: right;\n",
       "    }\n",
       "</style>\n",
       "<table border=\"1\" class=\"dataframe\">\n",
       "  <thead>\n",
       "    <tr style=\"text-align: right;\">\n",
       "      <th></th>\n",
       "      <th>Datetime</th>\n",
       "      <th>URL</th>\n",
       "      <th>Text</th>\n",
       "    </tr>\n",
       "  </thead>\n",
       "  <tbody>\n",
       "    <tr>\n",
       "      <th>0</th>\n",
       "      <td>2021-03-06 22:41:36</td>\n",
       "      <td>https://www.nzherald.co.nz/nz/covid-19-coronav...</td>\n",
       "      <td>National leader Judith Collins says there has ...</td>\n",
       "    </tr>\n",
       "    <tr>\n",
       "      <th>1</th>\n",
       "      <td>2021-03-06 22:45:37</td>\n",
       "      <td>https://www.nzherald.co.nz/world/taiwan-in-imm...</td>\n",
       "      <td>\"Taiwan is the next big prize\" now Beijing had...</td>\n",
       "    </tr>\n",
       "    <tr>\n",
       "      <th>2</th>\n",
       "      <td>2021-03-06 22:45:42</td>\n",
       "      <td>https://www.nzherald.co.nz/world/covid-19-coro...</td>\n",
       "      <td>An exhausted US Senate has narrowly approved a...</td>\n",
       "    </tr>\n",
       "    <tr>\n",
       "      <th>3</th>\n",
       "      <td>2021-03-06 22:49:38</td>\n",
       "      <td>https://www.nzherald.co.nz/entertainment/wanda...</td>\n",
       "      <td>Imagine being trapped in the confines of your ...</td>\n",
       "    </tr>\n",
       "    <tr>\n",
       "      <th>4</th>\n",
       "      <td>2021-03-06 22:49:43</td>\n",
       "      <td>https://www.nzherald.co.nz/hawkes-bay-today/ne...</td>\n",
       "      <td>One lucky Napier player has won $500,000 as pa...</td>\n",
       "    </tr>\n",
       "  </tbody>\n",
       "</table>\n",
       "</div>"
      ],
      "text/plain": [
       "             Datetime                                                URL  \\\n",
       "0 2021-03-06 22:41:36  https://www.nzherald.co.nz/nz/covid-19-coronav...   \n",
       "1 2021-03-06 22:45:37  https://www.nzherald.co.nz/world/taiwan-in-imm...   \n",
       "2 2021-03-06 22:45:42  https://www.nzherald.co.nz/world/covid-19-coro...   \n",
       "3 2021-03-06 22:49:38  https://www.nzherald.co.nz/entertainment/wanda...   \n",
       "4 2021-03-06 22:49:43  https://www.nzherald.co.nz/hawkes-bay-today/ne...   \n",
       "\n",
       "                                                Text  \n",
       "0  National leader Judith Collins says there has ...  \n",
       "1  \"Taiwan is the next big prize\" now Beijing had...  \n",
       "2  An exhausted US Senate has narrowly approved a...  \n",
       "3  Imagine being trapped in the confines of your ...  \n",
       "4  One lucky Napier player has won $500,000 as pa...  "
      ]
     },
     "execution_count": 9,
     "metadata": {},
     "output_type": "execute_result"
    }
   ],
   "source": [
    "articles.head()"
   ]
  },
  {
   "cell_type": "code",
   "execution_count": 10,
   "id": "effective-talent",
   "metadata": {},
   "outputs": [
    {
     "name": "stdout",
     "output_type": "stream",
     "text": [
      "https://pressf1.pcworld.co.nz/showthread.php?149628-Earthquake&s=0991d0b9a317f0331876d94f79ffcce1&p=1304718\n",
      "https://pressf1.pcworld.co.nz/showthread.php?149629-More-OMG-Tech-Support-Pics&s=0991d0b9a317f0331876d94f79ffcce1&p=1304723\n",
      "https://pressf1.pcworld.co.nz/showthread.php?149626-Prime-Time&s=c403163e6cd075bd42b0f09f6159daf9&p=1304709\n",
      "https://www.philips.co.nz/c-m-ho/cooking-accessories/all\n",
      "https://pressf1.pcworld.co.nz/showthread.php?149630-CCLEANER-issues&s=9aeda749d08133cb7c4d5892806291d6&p=1304730\n",
      "https://www.philips.co.nz/p-p/DIS602_01/zoom-nitewhite-take-home-whitening-treatment/support\n",
      "http://times-age.co.nz/1265-2/\n",
      "https://pressf1.pcworld.co.nz/showthread.php?149633-LG-plasma-42PG10R-Disappeared-from-Input-Option&s=cff20dc01fd40835685b5ca8042f34a3&p=1304757\n",
      "https://pressf1.pcworld.co.nz/showthread.php?149632-Darn-missed-out-again&s=9aeda749d08133cb7c4d5892806291d6&p=1304736\n"
     ]
    }
   ],
   "source": [
    "for url in articles[articles['Text'].isna()]['URL']: print(url)"
   ]
  },
  {
   "cell_type": "code",
   "execution_count": 14,
   "id": "standard-palestine",
   "metadata": {},
   "outputs": [],
   "source": [
    "def get_happiness_score(text, word_scores):\n",
    "    # Finds all words (including those with contractions)\n",
    "    words = re.findall(r\"[\\w']+\", text)\n",
    "    word_counts = Counter(words)\n",
    "    num_words = sum([count for word, count in word_counts.items() \n",
    "                     if word in word_scores.keys()])\n",
    "    \n",
    "    happiness_score = 0\n",
    "    for word in word_counts:\n",
    "        if word in word_scores:\n",
    "            norm_freq = word_counts[word] / num_words\n",
    "            happiness_score += word_scores[word] * norm_freq\n",
    "    \n",
    "    if happiness_score == 0:\n",
    "        happiness_score = 5  # the text is completely neutral\n",
    "        \n",
    "    return happiness_score"
   ]
  },
  {
   "cell_type": "code",
   "execution_count": 16,
   "id": "iraqi-syndicate",
   "metadata": {},
   "outputs": [
    {
     "ename": "SyntaxError",
     "evalue": "invalid syntax (<ipython-input-16-1195265cdfd8>, line 4)",
     "output_type": "error",
     "traceback": [
      "\u001b[0;36m  File \u001b[0;32m\"<ipython-input-16-1195265cdfd8>\"\u001b[0;36m, line \u001b[0;32m4\u001b[0m\n\u001b[0;31m    else np.nan]\u001b[0m\n\u001b[0m    ^\u001b[0m\n\u001b[0;31mSyntaxError\u001b[0m\u001b[0;31m:\u001b[0m invalid syntax\n"
     ]
    }
   ],
   "source": [
    "# articles['Happiness'] = articles['Text'].map(get_happiness_score)\n",
    "articles['Happiness'] = [get_happiness_score(text_i, filtered_scores) for text_i in articles['Text']\n",
    "                         if not text_i.isna()\n",
    "                         else np.nan]"
   ]
  },
  {
   "cell_type": "code",
   "execution_count": 25,
   "id": "recorded-generator",
   "metadata": {},
   "outputs": [
    {
     "data": {
      "text/plain": [
       "1615     Add a comment10:46 AM Friday Aug 26, 2016  Yo...\n",
       "Name: Text, dtype: object"
      ]
     },
     "execution_count": 25,
     "metadata": {},
     "output_type": "execute_result"
    }
   ],
   "source": [
    "g = pd.read_csv('nz-articles_old.csv')\n",
    "g[g['URL'] == \"http://times-age.co.nz/1265-2/\"]['Text']"
   ]
  },
  {
   "cell_type": "code",
   "execution_count": null,
   "id": "incident-password",
   "metadata": {},
   "outputs": [],
   "source": [
    "print(\n",
    "    [word for word, count in Counter(re.findall(r\"[\\w']+\", articles.loc[3, 'Text'])).items() \n",
    "     if word in filtered_scores.keys()]\n",
    ")"
   ]
  },
  {
   "cell_type": "code",
   "execution_count": null,
   "id": "cleared-craft",
   "metadata": {},
   "outputs": [],
   "source": [
    "get_happiness_score(\"book\", filtered_scores)"
   ]
  },
  {
   "cell_type": "code",
   "execution_count": null,
   "id": "controlling-dutch",
   "metadata": {},
   "outputs": [],
   "source": [
    "# Get daily averages\n",
    "articles.resample('D', on='Datetime')['Happiness'].mean().dropna()"
   ]
  },
  {
   "cell_type": "code",
   "execution_count": null,
   "id": "cellular-dryer",
   "metadata": {
    "tags": []
   },
   "outputs": [],
   "source": [
    "articles.shape"
   ]
  },
  {
   "cell_type": "code",
   "execution_count": null,
   "id": "african-vietnamese",
   "metadata": {},
   "outputs": [],
   "source": [
    "len(os.listdir(\"CC-NEWS warc gz\"))"
   ]
  }
 ],
 "metadata": {
  "kernelspec": {
   "display_name": "Python 3",
   "language": "python",
   "name": "python3"
  },
  "language_info": {
   "codemirror_mode": {
    "name": "ipython",
    "version": 3
   },
   "file_extension": ".py",
   "mimetype": "text/x-python",
   "name": "python",
   "nbconvert_exporter": "python",
   "pygments_lexer": "ipython3",
   "version": "3.8.5"
  }
 },
 "nbformat": 4,
 "nbformat_minor": 5
}
