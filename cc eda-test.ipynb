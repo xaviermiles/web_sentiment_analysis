{
 "cells": [
  {
   "cell_type": "markdown",
   "id": "twelve-brisbane",
   "metadata": {},
   "source": [
    "# EDA performed on about three days worth of CC-NEWS articles from 4-7 March 2021"
   ]
  },
  {
   "cell_type": "code",
   "execution_count": 1,
   "id": "convinced-conversion",
   "metadata": {},
   "outputs": [
    {
     "name": "stderr",
     "output_type": "stream",
     "text": [
      "[nltk_data] Downloading package averaged_perceptron_tagger to\n",
      "[nltk_data]     /home/xmiles/nltk_data...\n",
      "[nltk_data]   Package averaged_perceptron_tagger is already up-to-\n",
      "[nltk_data]       date!\n",
      "[nltk_data] Downloading package maxent_ne_chunker to\n",
      "[nltk_data]     /home/xmiles/nltk_data...\n",
      "[nltk_data]   Package maxent_ne_chunker is already up-to-date!\n",
      "[nltk_data] Downloading package words to /home/xmiles/nltk_data...\n",
      "[nltk_data]   Package words is already up-to-date!\n"
     ]
    },
    {
     "data": {
      "text/plain": [
       "True"
      ]
     },
     "execution_count": 1,
     "metadata": {},
     "output_type": "execute_result"
    }
   ],
   "source": [
    "import re\n",
    "import numpy as np\n",
    "import pandas as pd\n",
    "import matplotlib.pyplot as plt\n",
    "from urllib import parse\n",
    "from collections import Counter\n",
    "import requests\n",
    "from io import StringIO\n",
    "\n",
    "import spacy\n",
    "from spacy import displacy\n",
    "import nltk\n",
    "\n",
    "# download nltk models\n",
    "nltk.download('averaged_perceptron_tagger')\n",
    "nltk.download('maxent_ne_chunker')\n",
    "nltk.download('words')"
   ]
  },
  {
   "cell_type": "code",
   "execution_count": 2,
   "id": "loving-jewelry",
   "metadata": {},
   "outputs": [],
   "source": [
    "articles = pd.read_csv('cc-nz-articles-test.csv')\n",
    "\n",
    "articles['Datetime'] = pd.to_datetime(articles['Datetime'], format=\"%Y-%m-%dT%H:%M:%SZ\")"
   ]
  },
  {
   "cell_type": "code",
   "execution_count": 3,
   "id": "composite-color",
   "metadata": {},
   "outputs": [
    {
     "name": "stdout",
     "output_type": "stream",
     "text": [
      "Start datetime: 2021-03-04 01:13:28\n",
      "End datetime:   2021-03-07 00:39:33\n"
     ]
    }
   ],
   "source": [
    "print(f\"Start datetime: {articles['Datetime'].iloc[0]}\\n\"\n",
    "      f\"End datetime:   {articles['Datetime'].iloc[-1]}\")"
   ]
  },
  {
   "cell_type": "code",
   "execution_count": 4,
   "id": "imperial-animation",
   "metadata": {},
   "outputs": [],
   "source": [
    "articles['Words'] = [re.findall(r\"[\\w']+\", text_i) for text_i in articles['Text']]"
   ]
  },
  {
   "cell_type": "code",
   "execution_count": 5,
   "id": "continuous-chemistry",
   "metadata": {},
   "outputs": [
    {
     "name": "stdout",
     "output_type": "stream",
     "text": [
      "There is   8 articles with less than  10 words.\n",
      "There is 139 articles with less than  20 words.\n",
      "There is 188 articles with less than  50 words.\n",
      "There is 330 articles with less than 100 words.\n",
      "\n",
      "There is 1709 total articles.\n"
     ]
    }
   ],
   "source": [
    "def get_less_mask(less_limit):\n",
    "    return [len(words) < less_limit for words in articles['Words']]\n",
    "\n",
    "def get_more_mask(more_limit):\n",
    "    return [len(words) > more_limit for words in articles['Words']]\n",
    "    \n",
    "    \n",
    "for x in [10, 20, 50, 100]:\n",
    "    less_mask = get_less_mask(x)\n",
    "    print(f\"There is {len(articles[less_mask]): >3} articles with less than {x: >3} words.\")\n",
    "    \n",
    "    \n",
    "print(f\"\\nThere is {len(articles)} total articles.\")"
   ]
  },
  {
   "cell_type": "code",
   "execution_count": 6,
   "id": "forced-shadow",
   "metadata": {},
   "outputs": [],
   "source": [
    "articles['num_words'] = [len(x) for x in articles['Words']]"
   ]
  },
  {
   "cell_type": "code",
   "execution_count": 7,
   "id": "wrong-dating",
   "metadata": {},
   "outputs": [
    {
     "data": {
      "image/png": "[encoded data removed]",
      "text/plain": [
       "<Figure size 1080x504 with 1 Axes>"
      ]
     },
     "metadata": {
      "needs_background": "light"
     },
     "output_type": "display_data"
    }
   ],
   "source": [
    "fig, ax = plt.subplots(figsize=(15, 7));\n",
    "ax.hist(articles['num_words'], bins=40)\n",
    "ax.set(ylim=(0, 400), title=\"Number of Words in CC-NEWS Articles\");"
   ]
  },
  {
   "cell_type": "code",
   "execution_count": 8,
   "id": "retired-trademark",
   "metadata": {},
   "outputs": [
    {
     "data": {
      "image/png": "[encoded data removed]",
      "text/plain": [
       "<Figure size 1080x504 with 1 Axes>"
      ]
     },
     "metadata": {
      "needs_background": "light"
     },
     "output_type": "display_data"
    }
   ],
   "source": [
    "fig, ax = plt.subplots(figsize=(15, 7));\n",
    "ax.hist(articles[articles['num_words'] > 500]['num_words'], bins=40)\n",
    "ax.set(title=\"Number of Words in CC-NEWS Articles (over 500)\");"
   ]
  },
  {
   "cell_type": "code",
   "execution_count": 9,
   "id": "unauthorized-linux",
   "metadata": {},
   "outputs": [],
   "source": [
    "def get_site_name(url):\n",
    "    netloc = parse.urlsplit(url).netloc\n",
    "    basename = netloc.replace('www.', '').replace('.nz', '').replace('.co', '').replace('.org', '')\n",
    "    return basename\n",
    "\n",
    "# Get names of news site\n",
    "articles['news_site'] = articles['URL'].map(get_site_name)"
   ]
  },
  {
   "cell_type": "code",
   "execution_count": 10,
   "id": "through-education",
   "metadata": {},
   "outputs": [
    {
     "data": {
      "text/plain": [
       "array(['nzherald', 'asiapacificreport', 'tvnz', 'auckland.scoop', 'voxy',\n",
       "       'stuff', 'driven', 'thespinoff', 'business.scoop',\n",
       "       'wellington.scoop', 'scoop', 'philips', 'reseller', 'horsetalk',\n",
       "       'werewolf', 'odt', 'futurefive', 'pressf1.pcworld', 'nzcatholic',\n",
       "       'kanivatonga', 'pacific.scoop', 'viva', 'rdu', 'capitalmag',\n",
       "       'oamarumail', 'pr', 'cathnews', 'infonews'], dtype=object)"
      ]
     },
     "execution_count": 10,
     "metadata": {},
     "output_type": "execute_result"
    }
   ],
   "source": [
    "articles['news_site'].unique()"
   ]
  },
  {
   "cell_type": "code",
   "execution_count": 11,
   "id": "lonely-convergence",
   "metadata": {},
   "outputs": [],
   "source": [
    "def plot_num_articles_per_subgroup(subgroup_column, title=\"\", num_subgroups=None):\n",
    "    \"\"\"\n",
    "    If the number of subgroups is not specified, then it will display all of them.\n",
    "    \"\"\"\n",
    "    subgroup_counts = Counter(articles[subgroup_column]).most_common()\n",
    "    if num_subgroups is None:\n",
    "        num_subgroups = len(subgroup_counts)\n",
    "        \n",
    "    names = [info[0] for info in subgroup_counts[:num_subgroups]][::-1]\n",
    "    counts = [info[1] for info in subgroup_counts[:num_subgroups]][::-1]\n",
    "\n",
    "    fig, ax = plt.subplots(figsize=(10, 5))\n",
    "    ax.barh(names, counts)\n",
    "    ax.set(title=title)\n",
    "    plt.show();"
   ]
  },
  {
   "cell_type": "code",
   "execution_count": 12,
   "id": "meaningful-therapist",
   "metadata": {},
   "outputs": [
    {
     "data": {
      "image/png": "[encoded data removed]",
      "text/plain": [
       "<Figure size 720x360 with 1 Axes>"
      ]
     },
     "metadata": {
      "needs_background": "light"
     },
     "output_type": "display_data"
    }
   ],
   "source": [
    "plot_num_articles_per_subgroup(\"news_site\", title=\"Number of Articles per News Site (top 15)\", num_subgroups=15)"
   ]
  },
  {
   "cell_type": "code",
   "execution_count": 13,
   "id": "qualified-camera",
   "metadata": {},
   "outputs": [],
   "source": [
    "def plot_num_words_per_subgroup(subgroup_column):\n",
    "    \"\"\"\n",
    "    Displays top 10 subgroups.\n",
    "    \"\"\"\n",
    "    subgroup_counts = Counter(articles[subgroup_column]).most_common()\n",
    "        \n",
    "    names = [info[0] for info in subgroup_counts[:10]][::-1]\n",
    "    counts = [info[1] for info in subgroup_counts[:10]][::-1]\n",
    "    \n",
    "    fig, axes = plt.subplots(5, 2, figsize=(20, 20))\n",
    "    ax = axes.ravel()\n",
    "    i = len(ax)\n",
    "\n",
    "    for i, axi in enumerate(ax[::-1]):\n",
    "        articlesi = articles[articles[subgroup_column] == names[i]]\n",
    "        axi.hist(articlesi['num_words'], bins=15)\n",
    "        axi.set(title=f\"Number of words for {names[i]} ({counts[i]} articles)\")\n",
    "\n",
    "    plt.show();"
   ]
  },
  {
   "cell_type": "code",
   "execution_count": 14,
   "id": "super-lover",
   "metadata": {},
   "outputs": [
    {
     "data": {
      "image/png": "[encoded data removed]",
      "text/plain": [
       "<Figure size 1440x1440 with 10 Axes>"
      ]
     },
     "metadata": {
      "needs_background": "light"
     },
     "output_type": "display_data"
    }
   ],
   "source": [
    "plot_num_words_per_subgroup(\"news_site\")"
   ]
  },
  {
   "cell_type": "markdown",
   "id": "allied-swimming",
   "metadata": {},
   "source": [
    "## There is multiple sub-websites under the 'scoop' umbrella - maybe should group these together?"
   ]
  },
  {
   "cell_type": "code",
   "execution_count": 15,
   "id": "arabic-jimmy",
   "metadata": {},
   "outputs": [
    {
     "name": "stdout",
     "output_type": "stream",
     "text": [
      "Scoop sub-websites:\n",
      "auckland.scoop           | 63\n",
      "business.scoop           | 51\n",
      "wellington.scoop         | 14\n",
      "scoop                    | 227\n",
      "pacific.scoop            | 7\n"
     ]
    }
   ],
   "source": [
    "scoop_mask = articles['news_site'].str.contains(\"scoop\")\n",
    "\n",
    "print(\"Scoop sub-websites:\")\n",
    "scoop_websites = articles[scoop_mask]['news_site'].unique()\n",
    "for website in scoop_websites:\n",
    "    num_articles = np.sum(articles['news_site'] == website)\n",
    "    print(f\"{website: <25}| {num_articles}\")"
   ]
  },
  {
   "cell_type": "code",
   "execution_count": 16,
   "id": "extensive-reducing",
   "metadata": {},
   "outputs": [
    {
     "data": {
      "text/html": [
       "<div>\n",
       "<style scoped>\n",
       "    .dataframe tbody tr th:only-of-type {\n",
       "        vertical-align: middle;\n",
       "    }\n",
       "\n",
       "    .dataframe tbody tr th {\n",
       "        vertical-align: top;\n",
       "    }\n",
       "\n",
       "    .dataframe thead th {\n",
       "        text-align: right;\n",
       "    }\n",
       "</style>\n",
       "<table border=\"1\" class=\"dataframe\">\n",
       "  <thead>\n",
       "    <tr style=\"text-align: right;\">\n",
       "      <th></th>\n",
       "      <th>Datetime</th>\n",
       "      <th>URL</th>\n",
       "      <th>Text</th>\n",
       "      <th>Words</th>\n",
       "      <th>num_words</th>\n",
       "      <th>news_site</th>\n",
       "      <th>news_site_scoop</th>\n",
       "    </tr>\n",
       "  </thead>\n",
       "  <tbody>\n",
       "    <tr>\n",
       "      <th>28</th>\n",
       "      <td>2021-03-04 02:20:23</td>\n",
       "      <td>http://auckland.scoop.co.nz/2021/03/aaf-2021-s...</td>\n",
       "      <td>Press Release – Auckland Arts Festival\\n\\nAuck...</td>\n",
       "      <td>[Press, Release, Auckland, Arts, Festival, Auc...</td>\n",
       "      <td>357</td>\n",
       "      <td>auckland.scoop</td>\n",
       "      <td>scoop (all)</td>\n",
       "    </tr>\n",
       "    <tr>\n",
       "      <th>29</th>\n",
       "      <td>2021-03-04 02:20:28</td>\n",
       "      <td>http://auckland.scoop.co.nz/2021/03/cancellati...</td>\n",
       "      <td>Press Release – Surf Life Saving New Zealand\\n...</td>\n",
       "      <td>[Press, Release, Surf, Life, Saving, New, Zeal...</td>\n",
       "      <td>735</td>\n",
       "      <td>auckland.scoop</td>\n",
       "      <td>scoop (all)</td>\n",
       "    </tr>\n",
       "    <tr>\n",
       "      <th>30</th>\n",
       "      <td>2021-03-04 02:20:34</td>\n",
       "      <td>http://auckland.scoop.co.nz/2021/03/mapura-stu...</td>\n",
       "      <td>Press Release – Mapura Studios\\n\\nFollowing th...</td>\n",
       "      <td>[Press, Release, Mapura, Studios, Following, t...</td>\n",
       "      <td>541</td>\n",
       "      <td>auckland.scoop</td>\n",
       "      <td>scoop (all)</td>\n",
       "    </tr>\n",
       "    <tr>\n",
       "      <th>31</th>\n",
       "      <td>2021-03-04 02:20:40</td>\n",
       "      <td>http://auckland.scoop.co.nz/2021/03/soul-sessi...</td>\n",
       "      <td>Press Release – ecg\\n\\nIt’s a landmark occasio...</td>\n",
       "      <td>[Press, Release, ecg, It, s, a, landmark, occa...</td>\n",
       "      <td>596</td>\n",
       "      <td>auckland.scoop</td>\n",
       "      <td>scoop (all)</td>\n",
       "    </tr>\n",
       "    <tr>\n",
       "      <th>46</th>\n",
       "      <td>2021-03-04 02:46:07</td>\n",
       "      <td>http://auckland.scoop.co.nz/2021/03/covid-no-d...</td>\n",
       "      <td>Press Release – University of Auckland\\n\\nCovi...</td>\n",
       "      <td>[Press, Release, University, of, Auckland, Cov...</td>\n",
       "      <td>373</td>\n",
       "      <td>auckland.scoop</td>\n",
       "      <td>scoop (all)</td>\n",
       "    </tr>\n",
       "    <tr>\n",
       "      <th>47</th>\n",
       "      <td>2021-03-04 02:46:12</td>\n",
       "      <td>http://auckland.scoop.co.nz/2021/03/due-to-the...</td>\n",
       "      <td>Press Release – Genius Generation\\n\\nThere has...</td>\n",
       "      <td>[Press, Release, Genius, Generation, There, ha...</td>\n",
       "      <td>350</td>\n",
       "      <td>auckland.scoop</td>\n",
       "      <td>scoop (all)</td>\n",
       "    </tr>\n",
       "    <tr>\n",
       "      <th>48</th>\n",
       "      <td>2021-03-04 02:46:18</td>\n",
       "      <td>http://auckland.scoop.co.nz/2021/03/new-zealan...</td>\n",
       "      <td>Press Release – WTCF\\n\\nAuckland couple launch...</td>\n",
       "      <td>[Press, Release, WTCF, Auckland, couple, launc...</td>\n",
       "      <td>548</td>\n",
       "      <td>auckland.scoop</td>\n",
       "      <td>scoop (all)</td>\n",
       "    </tr>\n",
       "    <tr>\n",
       "      <th>49</th>\n",
       "      <td>2021-03-04 02:46:23</td>\n",
       "      <td>http://auckland.scoop.co.nz/2021/03/over-350-e...</td>\n",
       "      <td>Press Release – Neighbours Day\\n\\nCommunities ...</td>\n",
       "      <td>[Press, Release, Neighbours, Day, Communities,...</td>\n",
       "      <td>1588</td>\n",
       "      <td>auckland.scoop</td>\n",
       "      <td>scoop (all)</td>\n",
       "    </tr>\n",
       "    <tr>\n",
       "      <th>50</th>\n",
       "      <td>2021-03-04 02:46:29</td>\n",
       "      <td>http://auckland.scoop.co.nz/2021/03/seven-new-...</td>\n",
       "      <td>Press Release – IDC\\n\\nAUCKLAND, New Zealand, ...</td>\n",
       "      <td>[Press, Release, IDC, AUCKLAND, New, Zealand, ...</td>\n",
       "      <td>1726</td>\n",
       "      <td>auckland.scoop</td>\n",
       "      <td>scoop (all)</td>\n",
       "    </tr>\n",
       "    <tr>\n",
       "      <th>51</th>\n",
       "      <td>2021-03-04 02:46:35</td>\n",
       "      <td>http://auckland.scoop.co.nz/2021/03/university...</td>\n",
       "      <td>‘Cultivating resilience, changing the world’ w...</td>\n",
       "      <td>[Cultivating, resilience, changing, the, world...</td>\n",
       "      <td>562</td>\n",
       "      <td>auckland.scoop</td>\n",
       "      <td>scoop (all)</td>\n",
       "    </tr>\n",
       "    <tr>\n",
       "      <th>52</th>\n",
       "      <td>2021-03-04 02:46:40</td>\n",
       "      <td>http://auckland.scoop.co.nz/2021/03/young-clim...</td>\n",
       "      <td>Press Release – Coal Action Network\\n\\nTwo you...</td>\n",
       "      <td>[Press, Release, Coal, Action, Network, Two, y...</td>\n",
       "      <td>411</td>\n",
       "      <td>auckland.scoop</td>\n",
       "      <td>scoop (all)</td>\n",
       "    </tr>\n",
       "    <tr>\n",
       "      <th>78</th>\n",
       "      <td>2021-03-04 03:25:52</td>\n",
       "      <td>http://auckland.scoop.co.nz/2021/03/auckland-g...</td>\n",
       "      <td>Press Release – Auckland Garden DesignFest\\n\\n...</td>\n",
       "      <td>[Press, Release, Auckland, Garden, DesignFest,...</td>\n",
       "      <td>212</td>\n",
       "      <td>auckland.scoop</td>\n",
       "      <td>scoop (all)</td>\n",
       "    </tr>\n",
       "    <tr>\n",
       "      <th>79</th>\n",
       "      <td>2021-03-04 03:25:57</td>\n",
       "      <td>http://auckland.scoop.co.nz/2021/03/strongest-...</td>\n",
       "      <td>on Strongest Year Ever For Housing Consents In...</td>\n",
       "      <td>[on, Strongest, Year, Ever, For, Housing, Cons...</td>\n",
       "      <td>319</td>\n",
       "      <td>auckland.scoop</td>\n",
       "      <td>scoop (all)</td>\n",
       "    </tr>\n",
       "    <tr>\n",
       "      <th>80</th>\n",
       "      <td>2021-03-04 03:26:03</td>\n",
       "      <td>http://business.scoop.co.nz/2021/03/02/century...</td>\n",
       "      <td>Press Release – Century 21 Real Estate\\n\\nCent...</td>\n",
       "      <td>[Press, Release, Century, 21, Real, Estate, Ce...</td>\n",
       "      <td>564</td>\n",
       "      <td>business.scoop</td>\n",
       "      <td>scoop (all)</td>\n",
       "    </tr>\n",
       "    <tr>\n",
       "      <th>81</th>\n",
       "      <td>2021-03-04 03:34:33</td>\n",
       "      <td>http://wellington.scoop.co.nz/?p=134625</td>\n",
       "      <td>by George Eden, in Auckland\\n\\nI’m writing thi...</td>\n",
       "      <td>[by, George, Eden, in, Auckland, I, m, writing...</td>\n",
       "      <td>1562</td>\n",
       "      <td>wellington.scoop</td>\n",
       "      <td>scoop (all)</td>\n",
       "    </tr>\n",
       "    <tr>\n",
       "      <th>82</th>\n",
       "      <td>2021-03-04 03:34:39</td>\n",
       "      <td>http://wellington.scoop.co.nz/?p=134628</td>\n",
       "      <td>Report from RNZ\\n\\nWellington librarians are u...</td>\n",
       "      <td>[Report, from, RNZ, Wellington, librarians, ar...</td>\n",
       "      <td>842</td>\n",
       "      <td>wellington.scoop</td>\n",
       "      <td>scoop (all)</td>\n",
       "    </tr>\n",
       "    <tr>\n",
       "      <th>83</th>\n",
       "      <td>2021-03-04 03:34:44</td>\n",
       "      <td>http://wellington.scoop.co.nz/?p=134631</td>\n",
       "      <td>Press Release – Susie Says\\n\\nAfter two snap L...</td>\n",
       "      <td>[Press, Release, Susie, Says, After, two, snap...</td>\n",
       "      <td>177</td>\n",
       "      <td>wellington.scoop</td>\n",
       "      <td>scoop (all)</td>\n",
       "    </tr>\n",
       "    <tr>\n",
       "      <th>84</th>\n",
       "      <td>2021-03-04 03:34:51</td>\n",
       "      <td>http://wellington.scoop.co.nz/?p=134635</td>\n",
       "      <td>Wellington.Scoop\\n\\nWellington city councillor...</td>\n",
       "      <td>[Wellington, Scoop, Wellington, city, councill...</td>\n",
       "      <td>146</td>\n",
       "      <td>wellington.scoop</td>\n",
       "      <td>scoop (all)</td>\n",
       "    </tr>\n",
       "    <tr>\n",
       "      <th>85</th>\n",
       "      <td>2021-03-04 03:34:56</td>\n",
       "      <td>https://www.scoop.co.nz/stories/AK2103/S00076/...</td>\n",
       "      <td>Update - Serious Crash, Tauwhare Road, Tamaher...</td>\n",
       "      <td>[Update, Serious, Crash, Tauwhare, Road, Tamah...</td>\n",
       "      <td>77</td>\n",
       "      <td>scoop</td>\n",
       "      <td>scoop (all)</td>\n",
       "    </tr>\n",
       "    <tr>\n",
       "      <th>86</th>\n",
       "      <td>2021-03-04 03:35:03</td>\n",
       "      <td>https://www.scoop.co.nz/stories/AK2103/S00077/...</td>\n",
       "      <td>Meet Your 2021 Stratford District Youth Counci...</td>\n",
       "      <td>[Meet, Your, 2021, Stratford, District, Youth,...</td>\n",
       "      <td>331</td>\n",
       "      <td>scoop</td>\n",
       "      <td>scoop (all)</td>\n",
       "    </tr>\n",
       "  </tbody>\n",
       "</table>\n",
       "</div>"
      ],
      "text/plain": [
       "              Datetime                                                URL  \\\n",
       "28 2021-03-04 02:20:23  http://auckland.scoop.co.nz/2021/03/aaf-2021-s...   \n",
       "29 2021-03-04 02:20:28  http://auckland.scoop.co.nz/2021/03/cancellati...   \n",
       "30 2021-03-04 02:20:34  http://auckland.scoop.co.nz/2021/03/mapura-stu...   \n",
       "31 2021-03-04 02:20:40  http://auckland.scoop.co.nz/2021/03/soul-sessi...   \n",
       "46 2021-03-04 02:46:07  http://auckland.scoop.co.nz/2021/03/covid-no-d...   \n",
       "47 2021-03-04 02:46:12  http://auckland.scoop.co.nz/2021/03/due-to-the...   \n",
       "48 2021-03-04 02:46:18  http://auckland.scoop.co.nz/2021/03/new-zealan...   \n",
       "49 2021-03-04 02:46:23  http://auckland.scoop.co.nz/2021/03/over-350-e...   \n",
       "50 2021-03-04 02:46:29  http://auckland.scoop.co.nz/2021/03/seven-new-...   \n",
       "51 2021-03-04 02:46:35  http://auckland.scoop.co.nz/2021/03/university...   \n",
       "52 2021-03-04 02:46:40  http://auckland.scoop.co.nz/2021/03/young-clim...   \n",
       "78 2021-03-04 03:25:52  http://auckland.scoop.co.nz/2021/03/auckland-g...   \n",
       "79 2021-03-04 03:25:57  http://auckland.scoop.co.nz/2021/03/strongest-...   \n",
       "80 2021-03-04 03:26:03  http://business.scoop.co.nz/2021/03/02/century...   \n",
       "81 2021-03-04 03:34:33            http://wellington.scoop.co.nz/?p=134625   \n",
       "82 2021-03-04 03:34:39            http://wellington.scoop.co.nz/?p=134628   \n",
       "83 2021-03-04 03:34:44            http://wellington.scoop.co.nz/?p=134631   \n",
       "84 2021-03-04 03:34:51            http://wellington.scoop.co.nz/?p=134635   \n",
       "85 2021-03-04 03:34:56  https://www.scoop.co.nz/stories/AK2103/S00076/...   \n",
       "86 2021-03-04 03:35:03  https://www.scoop.co.nz/stories/AK2103/S00077/...   \n",
       "\n",
       "                                                 Text  \\\n",
       "28  Press Release – Auckland Arts Festival\\n\\nAuck...   \n",
       "29  Press Release – Surf Life Saving New Zealand\\n...   \n",
       "30  Press Release – Mapura Studios\\n\\nFollowing th...   \n",
       "31  Press Release – ecg\\n\\nIt’s a landmark occasio...   \n",
       "46  Press Release – University of Auckland\\n\\nCovi...   \n",
       "47  Press Release – Genius Generation\\n\\nThere has...   \n",
       "48  Press Release – WTCF\\n\\nAuckland couple launch...   \n",
       "49  Press Release – Neighbours Day\\n\\nCommunities ...   \n",
       "50  Press Release – IDC\\n\\nAUCKLAND, New Zealand, ...   \n",
       "51  ‘Cultivating resilience, changing the world’ w...   \n",
       "52  Press Release – Coal Action Network\\n\\nTwo you...   \n",
       "78  Press Release – Auckland Garden DesignFest\\n\\n...   \n",
       "79  on Strongest Year Ever For Housing Consents In...   \n",
       "80  Press Release – Century 21 Real Estate\\n\\nCent...   \n",
       "81  by George Eden, in Auckland\\n\\nI’m writing thi...   \n",
       "82  Report from RNZ\\n\\nWellington librarians are u...   \n",
       "83  Press Release – Susie Says\\n\\nAfter two snap L...   \n",
       "84  Wellington.Scoop\\n\\nWellington city councillor...   \n",
       "85  Update - Serious Crash, Tauwhare Road, Tamaher...   \n",
       "86  Meet Your 2021 Stratford District Youth Counci...   \n",
       "\n",
       "                                                Words  num_words  \\\n",
       "28  [Press, Release, Auckland, Arts, Festival, Auc...        357   \n",
       "29  [Press, Release, Surf, Life, Saving, New, Zeal...        735   \n",
       "30  [Press, Release, Mapura, Studios, Following, t...        541   \n",
       "31  [Press, Release, ecg, It, s, a, landmark, occa...        596   \n",
       "46  [Press, Release, University, of, Auckland, Cov...        373   \n",
       "47  [Press, Release, Genius, Generation, There, ha...        350   \n",
       "48  [Press, Release, WTCF, Auckland, couple, launc...        548   \n",
       "49  [Press, Release, Neighbours, Day, Communities,...       1588   \n",
       "50  [Press, Release, IDC, AUCKLAND, New, Zealand, ...       1726   \n",
       "51  [Cultivating, resilience, changing, the, world...        562   \n",
       "52  [Press, Release, Coal, Action, Network, Two, y...        411   \n",
       "78  [Press, Release, Auckland, Garden, DesignFest,...        212   \n",
       "79  [on, Strongest, Year, Ever, For, Housing, Cons...        319   \n",
       "80  [Press, Release, Century, 21, Real, Estate, Ce...        564   \n",
       "81  [by, George, Eden, in, Auckland, I, m, writing...       1562   \n",
       "82  [Report, from, RNZ, Wellington, librarians, ar...        842   \n",
       "83  [Press, Release, Susie, Says, After, two, snap...        177   \n",
       "84  [Wellington, Scoop, Wellington, city, councill...        146   \n",
       "85  [Update, Serious, Crash, Tauwhare, Road, Tamah...         77   \n",
       "86  [Meet, Your, 2021, Stratford, District, Youth,...        331   \n",
       "\n",
       "           news_site news_site_scoop  \n",
       "28    auckland.scoop     scoop (all)  \n",
       "29    auckland.scoop     scoop (all)  \n",
       "30    auckland.scoop     scoop (all)  \n",
       "31    auckland.scoop     scoop (all)  \n",
       "46    auckland.scoop     scoop (all)  \n",
       "47    auckland.scoop     scoop (all)  \n",
       "48    auckland.scoop     scoop (all)  \n",
       "49    auckland.scoop     scoop (all)  \n",
       "50    auckland.scoop     scoop (all)  \n",
       "51    auckland.scoop     scoop (all)  \n",
       "52    auckland.scoop     scoop (all)  \n",
       "78    auckland.scoop     scoop (all)  \n",
       "79    auckland.scoop     scoop (all)  \n",
       "80    business.scoop     scoop (all)  \n",
       "81  wellington.scoop     scoop (all)  \n",
       "82  wellington.scoop     scoop (all)  \n",
       "83  wellington.scoop     scoop (all)  \n",
       "84  wellington.scoop     scoop (all)  \n",
       "85             scoop     scoop (all)  \n",
       "86             scoop     scoop (all)  "
      ]
     },
     "execution_count": 16,
     "metadata": {},
     "output_type": "execute_result"
    }
   ],
   "source": [
    "# create new column which groups all the scoop websites together\n",
    "articles['news_site_scoop'] = np.where(articles['news_site'].isin(scoop_websites), \"scoop (all)\", articles['news_site'])\n",
    "\n",
    "# check it has worked\n",
    "articles[articles['news_site_scoop'] == \"scoop (all)\"].head(20)"
   ]
  },
  {
   "cell_type": "code",
   "execution_count": 17,
   "id": "varied-florist",
   "metadata": {},
   "outputs": [
    {
     "data": {
      "image/png": "[encoded data removed]",
      "text/plain": [
       "<Figure size 720x360 with 1 Axes>"
      ]
     },
     "metadata": {
      "needs_background": "light"
     },
     "output_type": "display_data"
    }
   ],
   "source": [
    "plot_num_articles_per_subgroup(\"news_site_scoop\", title=\"Number of Articles per News Site (top 15, scoop-aggregated)\", num_subgroups=15)"
   ]
  },
  {
   "cell_type": "code",
   "execution_count": 18,
   "id": "mineral-zimbabwe",
   "metadata": {},
   "outputs": [
    {
     "data": {
      "image/png": "[encoded data removed]",
      "text/plain": [
       "<Figure size 1440x1440 with 10 Axes>"
      ]
     },
     "metadata": {
      "needs_background": "light"
     },
     "output_type": "display_data"
    }
   ],
   "source": [
    "plot_num_words_per_subgroup(\"news_site_scoop\")"
   ]
  },
  {
   "cell_type": "code",
   "execution_count": 19,
   "id": "biological-yukon",
   "metadata": {},
   "outputs": [
    {
     "name": "stdout",
     "output_type": "stream",
     "text": [
      "https://www.nzherald.co.nz/bay-of-plenty-times/news/grieving-whangamata-mum-helps-community-after-sons-death/N3KNWWR373DW2QQGLZ5ZHOK4AU/\n",
      "https://www.nzherald.co.nz/bay-of-plenty-times/news/serious-injuries-in-crash-on-state-highway-30-whakatane/Q4TWNGVZ4K7HWKXGS3PRDSY4XE/\n",
      "https://www.nzherald.co.nz/business/internet-traffic-hits-second-highest-peak-but-its-not-the-lockdown/6XB3QAECYECTZGK6OYOENOAH3E/\n",
      "https://www.nzherald.co.nz/hawkes-bay-today/news/damage-to-dannevirkes-iconic-carnegie-building-concerns-board/X6HHRP7TTGIYMIJ7N2FCXRCJK4/\n",
      "https://www.nzherald.co.nz/hawkes-bay-today/news/rescue-helicopter-open-day-postponed/ARDMZFIET5OCM2M3SCQZYVJCJI/\n",
      "https://www.nzherald.co.nz/whanganui-chronicle/news/hundreds-of-homes-across-rangitikei-region-without-power/MHA6J47GYILQLJNLC4UD3U4SWI/\n",
      "https://www.nzherald.co.nz/nz/wanted-sean-broderick-still-on-the-run-could-be-anywhere/FY5XMLB2SGH3MYJOH47BIUMH6Q/\n",
      "https://www.nzherald.co.nz/the-country/news/prison-inmates-in-south-otago-skill-up-on-dairy-farm/AYBYDQJZ77INYNYBRGNX3C7VF4/\n",
      "https://www.nzherald.co.nz/the-country/news/the-country-walking-edition/GFYW2ETOPASIREHOBSS2YWKGCE/\n",
      "https://www.nzherald.co.nz/the-country/news/central-otago-grape-harvest-gets-under-way/QCJYPDUQZYWJP7UXKXZS4AECJ4/\n",
      "https://www.nzherald.co.nz/world/spacex-rocket-explodes-shortly-after-successful-landing/7IHQCKEAP4IRGT2YFKAT4FUUVE/\n",
      "https://asiapacificreport.nz/2021/03/04/frank-senge-kolma-somare-could-lose-his-temper-trust-me-i-know/\n",
      "https://asiapacificreport.nz/2021/03/04/port-moresby-to-get-bronze-statue-of-png-founding-father/\n",
      "https://asiapacificreport.nz/2021/03/04/rsf-protests-over-11-journalists-held-in-myanmar-coup-military-crackdown/\n",
      "https://www.tvnz.co.nz/one-news/new-zealand/-he-does-get-around-bloomfield-addresses-brian-tamaki-leaving-auckland-hannah-refusing-vaccine\n",
      "https://www.tvnz.co.nz/one-news/new-zealand/auckland-storm-brings-wild-winds-gulf-harbour\n",
      "https://www.tvnz.co.nz/one-news/new-zealand/fall-in-love-science-former-anti-vaxxer-urges-people-make-informed-choice-covid-19-vaccines\n",
      "https://www.tvnz.co.nz/one-news/new-zealand/full-video-ashley-bloomfield-updates-covid-19-numbers-crunch-day-results\n",
      "https://www.tvnz.co.nz/one-news/new-zealand/hannah-mcgown-former-self-described-anti-vaxxer-shares-her-insights-ahead-covid-19-vaccine-rollout\n",
      "https://www.tvnz.co.nz/one-news/new-zealand/no-new-cases-covid-19-in-community-managed-isolation-case-taken-hospital\n",
      "https://www.tvnz.co.nz/one-news/new-zealand/no-new-covid-19-community-cases-today-gym-contact-tests-roll-in\n",
      "https://www.tvnz.co.nz/one-news/sport/golf/us-police-investigating-black-box-tiger-woods-suv-learn-more-crash\n",
      "https://www.tvnz.co.nz/one-news/sport/other/team-nz-grinder-details-crews-measures-hit-target-americas-cup-weigh-in\n",
      "https://www.nzherald.co.nz/nz/herald-afternoon-quiz-march-4/ZE5T3IQTA2WS4GZZP4JIVRS4ZU/\n",
      "https://www.nzherald.co.nz/nz/chris-lynch-christchurch-city-council-owned-vbases-rebranding-financially-reckless-in-global-pandemic/RRVJZCQPHANXNZOUJV6RAWPFDY/\n",
      "https://www.nzherald.co.nz/nz/truck-rolls-in-kaukapakapa-north-of-riverhead-in-auckland/YLURGCBWNYVZWCS3L2STTWAQN4/\n",
      "https://www.nzherald.co.nz/nz/seaweek-rescue-story-of-ocean-the-dehydrated-penguin-highlighted-in-napier/YFAOUQJBLRJO6VR74YXQILJX6E/\n",
      "https://www.nzherald.co.nz/nz/driver-ploughs-through-fence-abandons-baby-in-christchurch/XGIGPIYEOSIT7PESXI54XHKSIU/\n",
      "http://auckland.scoop.co.nz/2021/03/aaf-2021-shows-status-update-2/\n",
      "http://auckland.scoop.co.nz/2021/03/cancellation-of-tsb-new-zealand-surf-life-saving-championships-a-heart-breaking-but-necessary-decision/\n",
      "http://auckland.scoop.co.nz/2021/03/mapura-studios-goes-national-with-online-creative-programme-moa/\n",
      "http://auckland.scoop.co.nz/2021/03/soul-sessions-the-new-series-reaching-diverse-nz-audiences/\n",
      "https://www.nzherald.co.nz/entertainment/covid-19-coronavirus-hilary-barry-takes-swipe-at-hannah-tamakis-vaccine-comments/DVZUDPF75WFS4NTECYGPBEXP4Q/\n",
      "https://www.nzherald.co.nz/lifestyle/absolutely-disgusted-jamie-oliver-leaves-fans-puzzled-with-unusual-pizza-topping/3OOELCDHNUN62NQ65UCHGAR7TM/\n",
      "https://www.nzherald.co.nz/lifestyle/covid-19-coronavirus-death-toll-fuelled-by-obesity-problems-say-experts/7EJTLHR6YRTAMQLYK3JXLWVM3A/\n",
      "https://www.nzherald.co.nz/nz/covid-19-coronavirus-mangere-bakery-warned-about-lax-level-3-rules/VLJKVXF3QOSU573XW7UQ7MRY24/\n",
      "https://www.nzherald.co.nz/nz/covid-19-coronavirus-no-new-cases-means-reasonable-chance-lockdown-worked/T5YNVDVYIJDINWRPYYQUJ7SJMI/\n",
      "https://www.nzherald.co.nz/nz/covid-19-coronavirus-no-new-community-cases-today-but-no-chance-of-early-end-to-lock-down/NHXKIPGSWXD6WCEVOGHCV2BY4I/\n",
      "https://www.nzherald.co.nz/nz/judge-reserves-decision-on-name-suppression-for-alleged-bigamist-and-fraudster/45MYL6ZUGZ6Z4NEABMIZYYWNVU/\n",
      "https://www.nzherald.co.nz/nz/serious-crash-person-dead-after-truck-car-collide-south-of-hamilton/SMI7VLTRL6P53AXPOIZPDGYGOA/\n",
      "https://www.nzherald.co.nz/nz/warning-as-severe-thunderstorms-hit-inland-hawkes-bay/IQ3HL2X4LKQTN2NJ2C6D3V75DI/\n",
      "https://www.nzherald.co.nz/nz/wellington-city-council-pulls-the-plug-on-76-million-loan-for-airport/4V675DSEWOZG7TJO54X56UI4KQ/\n",
      "https://www.nzherald.co.nz/sponsored-stories/how-to-keep-onside-at-tax-time/F3JVLUNBH3HC7KPDYIETV6OJ6E/\n",
      "https://www.nzherald.co.nz/sport/americas-cup-2021-advantage-luna-rossa-team-new-zealand-skipper-glenn-ashbys-hint-about-rivals-patented-strategy/NNCSQL23C4IP3GJSWJP2K6RKMI/\n",
      "https://www.nzherald.co.nz/travel/new-zealand-and-australias-13-most-luxurious-lodges-revealed/SBWYYPX6YIYPNAY2K7NUGKVWVU/\n",
      "https://www.nzherald.co.nz/world/covid-19-coronavirus-joe-biden-decries-rollback-of-texas-restrictions/IGKAZAHKWHFNCRWEAUJQEFHT34/\n",
      "http://auckland.scoop.co.nz/2021/03/covid-no-damper-on-world-leading-subject-rankings/\n",
      "http://auckland.scoop.co.nz/2021/03/due-to-the-auckland-level-3-covid19-restrictions-genius-generation-launches-their-free-stem-resources-website-early/\n",
      "http://auckland.scoop.co.nz/2021/03/new-zealands-first-dedicated-cystic-fibrosis-podcast-what-the-cf-a-cystic-fibrosis-podcast/\n",
      "http://auckland.scoop.co.nz/2021/03/over-350-events-confirmed-for-neighbours-day-aotearoa-2021/\n",
      "http://auckland.scoop.co.nz/2021/03/seven-new-zealand-projects-shortlisted-in-idcs-asia-pacific-smart-cities-awards/\n",
      "http://auckland.scoop.co.nz/2021/03/university-of-auckland-and-penn-state-unite-on-international-summit/\n",
      "http://auckland.scoop.co.nz/2021/03/young-climate-change-activists-recognised-by-inaugural-jeanette-fitzsimons-award-on-the-anniversary-of-her-death/\n",
      "http://www.voxy.co.nz/entertainment/5/382833\n",
      "https://www.stuff.co.nz/dominion-post/wellington/121522769/10m-cost-blowout-for-significant-wellington-water-project\n",
      "https://www.tvnz.co.nz/one-news/new-zealand/ashely-bloomfield-says-auckland-lockdown-still-justified-despite-fourth-day-no-community-covid-19-cases\n",
      "https://www.tvnz.co.nz/one-news/new-zealand/dr-bloomfield-says-auckland-lockdown-decision-pinned-remaining-gym-contact-tests\n",
      "https://www.tvnz.co.nz/one-news/new-zealand/he-does-get-around-bloomfield-addresses-tamakis-leaving-auckland-refusing-vaccine\n",
      "https://www.tvnz.co.nz/one-news/new-zealand/one-person-dead-after-crash-between-truck-and-car-in-waikato\n",
      "https://www.tvnz.co.nz/one-news/new-zealand/pharmac-swapping-epilepsy-drugs-cannot-discounted-cause-deaths-neurologist\n",
      "https://www.tvnz.co.nz/one-news/sport/cricket/hero-zero-sri-lankan-bowler-earns-t20-hat-trick-before-giving-up-six-sixes-in-following-over\n",
      "https://www.tvnz.co.nz/one-news/sport/cricket/hero-zero-sri-lankan-spinner-earns-hat-trick-before-giving-up-six-sixes-in-following-over\n",
      "https://www.tvnz.co.nz/one-news/world/queensland-teen-dies-after-being-stung-worlds-most-venomous-jellyfish\n",
      "https://www.tvnz.co.nz/one-news/world/spacex-attempts-third-launch-huge-next-generation-spacecraft\n",
      "https://www.nzherald.co.nz/world/australian-prime-minister-scott-morrison-backs-attorney-general-christian-porter-after-rape-allegations/XG4ZERZBUURNBDLCTBHV4J24WM/\n",
      "https://www.nzherald.co.nz/entertainment/the-bachelor-nz-week-one-review-is-the-moses-mackay-fronted-season-worth-watching/LWFZXFB7DIUODMBRGKVW5R5EFM/\n",
      "https://www.nzherald.co.nz/hawkes-bay-today/news/athletics-nz-champs-in-hastings-back-on/N7ZBHUCJVBHIRFDSHNOBFXTHUY/\n",
      "https://www.nzherald.co.nz/lifestyle/fine-dining-at-home-the-best-lockdown-eats-to-get-you-through-the-weekend/BEJ3EKVSRYEGZHZHZADRSYK3CM/\n",
      "https://www.nzherald.co.nz/lifestyle/tradies-finds-20-year-old-note-and-gift-in-base-of-kitchen-cupboard/L4EOQ4UUTYGGFMH3TPJ4Q5PQGI/\n",
      "https://www.nzherald.co.nz/the-country/news/gene-editing-vital-for-climate-proofing-future-crops-research/VFESBKRIZUXPEZT5K3VFFXTSMU/\n",
      "https://www.nzherald.co.nz/whanganui-chronicle/sport/media-shy-whanganui-multisporters-josh-payne-and-ashley-christie-have-won-again-at-the-coast-to-coast/KHFVYWVL67ZLZU3VAVEC4XGTCM/\n",
      "https://www.driven.co.nz/news/watch-off-road-recovery-goes-wrong-in-spectacular-fashion/?utm_source=nzh&utm_medium=referral&utm_campaign=topbox\n",
      "https://thespinoff.co.nz/books/04-03-2021/briar-grace-smith-what-my-library-means-to-me/\n",
      "https://thespinoff.co.nz/food/04-03-2021/meet-the-south-auckland-women-behind-a-healthy-food-revolution/\n",
      "https://thespinoff.co.nz/podcasts/business-is-boring-callaghan/04-03-2021/business-is-boring-the-nz-entrepreneur-out-to-eradicate-wet-wipes/\n",
      "https://thespinoff.co.nz/society/04-03-2021/not-just-a-bump-in-the-road-performing-artists-on-lockdowns-cruel-blows/\n",
      "https://thespinoff.co.nz/sports/04-03-2021/the-legend-of-precious-mckenzie/\n",
      "https://thespinoff.co.nz/tv/04-03-2021/the-best-of-the-spinoffs-video-series/\n",
      "http://auckland.scoop.co.nz/2021/03/auckland-garden-designfest-postponed-to-november-2022/\n",
      "http://auckland.scoop.co.nz/2021/03/strongest-year-ever-for-housing-consents-in-auckland-with-17000-dwellings-consented/\n",
      "http://business.scoop.co.nz/2021/03/02/century-21-announces-its-2020-stars/\n",
      "http://wellington.scoop.co.nz/?p=134625\n",
      "http://wellington.scoop.co.nz/?p=134628\n",
      "http://wellington.scoop.co.nz/?p=134631\n",
      "http://wellington.scoop.co.nz/?p=134635\n",
      "https://www.scoop.co.nz/stories/AK2103/S00076/update-serious-crash-tauwhare-road-tamahere-waikato.htm\n",
      "https://www.scoop.co.nz/stories/AK2103/S00077/meet-your-2021-stratford-district-youth-councillors.htm\n",
      "https://www.scoop.co.nz/stories/AK2103/S00078/sister-cities-40-years-and-counting.htm\n",
      "https://www.scoop.co.nz/stories/AK2103/S00079/auckland-garden-designfest-postponed-to-november-2022.htm\n",
      "https://www.scoop.co.nz/stories/AK2103/S00080/strongest-year-ever-for-housing-consents-in-auckland-with-17000-dwellings-consented.htm\n",
      "https://www.scoop.co.nz/stories/AK2103/S00081/change-in-fire-season-for-the-kaipara-district.htm\n",
      "https://www.scoop.co.nz/stories/AK2103/S00082/police-seeking-jahrome-simon.htm\n",
      "https://www.scoop.co.nz/stories/BU2103/S00094/seven-new-zealand-projects-shortlisted-in-idcs-asia-pacific-smart-cities-awards.htm\n",
      "https://www.scoop.co.nz/stories/BU2103/S00095/largest-ever-kiwifruit-harvest-begins.htm\n",
      "https://www.scoop.co.nz/stories/BU2103/S00096/rolling-restrictions-highlight-precarious-business-positions.htm\n",
      "https://www.scoop.co.nz/stories/CU2103/S00045/mapura-studios-goes-national-with-online-creative-programme-moa.htm\n",
      "https://www.scoop.co.nz/stories/CU2103/S00046/rotorua-mayor-offers-warm-welcome-to-godzone-as-course-revealed-to-competitors.htm\n",
      "https://www.scoop.co.nz/stories/GE2103/S00024/new-zealands-first-dedicated-cystic-fibrosis-podcast-what-the-cf-a-cystic-fibrosis-podcast.htm\n",
      "https://www.scoop.co.nz/stories/GE2103/S00025/no-new-covid-19-community-cases-6-cases-in-managed-isolation.htm\n",
      "https://www.scoop.co.nz/stories/GE2103/S00026/new-zealanders-being-denied-critical-health-treatment.htm\n",
      "https://www.scoop.co.nz/stories/GE2103/S00027/the-pharmac-non-review.htm\n"
     ]
    }
   ],
   "source": [
    "for x in articles.loc[:100, 'URL']: print(x)"
   ]
  },
  {
   "cell_type": "markdown",
   "id": "ordered-valuation",
   "metadata": {},
   "source": [
    "## Location Extraction #1: simple string search\n",
    "\n",
    "This searches the text in the articles, but maybe it could be used along with searching the URLs."
   ]
  },
  {
   "cell_type": "code",
   "execution_count": 20,
   "id": "fundamental-token",
   "metadata": {},
   "outputs": [
    {
     "name": "stdout",
     "output_type": "stream",
     "text": [
      "City-to-region dictionary:\n",
      "{'Auckland': 'Auckland', 'Wellington': 'Wellington', 'Christchurch': 'Canterbury', 'Manukau City': 'Auckland', 'Waitakere': 'Auckland', 'Northcote': 'Auckland', 'Hamilton': 'Waikato', 'Tauranga': 'Bay of Plenty', 'Dunedin': 'Otago', 'Lower Hutt': 'Wellington', 'Palmerston North': 'Manawatu-Wanganui', 'Napier': 'Hawke’s Bay', 'Porirua': 'Wellington', 'New Plymouth': 'Taranaki', 'Rotorua': 'Bay of Plenty', 'Whangarei': 'Northland', 'Nelson': 'Nelson', 'Invercargill': 'Southland', 'Upper Hutt': 'Wellington', 'Whanganui': 'Manawatu-Wanganui', 'Gisborne': 'Gisborne', 'Paraparaumu': 'Wellington', 'Timaru': 'Canterbury', 'Blenheim': 'Marlborough', 'Pukekohe East': 'Auckland', 'Taupo': 'Waikato', 'Masterton': 'Wellington', 'Cambridge': 'Waikato', 'Levin': 'Manawatu-Wanganui', 'Ashton': 'Canterbury', 'Macetown': 'Otago', 'Feilding': 'Manawatu-Wanganui', 'Rolleston': 'Canterbury', 'Whakatane': 'Bay of Plenty', 'Richmond': 'Tasman', 'Havelock North': 'Hawke’s Bay', 'Tokoroa': 'Waikato', 'Mosgiel': 'Otago', 'Te Awamutu': 'Waikato', 'Waikanae': 'Wellington', 'Hawera': 'Taranaki', 'Glencoe': 'Southland', 'Waiuku': 'Auckland', 'Wanaka': 'Otago', 'Te Puke': 'Bay of Plenty', 'Greymouth': 'West Coast', 'Matamata': 'Waikato', 'Thames': 'Waikato', 'Kawerau': 'Bay of Plenty', 'Waitara': 'Taranaki', 'Kerikeri': 'Northland', 'Ngaruawahia': 'Waikato', 'Lincoln': 'Canterbury', 'Kaitaia': 'Northland', 'Stratford': 'Taranaki', 'Alexandra': 'Otago', 'Cromwell': 'Otago', 'Warkworth': 'Auckland', 'Waihi': 'Waikato', 'Marton': 'Manawatu-Wanganui', 'Dargaville': 'Northland', 'Whitianga': 'Waikato', 'Tuakau': 'Waikato', 'Katikati': 'Bay of Plenty', 'Westport': 'West Coast', 'Opotiki': 'Bay of Plenty', 'Kaikohe': 'Northland', 'Otaki': 'Wellington', 'Te Aroha': 'Waikato', 'Prebbleton': 'Canterbury', 'Wairoa': 'Hawke’s Bay', 'Paeroa': 'Waikato', 'Whangamata': 'Waikato', 'Balclutha': 'Otago', 'Snells Beach': 'Auckland', 'Turangi': 'Waikato', 'Raglan': 'Waikato', 'Ohope Beach': 'Bay of Plenty', 'Helensville': 'Auckland', 'Foxton': 'Manawatu-Wanganui', 'Woodend': 'Canterbury', 'Hokitika': 'West Coast', 'Ashhurst': 'Manawatu-Wanganui', 'Arrowtown': 'Otago', 'Renwick': 'Marlborough', 'Darfield': 'Canterbury', 'Otorohanga': 'Waikato', 'Omokoroa': 'Bay of Plenty', 'Kihikihi': 'Waikato', 'Wakefield': 'Tasman', 'Pahiatua': 'Manawatu-Wanganui', 'Winton': 'Southland', 'Ruakaka': 'Northland', 'Maraetai': 'Auckland', 'Te Anau': 'Southland', 'Clive': 'Hawke’s Bay', 'Kaikoura': 'Canterbury', 'Oxford': 'Canterbury', 'Pokeno': 'Waikato', 'Wellsford': 'Auckland'}\n",
      "\n",
      "Regions:\n",
      "['Auckland', 'Wellington', 'Canterbury', 'Waikato', 'Bay of Plenty', 'Otago', 'Manawatu-Wanganui', 'Hawke’s Bay', 'Taranaki', 'Northland', 'Nelson', 'Southland', 'Gisborne', 'Marlborough', 'Tasman', 'West Coast']\n"
     ]
    }
   ],
   "source": [
    "# https://en.wikipedia.org/wiki/List_of_cities_in_New_Zealand\n",
    "top_20_cities = [\n",
    "    \"Auckland\", \"Christchurch\", \"Wellington\", \"Hamilton\", \"Tauranga\",\n",
    "    \"Lower Hutt\", \"Dunedin\", \"Palmerston North\", \"Napier\", \"Hibiscus Coast\",\n",
    "    \"Porirua\", \"Rotorua\", \"New Plymouth\", \"Whangarei\", \"Nelson\", \"Invercargill\",\n",
    "    \"Hastings\", \"Upper Hutt\", \"Whanaganui\", \"Gisborne\"\n",
    "]\n",
    "# https://en.wikipedia.org/wiki/Regions_of_New_Zealand\n",
    "regions = [\n",
    "    \"Northland\", \"Auckland\", \"Waikato\", \"Bay of Plenty\", \"Gisborne\", \n",
    "    \"Hawke's Bay\", \"Taranaki\", \"Manawatu-Whanganui\", \"Wellington\", \"Tasman\",\n",
    "    \"Nelson\", \"Marlborough\", \"West Coast\", \"Canterbury\", \"Otago\", \"Southland\"\n",
    "]\n",
    "# use set to remove duplicates\n",
    "# proper_place_names = sorted(list(set(top_20_cities + regions)))\n",
    "        \n",
    "# place_names = ['-'.join(name.split(' ')).lower() if ' ' in name \n",
    "#                else name.lower()\n",
    "#                for name in proper_place_names]\n",
    "\n",
    "# URL gives the top 100 cities by population\n",
    "url = \"https://simplemaps.com/static/data/country-cities/nz/nz.csv\"\n",
    "with requests.get(url, stream=True) as r:\n",
    "    csv_stringio = StringIO(r.content.decode('utf-8'))\n",
    "    nz_cities = pd.read_csv(csv_stringio)\n",
    "    \n",
    "nz_cities = nz_cities[nz_cities['admin_name'] != 'Chatham Islands']  # remove Chatham Islands as small population\n",
    "\n",
    "city_to_region = {city: region for city, region in zip(nz_cities['city'], nz_cities['admin_name'])}\n",
    "# Construct list of all place names including cities and regions\n",
    "place_names = list(set(city_to_region.keys()) | set(city_to_region.values()))\n",
    "\n",
    "print(\"City-to-region dictionary:\")\n",
    "print(city_to_region)\n",
    "print()\n",
    "print(\"Regions:\")\n",
    "print(nz_cities['admin_name'].unique().tolist())\n",
    "# !!should handle accents eg Whangarei vs. Whangārei, Manawatu-Whanganui vs. Manawatū-Whanganui"
   ]
  },
  {
   "cell_type": "code",
   "execution_count": 21,
   "id": "driven-accommodation",
   "metadata": {},
   "outputs": [
    {
     "name": "stdout",
     "output_type": "stream",
     "text": [
      "CPU times: user 187 ms, sys: 2.96 ms, total: 190 ms\n",
      "Wall time: 188 ms\n"
     ]
    }
   ],
   "source": [
    "%%time\n",
    "names_joined = '|'.join(place_names)\n",
    "articles['locations_str'] = [re.findall(names_joined, text) for text in articles['Text']]"
   ]
  },
  {
   "cell_type": "code",
   "execution_count": 22,
   "id": "wrapped-carter",
   "metadata": {},
   "outputs": [
    {
     "name": "stdout",
     "output_type": "stream",
     "text": [
      "No locations:\n",
      "770\n",
      "No locations and more than 20 words:\n",
      "630\n",
      "No locations and more than 50 words:\n",
      "584\n"
     ]
    }
   ],
   "source": [
    "no_locations_str_mask = [len(x) == 0 for x in articles['locations_str']]\n",
    "\n",
    "print(\"No locations:\")\n",
    "print(articles[no_locations_str_mask].shape[0])\n",
    "print(\"No locations and more than 20 words:\")\n",
    "print(articles[np.logical_and(no_locations_str_mask, get_more_mask(20))].shape[0])\n",
    "print(\"No locations and more than 50 words:\")\n",
    "print(articles[np.logical_and(no_locations_str_mask, get_more_mask(50))].shape[0])"
   ]
  },
  {
   "cell_type": "markdown",
   "id": "institutional-charter",
   "metadata": {},
   "source": [
    "## Location Extraction #2: spaCy package\n",
    "\n",
    "__spaCy reognises the following entities:__\n",
    "- PERSON:      People, including fictional.\n",
    "- NORP:        Nationalities or religious or political groups.\n",
    "- FAC:         Buildings, airports, highways, bridges, etc.\n",
    "- ORG:         Companies, agencies, institutions, etc.\n",
    "- GPE:         Countries, cities, states.\n",
    "- LOC:         Non-GPE locations, mountain ranges, bodies of water.\n",
    "- PRODUCT:     Objects, vehicles, foods, etc. (Not services.)\n",
    "- EVENT:       Named hurricanes, battles, wars, sports events, etc.\n",
    "- WORK_OF_ART: Titles of books, songs, etc.\n",
    "- LAW:         Named documents made into laws.\n",
    "- LANGUAGE:    Any named language.\n",
    "- DATE:        Absolute or relative dates or periods.\n",
    "- TIME:        Times smaller than a day.\n",
    "- PERCENT:     Percentage, including ”%“.\n",
    "- MONEY:       Monetary values, including unit.\n",
    "- QUANTITY:    Measurements, as of weight or distance.\n",
    "- ORDINAL:     “first”, “second”, etc.\n",
    "- CARDINAL:    Numerals that do not fall under another type."
   ]
  },
  {
   "cell_type": "code",
   "execution_count": 23,
   "id": "accompanied-disposition",
   "metadata": {},
   "outputs": [
    {
     "name": "stdout",
     "output_type": "stream",
     "text": [
      "['Kristan', 'New Zealand', 'Hauraki', 'Port Rd']\n",
      "['Thornton', 'Thornton Rd']\n",
      "['Spark Sport', 'NZ', 'Australia', 'Australia']\n",
      "['Allardice', 'Allardice', 'New Zealand', 'Wimbledon', 'Herbertville']\n",
      "[]\n",
      "['Hunterville', 'Hunterville', 'Feilding', 'Halcombe Rd']\n",
      "[]\n",
      "['Milburn', 'Milburn', 'Milton']\n",
      "['Oceania']\n",
      "['Bendigo', 'Argentina', 'Bendigo']\n"
     ]
    }
   ],
   "source": [
    "nlp = spacy.load(\"en_core_web_sm\")\n",
    "# ent.label_==\"GPE\" is detected ENTities which are locations\n",
    "\n",
    "def get_spacy_locations(text, nlp):\n",
    "    return [ent.text for ent in nlp(text).ents if ent.label_ in [\"GPE\"]]\n",
    "\n",
    "zebra = [\n",
    "    get_spacy_locations(article, nlp)\n",
    "    for article in articles['Text'][:10]\n",
    "]\n",
    "                         \n",
    "for x in zebra: print(x)"
   ]
  },
  {
   "cell_type": "code",
   "execution_count": 24,
   "id": "endangered-sacramento",
   "metadata": {},
   "outputs": [
    {
     "name": "stdout",
     "output_type": "stream",
     "text": [
      "CPU times: user 1min 59s, sys: 1.78 s, total: 2min 1s\n",
      "Wall time: 2min 1s\n"
     ]
    }
   ],
   "source": [
    "%%time\n",
    "articles['locations_spacy'] = [get_spacy_locations(text, nlp) for text in articles['Text']]"
   ]
  },
  {
   "cell_type": "code",
   "execution_count": 25,
   "id": "tough-processing",
   "metadata": {},
   "outputs": [
    {
     "name": "stdout",
     "output_type": "stream",
     "text": [
      "No locations:\n",
      "460\n",
      "No locations and more than 20 words:\n",
      "320\n",
      "No locations and more than 50 words:\n",
      "277\n"
     ]
    }
   ],
   "source": [
    "no_locations_spacy_mask = [len(x) == 0 for x in articles['locations_spacy']]\n",
    "\n",
    "print(\"No locations:\")\n",
    "print(articles[no_locations_spacy_mask].shape[0])\n",
    "print(\"No locations and more than 20 words:\")\n",
    "print(articles[np.logical_and(no_locations_spacy_mask, get_more_mask(20))].shape[0])\n",
    "print(\"No locations and more than 50 words:\")\n",
    "print(articles[np.logical_and(no_locations_spacy_mask, get_more_mask(50))].shape[0])"
   ]
  },
  {
   "cell_type": "markdown",
   "id": "cross-victory",
   "metadata": {},
   "source": [
    "## Location Extraction #3: nltk package"
   ]
  },
  {
   "cell_type": "code",
   "execution_count": 26,
   "id": "curious-meditation",
   "metadata": {},
   "outputs": [],
   "source": [
    "# source: https://gist.github.com/onyxfish/322906\n",
    "def extract_entity_names(t):\n",
    "    entity_names = []\n",
    "\n",
    "    if hasattr(t, 'label') and t.label:\n",
    "        if t.label() == 'NE':\n",
    "            entity_names.append(' '.join([child[0] for child in t]))\n",
    "        else:\n",
    "            for child in t:\n",
    "                entity_names.extend(extract_entity_names(child))\n",
    "\n",
    "    return entity_names\n",
    "\n",
    "\n",
    "def get_locations_nltk(text):\n",
    "\n",
    "    sentences = nltk.sent_tokenize(text)\n",
    "    tokenized_sentences = [nltk.word_tokenize(sentence) for sentence in sentences]\n",
    "    tagged_sentences = [nltk.pos_tag(sentence) for sentence in tokenized_sentences]\n",
    "    chunked_sentences = nltk.ne_chunk_sents(tagged_sentences, binary=True)\n",
    "\n",
    "    entities = []\n",
    "    for tree in chunked_sentences:\n",
    "        entities.extend(extract_entity_names(tree))\n",
    "\n",
    "    return entities\n",
    "\n",
    "# [loc in loc_nltk \n",
    "#  for loc in loc_str \n",
    "#  for loc_str, loc_nltk in articles[['locations_str', 'locations_nltk']]]"
   ]
  },
  {
   "cell_type": "code",
   "execution_count": 27,
   "id": "western-simon",
   "metadata": {},
   "outputs": [
    {
     "name": "stdout",
     "output_type": "stream",
     "text": [
      "CPU times: user 1min 38s, sys: 221 ms, total: 1min 38s\n",
      "Wall time: 1min 38s\n"
     ]
    }
   ],
   "source": [
    "%%time\n",
    "articles['locations_nltk'] = articles['Text'].map(get_locations_nltk)"
   ]
  },
  {
   "cell_type": "code",
   "execution_count": 28,
   "id": "differential-kinase",
   "metadata": {},
   "outputs": [
    {
     "name": "stdout",
     "output_type": "stream",
     "text": [
      "No locations:\n",
      "6\n",
      "No locations and more than 20 words:\n",
      "4\n",
      "No locations and more than 50 words:\n",
      "3\n"
     ]
    }
   ],
   "source": [
    "no_locations_nltk_mask = [len(x) == 0 for x in articles['locations_nltk']]\n",
    "\n",
    "print(\"No locations:\")\n",
    "print(articles[no_locations_nltk_mask].shape[0])\n",
    "print(\"No locations and more than 20 words:\")\n",
    "print(articles[np.logical_and(no_locations_nltk_mask, get_more_mask(20))].shape[0])\n",
    "print(\"No locations and more than 50 words:\")\n",
    "print(articles[np.logical_and(no_locations_nltk_mask, get_more_mask(50))].shape[0])"
   ]
  },
  {
   "cell_type": "markdown",
   "id": "czech-bottom",
   "metadata": {},
   "source": [
    "__Note that the nltk extraction method seems to pick up all \"Named Entities\" not just Locations, so further refinement/filtering is required afterwards.__"
   ]
  },
  {
   "cell_type": "markdown",
   "id": "operational-supply",
   "metadata": {},
   "source": [
    "## Investigate the difference between location-extraction methods\n",
    "\n",
    "It seems like string search might be sufficiently accurate if there is a large enough collection of place names, along with a dictionary mapping the cities/towns to regions. The string search also seems like the fastest option and most predictable option.\n",
    "\n",
    "It could be made more powerful by first searching the URL strings e.g. any article with URL www.nzherald.co.nz/bay-of-plenty-times/... should be assigned to Bay of Plenty region. This could be quick as the unique number of places in URLs would be small as there is a limited number of news publications."
   ]
  },
  {
   "cell_type": "code",
   "execution_count": 29,
   "id": "modern-elephant",
   "metadata": {},
   "outputs": [],
   "source": [
    "# See which locations are in all searches (intersection of three columns)\n",
    "articles['locations_all'] = [list(set(x[0]) & set(x[1]) & set(x[2])) for x in zip(articles['locations_str'], articles['locations_spacy'], articles['locations_nltk'])]"
   ]
  },
  {
   "cell_type": "code",
   "execution_count": 30,
   "id": "brilliant-sacramento",
   "metadata": {},
   "outputs": [
    {
     "data": {
      "text/html": [
       "<div>\n",
       "<style scoped>\n",
       "    .dataframe tbody tr th:only-of-type {\n",
       "        vertical-align: middle;\n",
       "    }\n",
       "\n",
       "    .dataframe tbody tr th {\n",
       "        vertical-align: top;\n",
       "    }\n",
       "\n",
       "    .dataframe thead th {\n",
       "        text-align: right;\n",
       "    }\n",
       "</style>\n",
       "<table border=\"1\" class=\"dataframe\">\n",
       "  <thead>\n",
       "    <tr style=\"text-align: right;\">\n",
       "      <th></th>\n",
       "      <th>Datetime</th>\n",
       "      <th>URL</th>\n",
       "      <th>Text</th>\n",
       "      <th>Words</th>\n",
       "      <th>num_words</th>\n",
       "      <th>news_site</th>\n",
       "      <th>news_site_scoop</th>\n",
       "      <th>locations_str</th>\n",
       "      <th>locations_spacy</th>\n",
       "      <th>locations_nltk</th>\n",
       "      <th>locations_all</th>\n",
       "    </tr>\n",
       "  </thead>\n",
       "  <tbody>\n",
       "    <tr>\n",
       "      <th>0</th>\n",
       "      <td>2021-03-04 01:13:28</td>\n",
       "      <td>https://www.nzherald.co.nz/bay-of-plenty-times...</td>\n",
       "      <td>Sixteen-year-old Virgil Lopes of Whangamata. P...</td>\n",
       "      <td>[Sixteen, year, old, Virgil, Lopes, of, Whanga...</td>\n",
       "      <td>956</td>\n",
       "      <td>nzherald</td>\n",
       "      <td>nzherald</td>\n",
       "      <td>[Whangamata, Whangamata, Whangamata, Whangamat...</td>\n",
       "      <td>[Kristan, New Zealand, Hauraki, Port Rd]</td>\n",
       "      <td>[Virgil Lopes, Whangamata, Photo, Virgil, Kris...</td>\n",
       "      <td>[]</td>\n",
       "    </tr>\n",
       "    <tr>\n",
       "      <th>1</th>\n",
       "      <td>2021-03-04 01:13:35</td>\n",
       "      <td>https://www.nzherald.co.nz/bay-of-plenty-times...</td>\n",
       "      <td>FILE\\n\\nTwo people are seriously injured after...</td>\n",
       "      <td>[FILE, Two, people, are, seriously, injured, a...</td>\n",
       "      <td>166</td>\n",
       "      <td>nzherald</td>\n",
       "      <td>nzherald</td>\n",
       "      <td>[Whakatane, Waikato, Whakatane]</td>\n",
       "      <td>[Thornton, Thornton Rd]</td>\n",
       "      <td>[Whakatāne, Thornton, Paroa Rds, SH30, Whakata...</td>\n",
       "      <td>[]</td>\n",
       "    </tr>\n",
       "    <tr>\n",
       "      <th>2</th>\n",
       "      <td>2021-03-04 01:13:40</td>\n",
       "      <td>https://www.nzherald.co.nz/business/internet-t...</td>\n",
       "      <td>Image / 123rf\\n\\nInternet traffic on Chorus' n...</td>\n",
       "      <td>[Image, 123rf, Internet, traffic, on, Chorus',...</td>\n",
       "      <td>321</td>\n",
       "      <td>nzherald</td>\n",
       "      <td>nzherald</td>\n",
       "      <td>[Auckland]</td>\n",
       "      <td>[Spark Sport, NZ, Australia, Australia]</td>\n",
       "      <td>[Image, Chorus, Duty, Spark Sport, Chorus, NZ,...</td>\n",
       "      <td>[]</td>\n",
       "    </tr>\n",
       "    <tr>\n",
       "      <th>3</th>\n",
       "      <td>2021-03-04 01:13:45</td>\n",
       "      <td>https://www.nzherald.co.nz/hawkes-bay-today/ne...</td>\n",
       "      <td>Smashed windows on the Carnegie building in Al...</td>\n",
       "      <td>[Smashed, windows, on, the, Carnegie, building...</td>\n",
       "      <td>667</td>\n",
       "      <td>nzherald</td>\n",
       "      <td>nzherald</td>\n",
       "      <td>[]</td>\n",
       "      <td>[Allardice, Allardice, New Zealand, Wimbledon,...</td>\n",
       "      <td>[Carnegie, Dannevirke Community Board, Photo, ...</td>\n",
       "      <td>[]</td>\n",
       "    </tr>\n",
       "    <tr>\n",
       "      <th>4</th>\n",
       "      <td>2021-03-04 01:13:51</td>\n",
       "      <td>https://www.nzherald.co.nz/hawkes-bay-today/ne...</td>\n",
       "      <td>The Palmerston North Rescue Helicopter in flig...</td>\n",
       "      <td>[The, Palmerston, North, Rescue, Helicopter, i...</td>\n",
       "      <td>306</td>\n",
       "      <td>nzherald</td>\n",
       "      <td>nzherald</td>\n",
       "      <td>[Palmerston North, Palmerston North, Palmersto...</td>\n",
       "      <td>[]</td>\n",
       "      <td>[Palmerston North Rescue Helicopter, Photo, Pa...</td>\n",
       "      <td>[]</td>\n",
       "    </tr>\n",
       "  </tbody>\n",
       "</table>\n",
       "</div>"
      ],
      "text/plain": [
       "             Datetime                                                URL  \\\n",
       "0 2021-03-04 01:13:28  https://www.nzherald.co.nz/bay-of-plenty-times...   \n",
       "1 2021-03-04 01:13:35  https://www.nzherald.co.nz/bay-of-plenty-times...   \n",
       "2 2021-03-04 01:13:40  https://www.nzherald.co.nz/business/internet-t...   \n",
       "3 2021-03-04 01:13:45  https://www.nzherald.co.nz/hawkes-bay-today/ne...   \n",
       "4 2021-03-04 01:13:51  https://www.nzherald.co.nz/hawkes-bay-today/ne...   \n",
       "\n",
       "                                                Text  \\\n",
       "0  Sixteen-year-old Virgil Lopes of Whangamata. P...   \n",
       "1  FILE\\n\\nTwo people are seriously injured after...   \n",
       "2  Image / 123rf\\n\\nInternet traffic on Chorus' n...   \n",
       "3  Smashed windows on the Carnegie building in Al...   \n",
       "4  The Palmerston North Rescue Helicopter in flig...   \n",
       "\n",
       "                                               Words  num_words news_site  \\\n",
       "0  [Sixteen, year, old, Virgil, Lopes, of, Whanga...        956  nzherald   \n",
       "1  [FILE, Two, people, are, seriously, injured, a...        166  nzherald   \n",
       "2  [Image, 123rf, Internet, traffic, on, Chorus',...        321  nzherald   \n",
       "3  [Smashed, windows, on, the, Carnegie, building...        667  nzherald   \n",
       "4  [The, Palmerston, North, Rescue, Helicopter, i...        306  nzherald   \n",
       "\n",
       "  news_site_scoop                                      locations_str  \\\n",
       "0        nzherald  [Whangamata, Whangamata, Whangamata, Whangamat...   \n",
       "1        nzherald                    [Whakatane, Waikato, Whakatane]   \n",
       "2        nzherald                                         [Auckland]   \n",
       "3        nzherald                                                 []   \n",
       "4        nzherald  [Palmerston North, Palmerston North, Palmersto...   \n",
       "\n",
       "                                     locations_spacy  \\\n",
       "0           [Kristan, New Zealand, Hauraki, Port Rd]   \n",
       "1                            [Thornton, Thornton Rd]   \n",
       "2            [Spark Sport, NZ, Australia, Australia]   \n",
       "3  [Allardice, Allardice, New Zealand, Wimbledon,...   \n",
       "4                                                 []   \n",
       "\n",
       "                                      locations_nltk locations_all  \n",
       "0  [Virgil Lopes, Whangamata, Photo, Virgil, Kris...            []  \n",
       "1  [Whakatāne, Thornton, Paroa Rds, SH30, Whakata...            []  \n",
       "2  [Image, Chorus, Duty, Spark Sport, Chorus, NZ,...            []  \n",
       "3  [Carnegie, Dannevirke Community Board, Photo, ...            []  \n",
       "4  [Palmerston North Rescue Helicopter, Photo, Pa...            []  "
      ]
     },
     "execution_count": 30,
     "metadata": {},
     "output_type": "execute_result"
    }
   ],
   "source": [
    "articles.head()"
   ]
  },
  {
   "cell_type": "code",
   "execution_count": 31,
   "id": "associate-theory",
   "metadata": {},
   "outputs": [
    {
     "name": "stdout",
     "output_type": "stream",
     "text": [
      "str locations:   939 / 1709\n",
      "spacy locations: 1249 / 1709\n",
      "nltk locations:  1703 / 1709\n"
     ]
    }
   ],
   "source": [
    "num_articles = articles.shape[0]\n",
    "print(f\"str locations:   {num_articles - articles[no_locations_str_mask].shape[0]} / {num_articles}\")\n",
    "print(f\"spacy locations: {num_articles - articles[no_locations_spacy_mask].shape[0]} / {num_articles}\")\n",
    "print(f\"nltk locations:  {num_articles - articles[no_locations_nltk_mask].shape[0]} / {num_articles}\")"
   ]
  },
  {
   "cell_type": "code",
   "execution_count": 32,
   "id": "ethical-curve",
   "metadata": {},
   "outputs": [
    {
     "name": "stdout",
     "output_type": "stream",
     "text": [
      "Unanimous decision: 505 / 1709\n"
     ]
    }
   ],
   "source": [
    "no_overlap_mask = [len(x) == 0 for x in articles['locations_all']]\n",
    "print(f\"Unanimous decision: {num_articles - articles[no_overlap_mask].shape[0]} / {num_articles}\")"
   ]
  },
  {
   "cell_type": "code",
   "execution_count": 33,
   "id": "amino-helen",
   "metadata": {},
   "outputs": [
    {
     "name": "stdout",
     "output_type": "stream",
     "text": [
      "Agreement between str and spacy: 522 / 1709\n"
     ]
    }
   ],
   "source": [
    "# nltk seems like the worst option, so see overlap between the other two methods\n",
    "articles['locations_str_spacy'] = [list(set(x[0]) & set(x[1])) for x in zip(articles['locations_str'], articles['locations_spacy'])]\n",
    "no_str_spacy_mask = [len(x) == 0 for x in articles['locations_str_spacy']]\n",
    "print(f\"Agreement between str and spacy: {num_articles - articles[no_str_spacy_mask].shape[0]} / {num_articles}\")"
   ]
  },
  {
   "cell_type": "markdown",
   "id": "foster-auckland",
   "metadata": {},
   "source": [
    "Seems like the exclusion of nltk makes marginal difference."
   ]
  },
  {
   "cell_type": "code",
   "execution_count": 34,
   "id": "treated-seventh",
   "metadata": {},
   "outputs": [],
   "source": [
    "str_spacy_most_common = pd.Series([Counter(loc).most_common(1)[0][0] if len(loc) > 0 else None for loc in articles['locations_str_spacy']])"
   ]
  },
  {
   "cell_type": "code",
   "execution_count": 35,
   "id": "dress-treasury",
   "metadata": {},
   "outputs": [
    {
     "data": {
      "text/plain": [
       "5       Feilding\n",
       "20      Auckland\n",
       "25      Auckland\n",
       "29      Auckland\n",
       "30      Auckland\n",
       "32      Auckland\n",
       "36      Auckland\n",
       "37      Auckland\n",
       "41    Wellington\n",
       "47      Auckland\n",
       "49     Northland\n",
       "50      Auckland\n",
       "52      Auckland\n",
       "54    Wellington\n",
       "56      Auckland\n",
       "57      Auckland\n",
       "58       Waikato\n",
       "59      Auckland\n",
       "66      Auckland\n",
       "67      Auckland\n",
       "dtype: object"
      ]
     },
     "execution_count": 35,
     "metadata": {},
     "output_type": "execute_result"
    }
   ],
   "source": [
    "str_spacy_most_common[str_spacy_most_common.notnull()].head(20)"
   ]
  },
  {
   "cell_type": "markdown",
   "id": "derived-surname",
   "metadata": {},
   "source": [
    "## Mapping cities to regions\n",
    "\n",
    "This way the information about the articles can be viewed region-by-region. Any unmapped cities/towns will not be made None.\n",
    "\n",
    "Should investigate how much variation/disagreement there is depending on the region. FOR EXAMPLE: for a given 'main'/modal region, how many other regions are typically detected in the article?"
   ]
  },
  {
   "cell_type": "code",
   "execution_count": 36,
   "id": "continuing-charity",
   "metadata": {},
   "outputs": [
    {
     "name": "stdout",
     "output_type": "stream",
     "text": [
      "CPU times: user 3.59 ms, sys: 0 ns, total: 3.59 ms\n",
      "Wall time: 4.9 ms\n"
     ]
    }
   ],
   "source": [
    "%%time\n",
    "articles['regions_str'] = [\n",
    "    [city_to_region[loc] if loc in city_to_region.keys() else loc\n",
    "     for loc in locs]\n",
    "    for locs in articles['locations_str']\n",
    "]"
   ]
  },
  {
   "cell_type": "code",
   "execution_count": 37,
   "id": "conceptual-transcript",
   "metadata": {},
   "outputs": [],
   "source": [
    "# for locs, regions in zip(articles['locations_str'], regions_str):\n",
    "#     if len(locs) > 0:\n",
    "#         print(locs, regions)"
   ]
  },
  {
   "cell_type": "code",
   "execution_count": 38,
   "id": "contemporary-ending",
   "metadata": {},
   "outputs": [],
   "source": [
    "# take most common region\n",
    "articles['regions_str_main'] = [Counter(regions).most_common(1)[0][0] if len(regions) > 0 else \"Other\"\n",
    "                                for regions in articles['regions_str']]"
   ]
  },
  {
   "cell_type": "code",
   "execution_count": 39,
   "id": "gentle-aggregate",
   "metadata": {},
   "outputs": [
    {
     "data": {
      "text/html": [
       "<div>\n",
       "<style scoped>\n",
       "    .dataframe tbody tr th:only-of-type {\n",
       "        vertical-align: middle;\n",
       "    }\n",
       "\n",
       "    .dataframe tbody tr th {\n",
       "        vertical-align: top;\n",
       "    }\n",
       "\n",
       "    .dataframe thead th {\n",
       "        text-align: right;\n",
       "    }\n",
       "</style>\n",
       "<table border=\"1\" class=\"dataframe\">\n",
       "  <thead>\n",
       "    <tr style=\"text-align: right;\">\n",
       "      <th></th>\n",
       "      <th>Datetime</th>\n",
       "      <th>URL</th>\n",
       "      <th>Text</th>\n",
       "      <th>Words</th>\n",
       "      <th>num_words</th>\n",
       "      <th>news_site</th>\n",
       "      <th>news_site_scoop</th>\n",
       "      <th>locations_str</th>\n",
       "      <th>locations_spacy</th>\n",
       "      <th>locations_nltk</th>\n",
       "      <th>locations_all</th>\n",
       "      <th>locations_str_spacy</th>\n",
       "      <th>regions_str</th>\n",
       "      <th>regions_str_main</th>\n",
       "    </tr>\n",
       "  </thead>\n",
       "  <tbody>\n",
       "    <tr>\n",
       "      <th>0</th>\n",
       "      <td>2021-03-04 01:13:28</td>\n",
       "      <td>https://www.nzherald.co.nz/bay-of-plenty-times...</td>\n",
       "      <td>Sixteen-year-old Virgil Lopes of Whangamata. P...</td>\n",
       "      <td>[Sixteen, year, old, Virgil, Lopes, of, Whanga...</td>\n",
       "      <td>956</td>\n",
       "      <td>nzherald</td>\n",
       "      <td>nzherald</td>\n",
       "      <td>[Whangamata, Whangamata, Whangamata, Whangamat...</td>\n",
       "      <td>[Kristan, New Zealand, Hauraki, Port Rd]</td>\n",
       "      <td>[Virgil Lopes, Whangamata, Photo, Virgil, Kris...</td>\n",
       "      <td>[]</td>\n",
       "      <td>[]</td>\n",
       "      <td>[Waikato, Waikato, Waikato, Waikato, Waikato, ...</td>\n",
       "      <td>Waikato</td>\n",
       "    </tr>\n",
       "    <tr>\n",
       "      <th>1</th>\n",
       "      <td>2021-03-04 01:13:35</td>\n",
       "      <td>https://www.nzherald.co.nz/bay-of-plenty-times...</td>\n",
       "      <td>FILE\\n\\nTwo people are seriously injured after...</td>\n",
       "      <td>[FILE, Two, people, are, seriously, injured, a...</td>\n",
       "      <td>166</td>\n",
       "      <td>nzherald</td>\n",
       "      <td>nzherald</td>\n",
       "      <td>[Whakatane, Waikato, Whakatane]</td>\n",
       "      <td>[Thornton, Thornton Rd]</td>\n",
       "      <td>[Whakatāne, Thornton, Paroa Rds, SH30, Whakata...</td>\n",
       "      <td>[]</td>\n",
       "      <td>[]</td>\n",
       "      <td>[Bay of Plenty, Waikato, Bay of Plenty]</td>\n",
       "      <td>Bay of Plenty</td>\n",
       "    </tr>\n",
       "    <tr>\n",
       "      <th>2</th>\n",
       "      <td>2021-03-04 01:13:40</td>\n",
       "      <td>https://www.nzherald.co.nz/business/internet-t...</td>\n",
       "      <td>Image / 123rf\\n\\nInternet traffic on Chorus' n...</td>\n",
       "      <td>[Image, 123rf, Internet, traffic, on, Chorus',...</td>\n",
       "      <td>321</td>\n",
       "      <td>nzherald</td>\n",
       "      <td>nzherald</td>\n",
       "      <td>[Auckland]</td>\n",
       "      <td>[Spark Sport, NZ, Australia, Australia]</td>\n",
       "      <td>[Image, Chorus, Duty, Spark Sport, Chorus, NZ,...</td>\n",
       "      <td>[]</td>\n",
       "      <td>[]</td>\n",
       "      <td>[Auckland]</td>\n",
       "      <td>Auckland</td>\n",
       "    </tr>\n",
       "    <tr>\n",
       "      <th>3</th>\n",
       "      <td>2021-03-04 01:13:45</td>\n",
       "      <td>https://www.nzherald.co.nz/hawkes-bay-today/ne...</td>\n",
       "      <td>Smashed windows on the Carnegie building in Al...</td>\n",
       "      <td>[Smashed, windows, on, the, Carnegie, building...</td>\n",
       "      <td>667</td>\n",
       "      <td>nzherald</td>\n",
       "      <td>nzherald</td>\n",
       "      <td>[]</td>\n",
       "      <td>[Allardice, Allardice, New Zealand, Wimbledon,...</td>\n",
       "      <td>[Carnegie, Dannevirke Community Board, Photo, ...</td>\n",
       "      <td>[]</td>\n",
       "      <td>[]</td>\n",
       "      <td>[]</td>\n",
       "      <td>Other</td>\n",
       "    </tr>\n",
       "    <tr>\n",
       "      <th>4</th>\n",
       "      <td>2021-03-04 01:13:51</td>\n",
       "      <td>https://www.nzherald.co.nz/hawkes-bay-today/ne...</td>\n",
       "      <td>The Palmerston North Rescue Helicopter in flig...</td>\n",
       "      <td>[The, Palmerston, North, Rescue, Helicopter, i...</td>\n",
       "      <td>306</td>\n",
       "      <td>nzherald</td>\n",
       "      <td>nzherald</td>\n",
       "      <td>[Palmerston North, Palmerston North, Palmersto...</td>\n",
       "      <td>[]</td>\n",
       "      <td>[Palmerston North Rescue Helicopter, Photo, Pa...</td>\n",
       "      <td>[]</td>\n",
       "      <td>[]</td>\n",
       "      <td>[Manawatu-Wanganui, Manawatu-Wanganui, Manawat...</td>\n",
       "      <td>Manawatu-Wanganui</td>\n",
       "    </tr>\n",
       "  </tbody>\n",
       "</table>\n",
       "</div>"
      ],
      "text/plain": [
       "             Datetime                                                URL  \\\n",
       "0 2021-03-04 01:13:28  https://www.nzherald.co.nz/bay-of-plenty-times...   \n",
       "1 2021-03-04 01:13:35  https://www.nzherald.co.nz/bay-of-plenty-times...   \n",
       "2 2021-03-04 01:13:40  https://www.nzherald.co.nz/business/internet-t...   \n",
       "3 2021-03-04 01:13:45  https://www.nzherald.co.nz/hawkes-bay-today/ne...   \n",
       "4 2021-03-04 01:13:51  https://www.nzherald.co.nz/hawkes-bay-today/ne...   \n",
       "\n",
       "                                                Text  \\\n",
       "0  Sixteen-year-old Virgil Lopes of Whangamata. P...   \n",
       "1  FILE\\n\\nTwo people are seriously injured after...   \n",
       "2  Image / 123rf\\n\\nInternet traffic on Chorus' n...   \n",
       "3  Smashed windows on the Carnegie building in Al...   \n",
       "4  The Palmerston North Rescue Helicopter in flig...   \n",
       "\n",
       "                                               Words  num_words news_site  \\\n",
       "0  [Sixteen, year, old, Virgil, Lopes, of, Whanga...        956  nzherald   \n",
       "1  [FILE, Two, people, are, seriously, injured, a...        166  nzherald   \n",
       "2  [Image, 123rf, Internet, traffic, on, Chorus',...        321  nzherald   \n",
       "3  [Smashed, windows, on, the, Carnegie, building...        667  nzherald   \n",
       "4  [The, Palmerston, North, Rescue, Helicopter, i...        306  nzherald   \n",
       "\n",
       "  news_site_scoop                                      locations_str  \\\n",
       "0        nzherald  [Whangamata, Whangamata, Whangamata, Whangamat...   \n",
       "1        nzherald                    [Whakatane, Waikato, Whakatane]   \n",
       "2        nzherald                                         [Auckland]   \n",
       "3        nzherald                                                 []   \n",
       "4        nzherald  [Palmerston North, Palmerston North, Palmersto...   \n",
       "\n",
       "                                     locations_spacy  \\\n",
       "0           [Kristan, New Zealand, Hauraki, Port Rd]   \n",
       "1                            [Thornton, Thornton Rd]   \n",
       "2            [Spark Sport, NZ, Australia, Australia]   \n",
       "3  [Allardice, Allardice, New Zealand, Wimbledon,...   \n",
       "4                                                 []   \n",
       "\n",
       "                                      locations_nltk locations_all  \\\n",
       "0  [Virgil Lopes, Whangamata, Photo, Virgil, Kris...            []   \n",
       "1  [Whakatāne, Thornton, Paroa Rds, SH30, Whakata...            []   \n",
       "2  [Image, Chorus, Duty, Spark Sport, Chorus, NZ,...            []   \n",
       "3  [Carnegie, Dannevirke Community Board, Photo, ...            []   \n",
       "4  [Palmerston North Rescue Helicopter, Photo, Pa...            []   \n",
       "\n",
       "  locations_str_spacy                                        regions_str  \\\n",
       "0                  []  [Waikato, Waikato, Waikato, Waikato, Waikato, ...   \n",
       "1                  []            [Bay of Plenty, Waikato, Bay of Plenty]   \n",
       "2                  []                                         [Auckland]   \n",
       "3                  []                                                 []   \n",
       "4                  []  [Manawatu-Wanganui, Manawatu-Wanganui, Manawat...   \n",
       "\n",
       "    regions_str_main  \n",
       "0            Waikato  \n",
       "1      Bay of Plenty  \n",
       "2           Auckland  \n",
       "3              Other  \n",
       "4  Manawatu-Wanganui  "
      ]
     },
     "execution_count": 39,
     "metadata": {},
     "output_type": "execute_result"
    }
   ],
   "source": [
    "articles.head()"
   ]
  },
  {
   "cell_type": "code",
   "execution_count": 40,
   "id": "animal-toner",
   "metadata": {},
   "outputs": [
    {
     "name": "stdout",
     "output_type": "stream",
     "text": [
      "CPU times: user 22.3 ms, sys: 27 µs, total: 22.3 ms\n",
      "Wall time: 21.4 ms\n"
     ]
    }
   ],
   "source": [
    "%%time\n",
    "# do the equivalent work for spacy\n",
    "articles['regions_spacy'] = [\n",
    "    [city_to_region[loc] if loc in city_to_region.keys() \n",
    "     else loc if loc in city_to_region.values() else None\n",
    "     for loc in locs]\n",
    "    for locs in articles['locations_spacy']\n",
    "]"
   ]
  },
  {
   "cell_type": "code",
   "execution_count": 41,
   "id": "racial-cambridge",
   "metadata": {},
   "outputs": [
    {
     "data": {
      "image/png": "[encoded data removed]",
      "text/plain": [
       "<Figure size 720x360 with 1 Axes>"
      ]
     },
     "metadata": {
      "needs_background": "light"
     },
     "output_type": "display_data"
    }
   ],
   "source": [
    "# look at information just using string search\n",
    "plot_num_articles_per_subgroup('regions_str_main', title=\"Number of Articles per Region (all)\")"
   ]
  },
  {
   "cell_type": "code",
   "execution_count": 42,
   "id": "determined-renewal",
   "metadata": {},
   "outputs": [
    {
     "data": {
      "image/png": "[encoded data removed]",
      "text/plain": [
       "<Figure size 1440x1440 with 10 Axes>"
      ]
     },
     "metadata": {
      "needs_background": "light"
     },
     "output_type": "display_data"
    }
   ],
   "source": [
    "plot_num_words_per_subgroup('regions_str_main')"
   ]
  },
  {
   "cell_type": "markdown",
   "id": "established-woman",
   "metadata": {},
   "source": [
    "## Location Extraction #50: Check region selection\n",
    "\n",
    "Check for any articles where there were multiple regions detected in the text, but no modal region was extracted."
   ]
  },
  {
   "cell_type": "code",
   "execution_count": 43,
   "id": "universal-simon",
   "metadata": {},
   "outputs": [
    {
     "data": {
      "text/html": [
       "<div>\n",
       "<style scoped>\n",
       "    .dataframe tbody tr th:only-of-type {\n",
       "        vertical-align: middle;\n",
       "    }\n",
       "\n",
       "    .dataframe tbody tr th {\n",
       "        vertical-align: top;\n",
       "    }\n",
       "\n",
       "    .dataframe thead th {\n",
       "        text-align: right;\n",
       "    }\n",
       "</style>\n",
       "<table border=\"1\" class=\"dataframe\">\n",
       "  <thead>\n",
       "    <tr style=\"text-align: right;\">\n",
       "      <th></th>\n",
       "      <th>URL</th>\n",
       "      <th>locations_str</th>\n",
       "      <th>regions_str</th>\n",
       "      <th>regions_str_main</th>\n",
       "    </tr>\n",
       "  </thead>\n",
       "  <tbody>\n",
       "  </tbody>\n",
       "</table>\n",
       "</div>"
      ],
      "text/plain": [
       "Empty DataFrame\n",
       "Columns: [URL, locations_str, regions_str, regions_str_main]\n",
       "Index: []"
      ]
     },
     "execution_count": 43,
     "metadata": {},
     "output_type": "execute_result"
    }
   ],
   "source": [
    "yes_locations_str_mask = [len(x) > 0 for x in articles['locations_str']]\n",
    "disagreement_mask = np.logical_and(yes_locations_str_mask,\n",
    "                                   articles['regions_str_main'] == \"Other\")\n",
    "articles[disagreement_mask][['URL', 'locations_str', 'regions_str', 'regions_str_main']]"
   ]
  },
  {
   "cell_type": "markdown",
   "id": "regular-beginning",
   "metadata": {},
   "source": [
    "There is none which is good.\n",
    "\n",
    "Maybe should see how many ties there are? FOR EXAMPLE: regions_str=['Auckland','Waikato','Waikato','Auckland']."
   ]
  },
  {
   "cell_type": "code",
   "execution_count": 44,
   "id": "palestinian-marijuana",
   "metadata": {},
   "outputs": [
    {
     "data": {
      "text/html": [
       "<div>\n",
       "<style scoped>\n",
       "    .dataframe tbody tr th:only-of-type {\n",
       "        vertical-align: middle;\n",
       "    }\n",
       "\n",
       "    .dataframe tbody tr th {\n",
       "        vertical-align: top;\n",
       "    }\n",
       "\n",
       "    .dataframe thead th {\n",
       "        text-align: right;\n",
       "    }\n",
       "</style>\n",
       "<table border=\"1\" class=\"dataframe\">\n",
       "  <thead>\n",
       "    <tr style=\"text-align: right;\">\n",
       "      <th></th>\n",
       "      <th>URL</th>\n",
       "      <th>locations_str</th>\n",
       "      <th>regions_str</th>\n",
       "      <th>regions_str_main</th>\n",
       "    </tr>\n",
       "  </thead>\n",
       "  <tbody>\n",
       "    <tr>\n",
       "      <th>66</th>\n",
       "      <td>https://www.nzherald.co.nz/hawkes-bay-today/ne...</td>\n",
       "      <td>[Auckland, Napier]</td>\n",
       "      <td>[Auckland, Hawke’s Bay]</td>\n",
       "      <td>Auckland</td>\n",
       "    </tr>\n",
       "    <tr>\n",
       "      <th>70</th>\n",
       "      <td>https://www.nzherald.co.nz/whanganui-chronicle...</td>\n",
       "      <td>[Whanganui, West Coast, Christchurch, West Coa...</td>\n",
       "      <td>[Manawatu-Wanganui, West Coast, Canterbury, We...</td>\n",
       "      <td>West Coast</td>\n",
       "    </tr>\n",
       "    <tr>\n",
       "      <th>115</th>\n",
       "      <td>https://www.scoop.co.nz/stories/HL2103/S00020/...</td>\n",
       "      <td>[Auckland, Auckland, Northland, Whangarei, Auc...</td>\n",
       "      <td>[Auckland, Auckland, Northland, Northland, Auc...</td>\n",
       "      <td>Auckland</td>\n",
       "    </tr>\n",
       "    <tr>\n",
       "      <th>135</th>\n",
       "      <td>https://www.stuff.co.nz/business/124438249/gal...</td>\n",
       "      <td>[Auckland, Auckland, Hamilton, Waikato]</td>\n",
       "      <td>[Auckland, Auckland, Waikato, Waikato]</td>\n",
       "      <td>Auckland</td>\n",
       "    </tr>\n",
       "    <tr>\n",
       "      <th>139</th>\n",
       "      <td>https://www.stuff.co.nz/business/industries/12...</td>\n",
       "      <td>[Auckland, Canterbury]</td>\n",
       "      <td>[Auckland, Canterbury]</td>\n",
       "      <td>Auckland</td>\n",
       "    </tr>\n",
       "    <tr>\n",
       "      <th>156</th>\n",
       "      <td>https://www.reseller.co.nz/article/686615/capg...</td>\n",
       "      <td>[Auckland, Wellington]</td>\n",
       "      <td>[Auckland, Wellington]</td>\n",
       "      <td>Auckland</td>\n",
       "    </tr>\n",
       "    <tr>\n",
       "      <th>188</th>\n",
       "      <td>http://www.voxy.co.nz/national/5/382854</td>\n",
       "      <td>[Southland, Canterbury]</td>\n",
       "      <td>[Southland, Canterbury]</td>\n",
       "      <td>Southland</td>\n",
       "    </tr>\n",
       "    <tr>\n",
       "      <th>225</th>\n",
       "      <td>https://www.tvnz.co.nz/one-news/new-zealand/ki...</td>\n",
       "      <td>[Gisborne, Kerikeri]</td>\n",
       "      <td>[Gisborne, Northland]</td>\n",
       "      <td>Gisborne</td>\n",
       "    </tr>\n",
       "    <tr>\n",
       "      <th>254</th>\n",
       "      <td>http://www.voxy.co.nz/business/5/382840</td>\n",
       "      <td>[West Coast, Tasman, Marlborough, Otago, West ...</td>\n",
       "      <td>[West Coast, Tasman, Marlborough, Otago, West ...</td>\n",
       "      <td>West Coast</td>\n",
       "    </tr>\n",
       "    <tr>\n",
       "      <th>259</th>\n",
       "      <td>http://www.voxy.co.nz/business/5/382847</td>\n",
       "      <td>[Waikato, Waikato, Bay of Plenty, Rotorua, Haw...</td>\n",
       "      <td>[Waikato, Waikato, Bay of Plenty, Bay of Plent...</td>\n",
       "      <td>Waikato</td>\n",
       "    </tr>\n",
       "    <tr>\n",
       "      <th>293</th>\n",
       "      <td>https://www.tvnz.co.nz/one-news/new-zealand/ma...</td>\n",
       "      <td>[Waikato, Palmerston North]</td>\n",
       "      <td>[Waikato, Manawatu-Wanganui]</td>\n",
       "      <td>Waikato</td>\n",
       "    </tr>\n",
       "    <tr>\n",
       "      <th>305</th>\n",
       "      <td>http://www.voxy.co.nz/sport/5/382865</td>\n",
       "      <td>[Cambridge, Auckland, Tasman]</td>\n",
       "      <td>[Waikato, Auckland, Tasman]</td>\n",
       "      <td>Waikato</td>\n",
       "    </tr>\n",
       "    <tr>\n",
       "      <th>308</th>\n",
       "      <td>http://www.voxy.co.nz/sport/5/382881</td>\n",
       "      <td>[Whangarei, Auckland, Christchurch]</td>\n",
       "      <td>[Northland, Auckland, Canterbury]</td>\n",
       "      <td>Northland</td>\n",
       "    </tr>\n",
       "    <tr>\n",
       "      <th>309</th>\n",
       "      <td>http://www.voxy.co.nz/sport/5/382884</td>\n",
       "      <td>[Taranaki, Canterbury, Taranaki, Auckland, Ota...</td>\n",
       "      <td>[Taranaki, Canterbury, Taranaki, Auckland, Ota...</td>\n",
       "      <td>Canterbury</td>\n",
       "    </tr>\n",
       "    <tr>\n",
       "      <th>336</th>\n",
       "      <td>https://www.tvnz.co.nz/one-news/sport/rugby/qu...</td>\n",
       "      <td>[Auckland, Tasman]</td>\n",
       "      <td>[Auckland, Tasman]</td>\n",
       "      <td>Auckland</td>\n",
       "    </tr>\n",
       "    <tr>\n",
       "      <th>354</th>\n",
       "      <td>https://www.nzherald.co.nz/sport/racing-aegon-...</td>\n",
       "      <td>[Cambridge, Auckland, Tasman]</td>\n",
       "      <td>[Waikato, Auckland, Tasman]</td>\n",
       "      <td>Waikato</td>\n",
       "    </tr>\n",
       "    <tr>\n",
       "      <th>374</th>\n",
       "      <td>https://www.nzherald.co.nz/nz/severe-shaking-7...</td>\n",
       "      <td>[Auckland, Wellington, Christchurch, Tauranga]</td>\n",
       "      <td>[Auckland, Wellington, Canterbury, Bay of Plenty]</td>\n",
       "      <td>Auckland</td>\n",
       "    </tr>\n",
       "    <tr>\n",
       "      <th>432</th>\n",
       "      <td>https://www.nzherald.co.nz/northern-advocate/n...</td>\n",
       "      <td>[Northland, Alexandra, Alexandra, Wellington, ...</td>\n",
       "      <td>[Northland, Otago, Otago, Wellington, Northlan...</td>\n",
       "      <td>Northland</td>\n",
       "    </tr>\n",
       "    <tr>\n",
       "      <th>434</th>\n",
       "      <td>https://www.nzherald.co.nz/northern-advocate/n...</td>\n",
       "      <td>[Wakefield, Northland, Wakefield, Wakefield, W...</td>\n",
       "      <td>[Tasman, Northland, Tasman, Tasman, Northland,...</td>\n",
       "      <td>Tasman</td>\n",
       "    </tr>\n",
       "    <tr>\n",
       "      <th>441</th>\n",
       "      <td>https://www.nzherald.co.nz/nz/i-think-ill-move...</td>\n",
       "      <td>[Auckland, Christchurch, Auckland, Napier, Nap...</td>\n",
       "      <td>[Auckland, Canterbury, Auckland, Hawke’s Bay, ...</td>\n",
       "      <td>Auckland</td>\n",
       "    </tr>\n",
       "    <tr>\n",
       "      <th>442</th>\n",
       "      <td>https://www.nzherald.co.nz/nz/politics/local-f...</td>\n",
       "      <td>[Whanganui, Whanganui, Taranaki, Stratford, Wh...</td>\n",
       "      <td>[Manawatu-Wanganui, Manawatu-Wanganui, Taranak...</td>\n",
       "      <td>Manawatu-Wanganui</td>\n",
       "    </tr>\n",
       "    <tr>\n",
       "      <th>448</th>\n",
       "      <td>https://www.scoop.co.nz/stories/AK2103/S00092/...</td>\n",
       "      <td>[Auckland, Hamilton, Tauranga, Nelson, Welling...</td>\n",
       "      <td>[Auckland, Waikato, Bay of Plenty, Nelson, Wel...</td>\n",
       "      <td>Auckland</td>\n",
       "    </tr>\n",
       "    <tr>\n",
       "      <th>453</th>\n",
       "      <td>https://www.scoop.co.nz/stories/CU2103/S00051/...</td>\n",
       "      <td>[Auckland, Wellington, Christchurch, Auckland,...</td>\n",
       "      <td>[Auckland, Wellington, Canterbury, Auckland, W...</td>\n",
       "      <td>Auckland</td>\n",
       "    </tr>\n",
       "    <tr>\n",
       "      <th>463</th>\n",
       "      <td>https://www.nzherald.co.nz/business/vodafone-h...</td>\n",
       "      <td>[Westport, Alexandra, Hokitika, Palmerston Nor...</td>\n",
       "      <td>[West Coast, Otago, West Coast, Manawatu-Wanga...</td>\n",
       "      <td>West Coast</td>\n",
       "    </tr>\n",
       "    <tr>\n",
       "      <th>487</th>\n",
       "      <td>https://www.nzherald.co.nz/nz/earthquake-swarm...</td>\n",
       "      <td>[Northland, Northland, Auckland, Wellington, C...</td>\n",
       "      <td>[Northland, Northland, Auckland, Wellington, C...</td>\n",
       "      <td>Gisborne</td>\n",
       "    </tr>\n",
       "    <tr>\n",
       "      <th>488</th>\n",
       "      <td>https://www.nzherald.co.nz/nz/eels-minced-by-h...</td>\n",
       "      <td>[Wakefield, Northland, Wakefield, Wakefield, W...</td>\n",
       "      <td>[Tasman, Northland, Tasman, Tasman, Northland,...</td>\n",
       "      <td>Tasman</td>\n",
       "    </tr>\n",
       "    <tr>\n",
       "      <th>544</th>\n",
       "      <td>https://www.nzherald.co.nz/nz/one-seriously-in...</td>\n",
       "      <td>[Richmond, Napier, Richmond, Napier]</td>\n",
       "      <td>[Tasman, Hawke’s Bay, Tasman, Hawke’s Bay]</td>\n",
       "      <td>Tasman</td>\n",
       "    </tr>\n",
       "    <tr>\n",
       "      <th>546</th>\n",
       "      <td>http://auckland.scoop.co.nz/2021/03/150-new-ho...</td>\n",
       "      <td>[Auckland, Hamilton, Tauranga, Nelson, Welling...</td>\n",
       "      <td>[Auckland, Waikato, Bay of Plenty, Nelson, Wel...</td>\n",
       "      <td>Auckland</td>\n",
       "    </tr>\n",
       "    <tr>\n",
       "      <th>547</th>\n",
       "      <td>http://auckland.scoop.co.nz/2021/03/madagascar...</td>\n",
       "      <td>[Auckland, Wellington, Christchurch, Auckland,...</td>\n",
       "      <td>[Auckland, Wellington, Canterbury, Auckland, W...</td>\n",
       "      <td>Auckland</td>\n",
       "    </tr>\n",
       "    <tr>\n",
       "      <th>559</th>\n",
       "      <td>https://www.nzherald.co.nz/nz/earthquake-seism...</td>\n",
       "      <td>[Raglan, Gisborne]</td>\n",
       "      <td>[Waikato, Gisborne]</td>\n",
       "      <td>Waikato</td>\n",
       "    </tr>\n",
       "  </tbody>\n",
       "</table>\n",
       "</div>"
      ],
      "text/plain": [
       "                                                   URL  \\\n",
       "66   https://www.nzherald.co.nz/hawkes-bay-today/ne...   \n",
       "70   https://www.nzherald.co.nz/whanganui-chronicle...   \n",
       "115  https://www.scoop.co.nz/stories/HL2103/S00020/...   \n",
       "135  https://www.stuff.co.nz/business/124438249/gal...   \n",
       "139  https://www.stuff.co.nz/business/industries/12...   \n",
       "156  https://www.reseller.co.nz/article/686615/capg...   \n",
       "188            http://www.voxy.co.nz/national/5/382854   \n",
       "225  https://www.tvnz.co.nz/one-news/new-zealand/ki...   \n",
       "254            http://www.voxy.co.nz/business/5/382840   \n",
       "259            http://www.voxy.co.nz/business/5/382847   \n",
       "293  https://www.tvnz.co.nz/one-news/new-zealand/ma...   \n",
       "305               http://www.voxy.co.nz/sport/5/382865   \n",
       "308               http://www.voxy.co.nz/sport/5/382881   \n",
       "309               http://www.voxy.co.nz/sport/5/382884   \n",
       "336  https://www.tvnz.co.nz/one-news/sport/rugby/qu...   \n",
       "354  https://www.nzherald.co.nz/sport/racing-aegon-...   \n",
       "374  https://www.nzherald.co.nz/nz/severe-shaking-7...   \n",
       "432  https://www.nzherald.co.nz/northern-advocate/n...   \n",
       "434  https://www.nzherald.co.nz/northern-advocate/n...   \n",
       "441  https://www.nzherald.co.nz/nz/i-think-ill-move...   \n",
       "442  https://www.nzherald.co.nz/nz/politics/local-f...   \n",
       "448  https://www.scoop.co.nz/stories/AK2103/S00092/...   \n",
       "453  https://www.scoop.co.nz/stories/CU2103/S00051/...   \n",
       "463  https://www.nzherald.co.nz/business/vodafone-h...   \n",
       "487  https://www.nzherald.co.nz/nz/earthquake-swarm...   \n",
       "488  https://www.nzherald.co.nz/nz/eels-minced-by-h...   \n",
       "544  https://www.nzherald.co.nz/nz/one-seriously-in...   \n",
       "546  http://auckland.scoop.co.nz/2021/03/150-new-ho...   \n",
       "547  http://auckland.scoop.co.nz/2021/03/madagascar...   \n",
       "559  https://www.nzherald.co.nz/nz/earthquake-seism...   \n",
       "\n",
       "                                         locations_str  \\\n",
       "66                                  [Auckland, Napier]   \n",
       "70   [Whanganui, West Coast, Christchurch, West Coa...   \n",
       "115  [Auckland, Auckland, Northland, Whangarei, Auc...   \n",
       "135            [Auckland, Auckland, Hamilton, Waikato]   \n",
       "139                             [Auckland, Canterbury]   \n",
       "156                             [Auckland, Wellington]   \n",
       "188                            [Southland, Canterbury]   \n",
       "225                               [Gisborne, Kerikeri]   \n",
       "254  [West Coast, Tasman, Marlborough, Otago, West ...   \n",
       "259  [Waikato, Waikato, Bay of Plenty, Rotorua, Haw...   \n",
       "293                        [Waikato, Palmerston North]   \n",
       "305                      [Cambridge, Auckland, Tasman]   \n",
       "308                [Whangarei, Auckland, Christchurch]   \n",
       "309  [Taranaki, Canterbury, Taranaki, Auckland, Ota...   \n",
       "336                                 [Auckland, Tasman]   \n",
       "354                      [Cambridge, Auckland, Tasman]   \n",
       "374     [Auckland, Wellington, Christchurch, Tauranga]   \n",
       "432  [Northland, Alexandra, Alexandra, Wellington, ...   \n",
       "434  [Wakefield, Northland, Wakefield, Wakefield, W...   \n",
       "441  [Auckland, Christchurch, Auckland, Napier, Nap...   \n",
       "442  [Whanganui, Whanganui, Taranaki, Stratford, Wh...   \n",
       "448  [Auckland, Hamilton, Tauranga, Nelson, Welling...   \n",
       "453  [Auckland, Wellington, Christchurch, Auckland,...   \n",
       "463  [Westport, Alexandra, Hokitika, Palmerston Nor...   \n",
       "487  [Northland, Northland, Auckland, Wellington, C...   \n",
       "488  [Wakefield, Northland, Wakefield, Wakefield, W...   \n",
       "544               [Richmond, Napier, Richmond, Napier]   \n",
       "546  [Auckland, Hamilton, Tauranga, Nelson, Welling...   \n",
       "547  [Auckland, Wellington, Christchurch, Auckland,...   \n",
       "559                                 [Raglan, Gisborne]   \n",
       "\n",
       "                                           regions_str   regions_str_main  \n",
       "66                             [Auckland, Hawke’s Bay]           Auckland  \n",
       "70   [Manawatu-Wanganui, West Coast, Canterbury, We...         West Coast  \n",
       "115  [Auckland, Auckland, Northland, Northland, Auc...           Auckland  \n",
       "135             [Auckland, Auckland, Waikato, Waikato]           Auckland  \n",
       "139                             [Auckland, Canterbury]           Auckland  \n",
       "156                             [Auckland, Wellington]           Auckland  \n",
       "188                            [Southland, Canterbury]          Southland  \n",
       "225                              [Gisborne, Northland]           Gisborne  \n",
       "254  [West Coast, Tasman, Marlborough, Otago, West ...         West Coast  \n",
       "259  [Waikato, Waikato, Bay of Plenty, Bay of Plent...            Waikato  \n",
       "293                       [Waikato, Manawatu-Wanganui]            Waikato  \n",
       "305                        [Waikato, Auckland, Tasman]            Waikato  \n",
       "308                  [Northland, Auckland, Canterbury]          Northland  \n",
       "309  [Taranaki, Canterbury, Taranaki, Auckland, Ota...         Canterbury  \n",
       "336                                 [Auckland, Tasman]           Auckland  \n",
       "354                        [Waikato, Auckland, Tasman]            Waikato  \n",
       "374  [Auckland, Wellington, Canterbury, Bay of Plenty]           Auckland  \n",
       "432  [Northland, Otago, Otago, Wellington, Northlan...          Northland  \n",
       "434  [Tasman, Northland, Tasman, Tasman, Northland,...             Tasman  \n",
       "441  [Auckland, Canterbury, Auckland, Hawke’s Bay, ...           Auckland  \n",
       "442  [Manawatu-Wanganui, Manawatu-Wanganui, Taranak...  Manawatu-Wanganui  \n",
       "448  [Auckland, Waikato, Bay of Plenty, Nelson, Wel...           Auckland  \n",
       "453  [Auckland, Wellington, Canterbury, Auckland, W...           Auckland  \n",
       "463  [West Coast, Otago, West Coast, Manawatu-Wanga...         West Coast  \n",
       "487  [Northland, Northland, Auckland, Wellington, C...           Gisborne  \n",
       "488  [Tasman, Northland, Tasman, Tasman, Northland,...             Tasman  \n",
       "544         [Tasman, Hawke’s Bay, Tasman, Hawke’s Bay]             Tasman  \n",
       "546  [Auckland, Waikato, Bay of Plenty, Nelson, Wel...           Auckland  \n",
       "547  [Auckland, Wellington, Canterbury, Auckland, W...           Auckland  \n",
       "559                                [Waikato, Gisborne]            Waikato  "
      ]
     },
     "execution_count": 44,
     "metadata": {},
     "output_type": "execute_result"
    }
   ],
   "source": [
    "tie_mask = [Counter(regions).most_common(2)[0][1] == Counter(regions).most_common(2)[1][1] \n",
    "            if len(Counter(regions).most_common(2)) > 1 else False\n",
    "            for regions in articles['regions_str']]\n",
    "\n",
    "articles[tie_mask][['URL', 'locations_str', 'regions_str', 'regions_str_main']].head(30)"
   ]
  },
  {
   "cell_type": "markdown",
   "id": "indoor-simulation",
   "metadata": {},
   "source": [
    "Some of these should be able to be resolved by parsing the URL for locations.\n",
    "\n",
    "e.g. auckland.scoop.co.nz/... -> Auckland, www.nzherald.co.nz/hawkes-bay-today/... -> Hawke's Bay"
   ]
  },
  {
   "cell_type": "markdown",
   "id": "psychological-banks",
   "metadata": {},
   "source": [
    "## Location Extraction #51: URL parsing\n",
    "\n",
    "Potential rules:\n",
    "- auckland.scoop, wellington.scoop\n",
    "- nzherald/bay-of-plenty-times, nzherald/hawkes-bay-today, nzherald/whanganui-chronicles"
   ]
  }
 ],
 "metadata": {
  "kernelspec": {
   "display_name": "Python 3",
   "language": "python",
   "name": "python3"
  },
  "language_info": {
   "codemirror_mode": {
    "name": "ipython",
    "version": 3
   },
   "file_extension": ".py",
   "mimetype": "text/x-python",
   "name": "python",
   "nbconvert_exporter": "python",
   "pygments_lexer": "ipython3",
   "version": "3.8.5"
  }
 },
 "nbformat": 4,
 "nbformat_minor": 5
}
