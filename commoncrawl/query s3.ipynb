{
 "cells": [
  {
   "cell_type": "markdown",
   "id": "empty-reception",
   "metadata": {},
   "source": [
    "## Trying to query S3 data directly (COMMON CRAWL)\n",
    "\n",
    "Currently this code is only querying an index of the recorded webpages, not the scraped records themselves. \n",
    "\n",
    "Then it uses the *(warc_filename, warc_record_offset, warc_record_offset)* to only download the relevant part of the relevant WARC file, from which the webpage's text is extracted."
   ]
  },
  {
   "cell_type": "code",
   "execution_count": 174,
   "id": "guided-census",
   "metadata": {},
   "outputs": [],
   "source": [
    "import boto3\n",
    "import subprocess\n",
    "import json\n",
    "import gzip\n",
    "import warcio\n",
    "import newspaper"
   ]
  },
  {
   "cell_type": "code",
   "execution_count": 2,
   "id": "absent-afternoon",
   "metadata": {},
   "outputs": [],
   "source": [
    "sess = boto3.session.Session(profile_name=\"xmiles\")\n",
    "# commoncrawl is hosted in us-east-1\n",
    "s3 = sess.client('s3')"
   ]
  },
  {
   "cell_type": "code",
   "execution_count": 192,
   "id": "patient-miniature",
   "metadata": {},
   "outputs": [
    {
     "name": "stdout",
     "output_type": "stream",
     "text": [
      "Downloaded\n",
      "Result is complete\n",
      "CPU times: user 25.7 ms, sys: 6.22 ms, total: 31.9 ms\n",
      "Wall time: 1.87 s\n"
     ]
    }
   ],
   "source": [
    "%%time\n",
    "# ALL FILES: s3://commoncrawl/crawl-data/cc-index/table/cc-main/warc/\n",
    "# s3://commoncrawl/cc-index/table/cc-main/warc/crawl=CC-MAIN-2021-10/subset=warc/part-00299-dbb5a216-bcb2-4bff-b117-e812a7981d21.c000.gz.parquet\n",
    "\n",
    "sql_str = \"\"\"\n",
    "    SELECT * FROM S3Object s\n",
    "    limit 20\n",
    "\"\"\"\n",
    "# WHERE s.url_host_tld='nz'\n",
    "\n",
    "resp = s3.select_object_content(\n",
    "    Bucket='commoncrawl',\n",
    "    Key='cc-index/table/cc-main/warc/crawl=CC-MAIN-2021-10/subset=warc/part-00290-dbb5a216-bcb2-4bff-b117-e812a7981d21.c000.gz.parquet',\n",
    "    #Key='cc-index/table/cc-main/warc/crawl=CC-MAIN-2021-10/subset=warc/part-00299-dbb5a216-bcb2-4bff-b117-e812a7981d21.c000.gz.parquet',\n",
    "    #Key='cc-index/table/cc-main/warc/crawl=CC-MAIN-2021-10/subset=warc/',\n",
    "    Expression=sql_str,\n",
    "    ExpressionType='SQL',\n",
    "    InputSerialization={'Parquet': {}},\n",
    "    OutputSerialization={'JSON': {}}\n",
    ")\n",
    "print(\"Downloaded\")\n",
    "\n",
    "end_event_received = False\n",
    "infos = []\n",
    "\n",
    "for event in resp['Payload']:\n",
    "    if 'Records' in event:\n",
    "        payload = event['Records']['Payload'].decode()\n",
    "        info = payload.split('\\n')[:-1]\n",
    "        \n",
    "        infos.append(info)\n",
    "    elif 'End' in event:\n",
    "        print('Result is complete')\n",
    "        end_event_received = True\n",
    "            \n",
    "if not end_event_received:\n",
    "    raise Exception(\"End event not received, request incomplete.\")"
   ]
  },
  {
   "cell_type": "code",
   "execution_count": 152,
   "id": "sustainable-sixth",
   "metadata": {},
   "outputs": [
    {
     "data": {
      "text/plain": [
       "['{\"url_surtkey\":\"com,extraspace)/storage/reserveorhold.aspx?uid=2510_7406\",\"url\":\"https://www.extraspace.com/storage/reserveorhold.aspx?uid=2510_7406\",\"url_host_name\":\"www.extraspace.com\",\"url_host_tld\":\"com\",\"url_host_2nd_last_part\":\"extraspace\",\"url_host_3rd_last_part\":\"www\",\"url_host_registry_suffix\":\"com\",\"url_host_registered_domain\":\"extraspace.com\",\"url_host_private_suffix\":\"com\",\"url_host_private_domain\":\"extraspace.com\",\"url_protocol\":\"https\",\"url_path\":\"/storage/reserveorhold.aspx\",\"url_query\":\"uid=2510_7406\",\"fetch_time\":\"2021-02-24T23:29:01.000Z\",\"fetch_status\":200,\"content_digest\":\"L5VNSRFOT6XKDLIC75WHNP7ON7S5EZ7G\",\"content_mime_type\":\"text/html\",\"content_mime_detected\":\"application/xhtml+xml\",\"content_charset\":\"UTF-8\",\"content_languages\":\"eng\",\"warc_filename\":\"crawl-data/CC-MAIN-2021-10/segments/1614178349708.2/warc/CC-MAIN-20210224223004-20210225013004-00497.warc.gz\",\"warc_record_offset\":725568062,\"warc_record_length\":20193,\"warc_segment\":\"1614178349708.2\"}',\n",
       " '{\"url_surtkey\":\"com,eventful-days)/\",\"url\":\"https://www.eventful-days.com/\",\"url_host_name\":\"www.eventful-days.com\",\"url_host_tld\":\"com\",\"url_host_2nd_last_part\":\"eventful-days\",\"url_host_3rd_last_part\":\"www\",\"url_host_registry_suffix\":\"com\",\"url_host_registered_domain\":\"eventful-days.com\",\"url_host_private_suffix\":\"com\",\"url_host_private_domain\":\"eventful-days.com\",\"url_protocol\":\"https\",\"url_path\":\"/\",\"fetch_time\":\"2021-03-02T00:36:19.000Z\",\"fetch_status\":200,\"content_digest\":\"CW75CLD4PJNM2FNSNXVAE46F6XPBIX3J\",\"content_mime_type\":\"text/html\",\"content_mime_detected\":\"text/html\",\"content_charset\":\"UTF-8\",\"content_languages\":\"eng\",\"warc_filename\":\"crawl-data/CC-MAIN-2021-10/segments/1614178363211.17/warc/CC-MAIN-20210302003534-20210302033534-00098.warc.gz\",\"warc_record_offset\":725963071,\"warc_record_length\":4414,\"warc_segment\":\"1614178363211.17\"}',\n",
       " '{\"url_surtkey\":\"com,extraspace)/storage/reserveorhold.aspx?uid=2510_7471\",\"url\":\"https://www.extraspace.com/storage/reserveorhold.aspx?uid=2510_7471\",\"url_host_name\":\"www.extraspace.com\",\"url_host_tld\":\"com\",\"url_host_2nd_last_part\":\"extraspace\",\"url_host_3rd_last_part\":\"www\",\"url_host_registry_suffix\":\"com\",\"url_host_registered_domain\":\"extraspace.com\",\"url_host_private_suffix\":\"com\",\"url_host_private_domain\":\"extraspace.com\",\"url_protocol\":\"https\",\"url_path\":\"/storage/reserveorhold.aspx\",\"url_query\":\"uid=2510_7471\",\"fetch_time\":\"2021-03-06T11:16:36.000Z\",\"fetch_status\":200,\"content_digest\":\"DA7L2FJHMPM2QZFSPPCA4TF7JYWYIGVE\",\"content_mime_type\":\"text/html\",\"content_mime_detected\":\"application/xhtml+xml\",\"content_charset\":\"UTF-8\",\"content_languages\":\"eng\",\"warc_filename\":\"crawl-data/CC-MAIN-2021-10/segments/1614178374686.69/warc/CC-MAIN-20210306100836-20210306130836-00069.warc.gz\",\"warc_record_offset\":764133406,\"warc_record_length\":19672,\"warc_segment\":\"1614178374686.69\"}']"
      ]
     },
     "execution_count": 152,
     "metadata": {},
     "output_type": "execute_result"
    }
   ],
   "source": [
    "test = infos[0]\n",
    "test[:3]"
   ]
  },
  {
   "cell_type": "code",
   "execution_count": 139,
   "id": "technological-drove",
   "metadata": {},
   "outputs": [
    {
     "data": {
      "text/plain": [
       "{'url_surtkey': 'com,eventfuladvantage)/2020/02/11/know-your-event-purpose-goals',\n",
       " 'url': 'https://eventfuladvantage.com/2020/02/11/know-your-event-purpose-goals/',\n",
       " 'url_host_name': 'eventfuladvantage.com',\n",
       " 'url_host_tld': 'com',\n",
       " 'url_host_2nd_last_part': 'eventfuladvantage',\n",
       " 'url_host_registry_suffix': 'com',\n",
       " 'url_host_registered_domain': 'eventfuladvantage.com',\n",
       " 'url_host_private_suffix': 'com',\n",
       " 'url_host_private_domain': 'eventfuladvantage.com',\n",
       " 'url_protocol': 'https',\n",
       " 'url_path': '/2020/02/11/know-your-event-purpose-goals/',\n",
       " 'fetch_time': '2021-03-06T01:04:13.000Z',\n",
       " 'fetch_status': 200,\n",
       " 'content_digest': '34NDPLJE2WBY7UGJLB7QKYN7M7MCIBUD',\n",
       " 'content_mime_type': 'text/html',\n",
       " 'content_mime_detected': 'text/html',\n",
       " 'content_charset': 'UTF-8',\n",
       " 'content_languages': 'eng',\n",
       " 'warc_filename': 'crawl-data/CC-MAIN-2021-10/segments/1614178374217.78/warc/CC-MAIN-20210306004859-20210306034859-00378.warc.gz',\n",
       " 'warc_record_offset': 323255944,\n",
       " 'warc_record_length': 18788,\n",
       " 'warc_segment': '1614178374217.78'}"
      ]
     },
     "execution_count": 139,
     "metadata": {},
     "output_type": "execute_result"
    }
   ],
   "source": [
    "test_json = json.loads(test[9])\n",
    "test_json"
   ]
  },
  {
   "cell_type": "code",
   "execution_count": 140,
   "id": "developmental-shift",
   "metadata": {},
   "outputs": [
    {
     "data": {
      "text/plain": [
       "(323255944, 323274732)"
      ]
     },
     "execution_count": 140,
     "metadata": {},
     "output_type": "execute_result"
    }
   ],
   "source": [
    "test_json['warc_record_offset'], test_json['warc_record_offset'] + test_json['warc_record_length']"
   ]
  },
  {
   "cell_type": "code",
   "execution_count": 141,
   "id": "secure-story",
   "metadata": {},
   "outputs": [
    {
     "data": {
      "text/plain": [
       "'bytes=323255944-323274732'"
      ]
     },
     "execution_count": 141,
     "metadata": {},
     "output_type": "execute_result"
    }
   ],
   "source": [
    "range_str = \"bytes={}-{}\".format(test_json['warc_record_offset'], \n",
    "                                 test_json['warc_record_offset'] + test_json['warc_record_length'])\n",
    "range_str"
   ]
  },
  {
   "cell_type": "code",
   "execution_count": 150,
   "id": "sixth-classroom",
   "metadata": {},
   "outputs": [
    {
     "ename": "TypeError",
     "evalue": "string indices must be integers",
     "output_type": "error",
     "traceback": [
      "\u001b[0;31m---------------------------------------------------------------------------\u001b[0m",
      "\u001b[0;31mTypeError\u001b[0m                                 Traceback (most recent call last)",
      "\u001b[0;32m<ipython-input-150-8491504e1dca>\u001b[0m in \u001b[0;36m<module>\u001b[0;34m\u001b[0m\n\u001b[1;32m      7\u001b[0m \u001b[0;31m# the last byte is omitted since it causes an error\u001b[0m\u001b[0;34m\u001b[0m\u001b[0;34m\u001b[0m\u001b[0;34m\u001b[0m\u001b[0m\n\u001b[1;32m      8\u001b[0m \u001b[0mwarc_contents\u001b[0m \u001b[0;34m=\u001b[0m \u001b[0mgzip\u001b[0m\u001b[0;34m.\u001b[0m\u001b[0mdecompress\u001b[0m\u001b[0;34m(\u001b[0m\u001b[0mtest_resp\u001b[0m\u001b[0;34m[\u001b[0m\u001b[0;34m'Body'\u001b[0m\u001b[0;34m]\u001b[0m\u001b[0;34m.\u001b[0m\u001b[0mread\u001b[0m\u001b[0;34m(\u001b[0m\u001b[0;34m)\u001b[0m\u001b[0;34m[\u001b[0m\u001b[0;34m:\u001b[0m\u001b[0;34m-\u001b[0m\u001b[0;36m1\u001b[0m\u001b[0;34m]\u001b[0m\u001b[0;34m)\u001b[0m\u001b[0;34m.\u001b[0m\u001b[0mdecode\u001b[0m\u001b[0;34m(\u001b[0m\u001b[0;34m)\u001b[0m\u001b[0;34m\u001b[0m\u001b[0;34m\u001b[0m\u001b[0m\n\u001b[0;32m----> 9\u001b[0;31m \u001b[0mwarc_contents\u001b[0m\u001b[0;34m[\u001b[0m\u001b[0;34m'WARC-Target-URI'\u001b[0m\u001b[0;34m]\u001b[0m\u001b[0;34m\u001b[0m\u001b[0;34m\u001b[0m\u001b[0m\n\u001b[0m",
      "\u001b[0;31mTypeError\u001b[0m: string indices must be integers"
     ]
    }
   ],
   "source": [
    "test_resp = s3.get_object(\n",
    "    Bucket=\"commoncrawl\",\n",
    "    Key=test_json['warc_filename'],\n",
    "    Range=range_str\n",
    ")\n",
    "\n",
    "# the last byte is omitted since it causes an error\n",
    "warc_contents = gzip.decompress(test_resp['Body'].read()[:-1]).decode()\n",
    "\n",
    "# how to parse WARC contents?\n",
    "# warc_contents['WARC-Target-URI']"
   ]
  },
  {
   "cell_type": "code",
   "execution_count": 171,
   "id": "conditional-patrol",
   "metadata": {},
   "outputs": [],
   "source": [
    "html_start = warc_contents.find('<!DOCTYPE html>')\n",
    "html_end = warc_contents.find('</html>') + len('</html>')\n",
    "html_contents = warc_contents[html_start:html_end]"
   ]
  },
  {
   "cell_type": "code",
   "execution_count": 173,
   "id": "portable-paradise",
   "metadata": {},
   "outputs": [],
   "source": [
    "if not html_contents.endswith('</html>'): \n",
    "    print(\"NOT CONFIGURED PROPERLY\")"
   ]
  },
  {
   "cell_type": "code",
   "execution_count": 180,
   "id": "boxed-explosion",
   "metadata": {},
   "outputs": [
    {
     "data": {
      "text/plain": [
       "'Know Your Event Purpose and Goals\\n\\nLike other parts of your marketing and sales strategy, you need to know your event purpose and goals to make sure and structure your event correctly from the very start of the planning stage to ensure that you get the results that you want and the return on your investment that you need.\\n\\nWhile some businesses are busy planning no less than seven different ways to market their business, there is a real power of events that gives you and your clients a more personal way to grow your business:\\n\\nit keeps your current clients engaged with your business;\\n\\nit can help you gain additional clients;\\n\\nit can help you increase your sales; and\\n\\nit can increase your brand visibility and awareness.\\n\\nOnce the purpose and goals of your event are defined, you can then build the rest of the event to support and achieve these. What your purpose and goals are can influence so many of the different elements of your event.\\n\\nTiming\\n\\nWhat is the best Date and Time to hold your event that is best for your purpose and goals.\\n\\nPlace/Venue\\n\\nWhere would be the best place to hold the event that is best for your purpose and goals.\\n\\nMarketing Communication\\n\\nWhat should be included in the communication and how do you plan to communicate to reach the people you want to that is best for your purpose and goals.\\n\\nMaterials Needed\\n\\nWhat do you need to have prepared to maximize the success of the event? For instance, a product launch will need the have the product available. If you are selling from a stage, you will need to have your program content and any appropriate attendee materials prepared.\\n\\nSignage and Display\\n\\nWhat is needed to help support your purpose and goals.\\n\\nBranding Elements\\n\\nWhat could be useful to help support your purpose and goals.\\n\\nEngagement and Interaction Activities\\n\\nThese could be added to your event and designed to help support your purpose and goals.\\n\\nSpeakers\\n\\nPerson/Topic could be chosen specifically with purpose and goals in mind.\\n\\nProgram Flow\\n\\nCould be intentionally set up to help you better achieve your purpose and goals\\n\\nBefore you start the planning of your event, identify your purpose and goals to ensure the highest success.\\n\\nTerri Lynn Yanke is Founder, CEO, Business and Brand Builder, Experience Maker of Eventful Advantage, a premiere Event Services company that focuses on business events. Eventful Advantage works with business owners and decision makers to help them build their business and brand with events while making sure that their attendees have memorable experiences. With different business packages for different business needs from consultation to full implementation, Eventful Advantage can help you create an event to bring you a return on your investment and grow your business and brand in a more personal way. The time is right and even if never considered before, events should be an integral part of your marketing and sales plan strategy. You will be amazed at your results!\\n\\nPhoto by You X Ventures on Unsplash'"
      ]
     },
     "execution_count": 180,
     "metadata": {},
     "output_type": "execute_result"
    }
   ],
   "source": [
    "article = newspaper.Article(url='')\n",
    "article.set_html(html_contents)\n",
    "article.parse()\n",
    "text = article.text\n",
    "text"
   ]
  },
  {
   "cell_type": "code",
   "execution_count": 185,
   "id": "dressed-density",
   "metadata": {},
   "outputs": [
    {
     "data": {
      "text/plain": [
       "['Know Your Event Purpose and Goals',\n",
       " 'Like other parts of your marketing and sales strategy, you need to know your event purpose and goals to make sure and structure your event correctly from the very start of the planning stage to ensure that you get the results that you want and the return on your investment that you need.',\n",
       " 'While some businesses are busy planning no less than seven different ways to market their business, there is a real power of events that gives you and your clients a more personal way to grow your business:',\n",
       " 'it keeps your current clients engaged with your business;',\n",
       " 'it can help you gain additional clients;',\n",
       " 'it can help you increase your sales; and',\n",
       " 'it can increase your brand visibility and awareness.',\n",
       " 'Once the purpose and goals of your event are defined, you can then build the rest of the event to support and achieve these. What your purpose and goals are can influence so many of the different elements of your event.',\n",
       " 'Timing',\n",
       " 'What is the best Date and Time to hold your event that is best for your purpose and goals.',\n",
       " 'Place/Venue',\n",
       " 'Where would be the best place to hold the event that is best for your purpose and goals.',\n",
       " 'Marketing Communication',\n",
       " 'What should be included in the communication and how do you plan to communicate to reach the people you want to that is best for your purpose and goals.',\n",
       " 'Materials Needed',\n",
       " 'What do you need to have prepared to maximize the success of the event? For instance, a product launch will need the have the product available. If you are selling from a stage, you will need to have your program content and any appropriate attendee materials prepared.',\n",
       " 'Signage and Display',\n",
       " 'What is needed to help support your purpose and goals.',\n",
       " 'Branding Elements',\n",
       " 'What could be useful to help support your purpose and goals.',\n",
       " 'Engagement and Interaction Activities',\n",
       " 'These could be added to your event and designed to help support your purpose and goals.',\n",
       " 'Speakers',\n",
       " 'Person/Topic could be chosen specifically with purpose and goals in mind.',\n",
       " 'Program Flow',\n",
       " 'Could be intentionally set up to help you better achieve your purpose and goals',\n",
       " 'Before you start the planning of your event, identify your purpose and goals to ensure the highest success.',\n",
       " 'Terri Lynn Yanke is Founder, CEO, Business and Brand Builder, Experience Maker of Eventful Advantage, a premiere Event Services company that focuses on business events. Eventful Advantage works with business owners and decision makers to help them build their business and brand with events while making sure that their attendees have memorable experiences. With different business packages for different business needs from consultation to full implementation, Eventful Advantage can help you create an event to bring you a return on your investment and grow your business and brand in a more personal way. The time is right and even if never considered before, events should be an integral part of your marketing and sales plan strategy. You will be amazed at your results!',\n",
       " 'Photo by You X Ventures on Unsplash']"
      ]
     },
     "execution_count": 185,
     "metadata": {},
     "output_type": "execute_result"
    }
   ],
   "source": [
    "phrases = list(filter(None, text.split('\\n')))\n",
    "phrases"
   ]
  }
 ],
 "metadata": {
  "kernelspec": {
   "display_name": "Python 3",
   "language": "python",
   "name": "python3"
  },
  "language_info": {
   "codemirror_mode": {
    "name": "ipython",
    "version": 3
   },
   "file_extension": ".py",
   "mimetype": "text/x-python",
   "name": "python",
   "nbconvert_exporter": "python",
   "pygments_lexer": "ipython3",
   "version": "3.8.5"
  }
 },
 "nbformat": 4,
 "nbformat_minor": 5
}
