{
 "cells": [
  {
   "cell_type": "code",
   "execution_count": 14,
   "id": "foreign-triangle",
   "metadata": {},
   "outputs": [],
   "source": [
    "import requests\n",
    "import re\n",
    "import csv, json\n",
    "import os\n",
    "import boto3\n",
    "from collections import Counter\n",
    "\n",
    "import numpy as np\n",
    "import pandas as pd\n",
    "from pandarallel import pandarallel\n",
    "\n",
    "import gensim"
   ]
  },
  {
   "cell_type": "code",
   "execution_count": 2,
   "id": "chinese-lingerie",
   "metadata": {},
   "outputs": [],
   "source": [
    "# Download hedonometer word happiness scores\n",
    "fname = \"hedonometer_words.json\"\n",
    "\n",
    "if not os.path.exists(fname):\n",
    "    r = requests.get(\"https://hedonometer.org/api/v1/words/?format=json&wordlist__title=labMT-en-v2\")\n",
    "    hedonometer = r.json()\n",
    "\n",
    "    with open(fname, 'w') as f:\n",
    "        json.dump(hedonometer, f)\n",
    "else:\n",
    "    with open(fname) as f:\n",
    "        hedonometer = json.load(f)"
   ]
  },
  {
   "cell_type": "code",
   "execution_count": 3,
   "id": "auburn-scene",
   "metadata": {},
   "outputs": [],
   "source": [
    "scores = {object['word']: object['happs'] for object in hedonometer['objects']}\n",
    "\n",
    "# The hedonometer filters all words out that have 4<happiness<6 to increase the sensitivity\n",
    "filtered_scores = {object['word']: object['happs'] for object in hedonometer['objects']\n",
    "                   if not (4 < object['happs'] < 6)}"
   ]
  },
  {
   "cell_type": "code",
   "execution_count": 4,
   "id": "incoming-joyce",
   "metadata": {},
   "outputs": [
    {
     "name": "stdout",
     "output_type": "stream",
     "text": [
      "can't: 3.42\n",
      "cannot: 3.32\n",
      "book: 7.24\n",
      "books: 7.28\n"
     ]
    }
   ],
   "source": [
    "for word in [\"can't\", \"cannot\", \"book\", \"books\"]: \n",
    "    print(f\"{word}: {filtered_scores[word]}\")"
   ]
  },
  {
   "cell_type": "code",
   "execution_count": 11,
   "id": "obvious-victoria",
   "metadata": {},
   "outputs": [
    {
     "name": "stdout",
     "output_type": "stream",
     "text": [
      "CPU times: user 1min 4s, sys: 8.25 s, total: 1min 12s\n",
      "Wall time: 1min 53s\n"
     ]
    }
   ],
   "source": [
    "%%time\n",
    "def read_csv_from_s3(bucket, key):\n",
    "    s3_client = sess.client('s3')\n",
    "    resp = s3_client.get_object(Bucket=bucket, Key=key)\n",
    "    # Python 3.8/3.9 can't download files over 2GB via HTTP, so file is \n",
    "    # streamed just in case\n",
    "    csv_str = b''.join([\n",
    "        chunk for chunk in resp['Body'].iter_chunks()\n",
    "    ]).decode()\n",
    "    \n",
    "    # keepends=True to preserve newlines within Text fields\n",
    "    csv_lines = csv_str.splitlines(keepends=True)\n",
    "    csv_list = list(csv.reader(csv_lines, quotechar='\"'))\n",
    "    df = pd.DataFrame(csv_list[1:], columns=csv_list[0])\n",
    "    \n",
    "    return df\n",
    "\n",
    "sess = boto3.Session(profile_name=\"xmiles\")\n",
    "s3 = sess.client('s3')\n",
    "output_keys = [\n",
    "    x['Key'] for x in\n",
    "    s3.list_objects_v2(Bucket=\"statsnz-covid-xmiles\", Prefix=\"commoncrawl/processed_ccmain_bunches/CC-MAIN-2021-10/\")['Contents']\n",
    "]\n",
    "\n",
    "ccmain = pd.concat((\n",
    "    read_csv_from_s3(\"statsnz-covid-xmiles\", key) for key in output_keys\n",
    ")).reset_index(drop=True)\n",
    "ccmain['Datetime'] = pd.to_datetime(ccmain['Datetime'], format=\"%Y-%m-%dT%H:%M:%S.000Z\")"
   ]
  },
  {
   "cell_type": "code",
   "execution_count": 12,
   "id": "institutional-transcription",
   "metadata": {},
   "outputs": [
    {
     "name": "stdout",
     "output_type": "stream",
     "text": [
      "<class 'pandas.core.frame.DataFrame'>\n",
      "Int64Index: 1676767 entries, 0 to 5580\n",
      "Data columns (total 3 columns):\n",
      " #   Column    Non-Null Count    Dtype         \n",
      "---  ------    --------------    -----         \n",
      " 0   Datetime  1676767 non-null  datetime64[ns]\n",
      " 1   URL       1676767 non-null  object        \n",
      " 2   Text      1676767 non-null  object        \n",
      "dtypes: datetime64[ns](1), object(2)\n",
      "memory usage: 51.2+ MB\n"
     ]
    }
   ],
   "source": [
    "ccmain.info()"
   ]
  },
  {
   "cell_type": "code",
   "execution_count": 13,
   "id": "c1356430-251f-47cb-96de-057925be5b25",
   "metadata": {},
   "outputs": [
    {
     "data": {
      "text/html": [
       "<div>\n",
       "<style scoped>\n",
       "    .dataframe tbody tr th:only-of-type {\n",
       "        vertical-align: middle;\n",
       "    }\n",
       "\n",
       "    .dataframe tbody tr th {\n",
       "        vertical-align: top;\n",
       "    }\n",
       "\n",
       "    .dataframe thead th {\n",
       "        text-align: right;\n",
       "    }\n",
       "</style>\n",
       "<table border=\"1\" class=\"dataframe\">\n",
       "  <thead>\n",
       "    <tr style=\"text-align: right;\">\n",
       "      <th></th>\n",
       "      <th>Datetime</th>\n",
       "      <th>URL</th>\n",
       "      <th>Text</th>\n",
       "    </tr>\n",
       "  </thead>\n",
       "  <tbody>\n",
       "    <tr>\n",
       "      <th>0</th>\n",
       "      <td>2021-03-05 13:19:47</td>\n",
       "      <td>http://0800treetrim.nz/</td>\n",
       "      <td>Trees And First Impressions When it comes to R...</td>\n",
       "    </tr>\n",
       "    <tr>\n",
       "      <th>1</th>\n",
       "      <td>2021-03-05 12:38:51</td>\n",
       "      <td>http://0800treetrim.nz/author/treeguys/</td>\n",
       "      <td>Tree Care And Tree Selection\\n\\nTree Care star...</td>\n",
       "    </tr>\n",
       "    <tr>\n",
       "      <th>2</th>\n",
       "      <td>2021-03-05 12:52:16</td>\n",
       "      <td>http://0800treetrim.nz/category/treework/</td>\n",
       "      <td>Tree Care And Tree Selection\\n\\nTree Care star...</td>\n",
       "    </tr>\n",
       "    <tr>\n",
       "      <th>3</th>\n",
       "      <td>2021-03-05 13:08:37</td>\n",
       "      <td>http://0800treetrim.nz/coming-soon/</td>\n",
       "      <td>Site under construction.\\n\\nNew tree service c...</td>\n",
       "    </tr>\n",
       "    <tr>\n",
       "      <th>4</th>\n",
       "      <td>2021-03-05 14:15:11</td>\n",
       "      <td>http://0800treetrim.nz/faqs/</td>\n",
       "      <td>Why 0800 Tree Trim Ltd is topping the competit...</td>\n",
       "    </tr>\n",
       "  </tbody>\n",
       "</table>\n",
       "</div>"
      ],
      "text/plain": [
       "             Datetime                                        URL  \\\n",
       "0 2021-03-05 13:19:47                    http://0800treetrim.nz/   \n",
       "1 2021-03-05 12:38:51    http://0800treetrim.nz/author/treeguys/   \n",
       "2 2021-03-05 12:52:16  http://0800treetrim.nz/category/treework/   \n",
       "3 2021-03-05 13:08:37        http://0800treetrim.nz/coming-soon/   \n",
       "4 2021-03-05 14:15:11               http://0800treetrim.nz/faqs/   \n",
       "\n",
       "                                                Text  \n",
       "0  Trees And First Impressions When it comes to R...  \n",
       "1  Tree Care And Tree Selection\\n\\nTree Care star...  \n",
       "2  Tree Care And Tree Selection\\n\\nTree Care star...  \n",
       "3  Site under construction.\\n\\nNew tree service c...  \n",
       "4  Why 0800 Tree Trim Ltd is topping the competit...  "
      ]
     },
     "execution_count": 13,
     "metadata": {},
     "output_type": "execute_result"
    }
   ],
   "source": [
    "ccmain.head()"
   ]
  },
  {
   "cell_type": "code",
   "execution_count": 34,
   "id": "4f6ffcc0-2ba6-4b1b-8185-42567331d5d5",
   "metadata": {},
   "outputs": [
    {
     "name": "stdout",
     "output_type": "stream",
     "text": [
      "CPU times: user 3.11 s, sys: 124 ms, total: 3.24 s\n",
      "Wall time: 3.24 s\n"
     ]
    }
   ],
   "source": [
    "%%time\n",
    "x = ccmain.loc[:10000, 'Text'].map(gensim.utils.simple_preprocess)"
   ]
  },
  {
   "cell_type": "code",
   "execution_count": 35,
   "id": "cb9f3a41-37fb-4749-aaeb-37634d8950f1",
   "metadata": {},
   "outputs": [
    {
     "name": "stdout",
     "output_type": "stream",
     "text": [
      "CPU times: user 1.11 s, sys: 28.7 ms, total: 1.14 s\n",
      "Wall time: 1.14 s\n"
     ]
    }
   ],
   "source": [
    "%%time\n",
    "y = [[word.lower() for word in re.findall(r\"[\\w']+\", text)] for text in ccmain.loc[:10000, 'Text']]"
   ]
  },
  {
   "cell_type": "code",
   "execution_count": null,
   "id": "f2f240e1-e836-458a-8b45-a34d46d74659",
   "metadata": {},
   "outputs": [],
   "source": [
    "%%time\n",
    "ccmain['words'] = ccmain['Text'].map(gensim.utils.simple_preprocess)"
   ]
  },
  {
   "cell_type": "code",
   "execution_count": null,
   "id": "civic-image",
   "metadata": {},
   "outputs": [],
   "source": [
    "def get_happiness_score(text, word_scores):\n",
    "    # Finds all words (including those with contractions)\n",
    "    words = re.findall(r\"[\\w']+\", text)\n",
    "    word_counts = Counter(words)\n",
    "    num_words = sum([count for word, count in word_counts.items() \n",
    "                     if word in word_scores.keys()])\n",
    "    \n",
    "    happiness_score = 0\n",
    "    for word in word_counts:\n",
    "        if word in word_scores:\n",
    "            norm_freq = word_counts[word] / num_words\n",
    "            happiness_score += word_scores[word] * norm_freq\n",
    "    \n",
    "    if happiness_score == 0:\n",
    "        happiness_score = 5  # the text is completely neutral\n",
    "        \n",
    "    return happiness_score"
   ]
  },
  {
   "cell_type": "code",
   "execution_count": null,
   "id": "bronze-blackjack",
   "metadata": {},
   "outputs": [],
   "source": [
    "# articles['Happiness'] = articles['Text'].map(get_happiness_score)\n",
    "ccmain['Happiness'] = [get_happiness_score(text_i, filtered_scores) for text_i in articles['Text']]"
   ]
  },
  {
   "cell_type": "code",
   "execution_count": null,
   "id": "irish-gambling",
   "metadata": {},
   "outputs": [],
   "source": [
    "print(\n",
    "    [word for word, count in Counter(re.findall(r\"[\\w']+\", ccmain.loc[3, 'Text'])).items() \n",
    "     if word in filtered_scores.keys()]\n",
    ")"
   ]
  },
  {
   "cell_type": "code",
   "execution_count": null,
   "id": "metallic-cameroon",
   "metadata": {},
   "outputs": [],
   "source": [
    "get_happiness_score(\"book\", filtered_scores)"
   ]
  },
  {
   "cell_type": "code",
   "execution_count": null,
   "id": "seven-archive",
   "metadata": {},
   "outputs": [],
   "source": [
    "# Get daily averages\n",
    "ccmain.resample('D', on='Datetime')['Happiness'].mean().dropna()"
   ]
  }
 ],
 "metadata": {
  "kernelspec": {
   "display_name": "Python 3",
   "language": "python",
   "name": "python3"
  },
  "language_info": {
   "codemirror_mode": {
    "name": "ipython",
    "version": 3
   },
   "file_extension": ".py",
   "mimetype": "text/x-python",
   "name": "python",
   "nbconvert_exporter": "python",
   "pygments_lexer": "ipython3",
   "version": "3.8.5"
  }
 },
 "nbformat": 4,
 "nbformat_minor": 5
}
