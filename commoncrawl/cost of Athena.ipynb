{
 "cells": [
  {
   "cell_type": "markdown",
   "id": "responsible-easter",
   "metadata": {},
   "source": [
    "# Cost of Athena on CC-MAIN index"
   ]
  },
  {
   "cell_type": "code",
   "execution_count": 1,
   "id": "hawaiian-alexandria",
   "metadata": {
    "tags": []
   },
   "outputs": [],
   "source": [
    "import subprocess\n",
    "import datetime"
   ]
  },
  {
   "cell_type": "code",
   "execution_count": 2,
   "id": "veterinary-auckland",
   "metadata": {},
   "outputs": [],
   "source": [
    "def get_ccmain_batches(years):\n",
    "    \"\"\"\n",
    "    Return list[string] of all CC-Main batches in the given years\n",
    "    \"\"\"\n",
    "    print(f\"Fetching CCMAIN URLs for years: {years}\")\n",
    "    index = subprocess.check_output([\"aws\", \"s3\", \"ls\", \"--no-sign-request\", \n",
    "                                     \"s3://commoncrawl/cc-index/table/cc-main/warc/\"])\n",
    "    index = [x.split(\"crawl=\")[1] for x in index.decode().split('\\n')[:-1]]\n",
    "    \n",
    "    # Subselect based on years provided\n",
    "    index_subset = [i for i in index if i.split('-')[2] in years]\n",
    "    \n",
    "    return index_subset"
   ]
  },
  {
   "cell_type": "code",
   "execution_count": 3,
   "id": "willing-immunology",
   "metadata": {},
   "outputs": [
    {
     "name": "stdout",
     "output_type": "stream",
     "text": [
      "Fetching CCMAIN URLs for years: ['2020', '2021']\n",
      "Batches:\n",
      "['CC-MAIN-2020-05/', 'CC-MAIN-2020-10/', 'CC-MAIN-2020-16/', 'CC-MAIN-2020-24/', 'CC-MAIN-2020-29/', 'CC-MAIN-2020-34/', 'CC-MAIN-2020-40/', 'CC-MAIN-2020-45/', 'CC-MAIN-2020-50/', 'CC-MAIN-2021-04/', 'CC-MAIN-2021-10/']\n"
     ]
    }
   ],
   "source": [
    "batches = get_ccmain_batches([\"2020\", \"2021\"])\n",
    "print(\"Batches:\")\n",
    "print(batches)"
   ]
  },
  {
   "cell_type": "code",
   "execution_count": 4,
   "id": "continuous-longitude",
   "metadata": {},
   "outputs": [],
   "source": [
    "def get_total_size(batch):\n",
    "    terminal = subprocess.check_output([\"aws\", \"s3\", \"ls\", \n",
    "                                        f\"commoncrawl/cc-index/table/cc-main/warc/crawl={batch}subset=warc/\", \n",
    "                                        \"--recursive\", \"--human-readable\", \"--summarize\", \"--no-sign-request\"]).decode()\n",
    "    idx = terminal.find('Total Size:')\n",
    "    total_size_str = terminal[idx:].rstrip()\n",
    "    \n",
    "    return total_size_str"
   ]
  },
  {
   "cell_type": "code",
   "execution_count": 5,
   "id": "oriental-representative",
   "metadata": {},
   "outputs": [
    {
     "data": {
      "text/plain": [
       "{'CC-MAIN-2020-05/': 'Total Size: 230.3 GiB',\n",
       " 'CC-MAIN-2020-10/': 'Total Size: 198.4 GiB',\n",
       " 'CC-MAIN-2020-16/': 'Total Size: 213.7 GiB',\n",
       " 'CC-MAIN-2020-24/': 'Total Size: 201.0 GiB',\n",
       " 'CC-MAIN-2020-29/': 'Total Size: 227.1 GiB',\n",
       " 'CC-MAIN-2020-34/': 'Total Size: 178.2 GiB',\n",
       " 'CC-MAIN-2020-40/': 'Total Size: 264.5 GiB',\n",
       " 'CC-MAIN-2020-45/': 'Total Size: 200.9 GiB',\n",
       " 'CC-MAIN-2020-50/': 'Total Size: 195.6 GiB',\n",
       " 'CC-MAIN-2021-04/': 'Total Size: 259.6 GiB',\n",
       " 'CC-MAIN-2021-10/': 'Total Size: 202.8 GiB'}"
      ]
     },
     "execution_count": 5,
     "metadata": {},
     "output_type": "execute_result"
    }
   ],
   "source": [
    "total_sizes = {batch: get_total_size(batch) for batch in batches}\n",
    "total_sizes"
   ]
  },
  {
   "cell_type": "code",
   "execution_count": 6,
   "id": "dietary-providence",
   "metadata": {},
   "outputs": [
    {
     "name": "stdout",
     "output_type": "stream",
     "text": [
      "Total size: 2547.02 GB or 2.55 TB\n",
      "Cost of querying 2020/2021: $12.7351\n",
      "\n",
      "as at 23/04/2021\n"
     ]
    }
   ],
   "source": [
    "total_sizes_float = [\n",
    "    float(total_sizes[batch].replace('Total Size: ', '').replace(' GiB', ''))\n",
    "    for batch in batches\n",
    "]\n",
    "total_GiB = sum(total_sizes_float)\n",
    "total_GB = total_GiB * (1024 ** 3 / 1000 ** 3)\n",
    "total_TB = total_GB / 1000\n",
    "\n",
    "print(f\"Total size: {round(total_GB, 2)} GB or {round(total_TB, 2)} TB\")\n",
    "\n",
    "# https://aws.amazon.com/athena/pricing/\n",
    "athena_price_per_TB = 5\n",
    "\n",
    "# Note that this cost only includes the currently released 2021 batches\n",
    "# There will be more released (thus higher cost) as time goes on\n",
    "current_date = datetime.datetime.now().strftime(\"%d/%m/%Y\")\n",
    "print(f\"Cost of querying 2020/2021: ${round(total_TB * athena_price_per_TB, 4)}\"\n",
    "      \"\\n\\n\"\n",
    "      f\"as at {current_date}\")"
   ]
  },
  {
   "cell_type": "markdown",
   "id": "ecological-resistance",
   "metadata": {},
   "source": [
    "**Do equivalent for all years.**"
   ]
  },
  {
   "cell_type": "code",
   "execution_count": 7,
   "id": "enclosed-means",
   "metadata": {},
   "outputs": [
    {
     "name": "stdout",
     "output_type": "stream",
     "text": [
      "FOR ALL YEARS (CC-MAIN-2013-20 till CC-MAIN-2021-10)\n",
      "\n",
      "Total size: 15.34 TB\n",
      "Cost of querying all years : $76.6985\n",
      "\n",
      "as at 23/04/2021\n"
     ]
    }
   ],
   "source": [
    "index = subprocess.check_output([\"aws\", \"s3\", \"ls\", \"--no-sign-request\", \n",
    "                                     \"s3://commoncrawl/cc-index/table/cc-main/warc/\"])\n",
    "all_batches = [x.split(\"crawl=\")[1] for x in index.decode().split('\\n')[:-1]]\n",
    "all_total_sizes = {batch: get_total_size(batch) for batch in all_batches}\n",
    "all_total_sizes_float = [\n",
    "    float(all_total_sizes[batch].replace('Total Size: ', '').replace(' GiB', ''))\n",
    "    for batch in all_batches\n",
    "]\n",
    "all_total_TB = sum(all_total_sizes_float) * (1024 ** 3 / 1000 ** 3) / 1000\n",
    "print(f\"FOR ALL YEARS ({all_batches[0][:-1]} till {all_batches[-1][:-1]})\\n\\n\"\n",
    "      f\"Total size: {round(all_total_TB, 2)} TB\\n\"\n",
    "      f\"Cost of querying all years : ${round(all_total_TB * athena_price_per_TB, 4)}\"\n",
    "      \"\\n\\n\"\n",
    "      f\"as at {current_date}\")"
   ]
  }
 ],
 "metadata": {
  "kernelspec": {
   "display_name": "Python 3",
   "language": "python",
   "name": "python3"
  },
  "language_info": {
   "codemirror_mode": {
    "name": "ipython",
    "version": 3
   },
   "file_extension": ".py",
   "mimetype": "text/x-python",
   "name": "python",
   "nbconvert_exporter": "python",
   "pygments_lexer": "ipython3",
   "version": "3.8.5"
  }
 },
 "nbformat": 4,
 "nbformat_minor": 5
}
